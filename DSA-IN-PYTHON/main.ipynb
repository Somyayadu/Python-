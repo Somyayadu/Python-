{
 "cells": [
  {
   "cell_type": "markdown",
   "id": "724c27c9",
   "metadata": {},
   "source": [
    "DSA IN PYTHON \n"
   ]
  },
  {
   "cell_type": "code",
   "execution_count": 293,
   "id": "8f9f2f1d",
   "metadata": {},
   "outputs": [
    {
     "name": "stdout",
     "output_type": "stream",
     "text": [
      "15\n",
      "120\n"
     ]
    }
   ],
   "source": [
    "l = [1,2,3,4,5]\n",
    "\n",
    "sum = 0\n",
    "for i in l :\n",
    "    sum = sum+i\n",
    "print(sum)\n",
    "\n",
    "product = 1\n",
    "for i in l :\n",
    "    product = product*i\n",
    "print(product)"
   ]
  },
  {
   "cell_type": "code",
   "execution_count": 294,
   "id": "11b602cb",
   "metadata": {},
   "outputs": [
    {
     "name": "stdout",
     "output_type": "stream",
     "text": [
      "(1,1)\n",
      "(1,2)\n",
      "(1,3)\n",
      "(1,4)\n",
      "(1,5)\n",
      "(2,1)\n",
      "(2,2)\n",
      "(2,3)\n",
      "(2,4)\n",
      "(2,5)\n",
      "(3,1)\n",
      "(3,2)\n",
      "(3,3)\n",
      "(3,4)\n",
      "(3,5)\n",
      "(4,1)\n",
      "(4,2)\n",
      "(4,3)\n",
      "(4,4)\n",
      "(4,5)\n",
      "(5,1)\n",
      "(5,2)\n",
      "(5,3)\n",
      "(5,4)\n",
      "(5,5)\n"
     ]
    }
   ],
   "source": [
    "for i in l:\n",
    "    for j in l:\n",
    "        print('({},{})'.format(i,j))"
   ]
  },
  {
   "cell_type": "code",
   "execution_count": 295,
   "id": "7c1a4f77",
   "metadata": {},
   "outputs": [
    {
     "name": "stdout",
     "output_type": "stream",
     "text": [
      "123\n"
     ]
    }
   ],
   "source": [
    "def intTOStr(i):\n",
    "    digit = '0123456789'\n",
    "    if i ==0:\n",
    "        return '0'\n",
    "    result = ''\n",
    "    while i > 0:\n",
    "        result = digit[i%10]+result\n",
    "        i= i//10\n",
    "    return result\n",
    "\n",
    "print(intTOStr(123))"
   ]
  },
  {
   "cell_type": "markdown",
   "id": "35bd12bc",
   "metadata": {},
   "source": [
    "ARRAY -- MERA LIST"
   ]
  },
  {
   "cell_type": "code",
   "execution_count": 296,
   "id": "87c61dff",
   "metadata": {},
   "outputs": [],
   "source": [
    "import ctypes"
   ]
  },
  {
   "cell_type": "code",
   "execution_count": 297,
   "id": "527df4c8",
   "metadata": {},
   "outputs": [],
   "source": [
    "class meralist:\n",
    "\n",
    "    def __init__(self):\n",
    "        self.size=1\n",
    "        self.n=0\n",
    "\n",
    "        self.a = self.__make_array(self.size)\n",
    "\n",
    "    def __len__(self):\n",
    "        return self.n\n",
    "    \n",
    "    def __str__(self):\n",
    "        result = ''\n",
    "        for i in range(self.n):\n",
    "            result = result + str(self.a[i] )+ ','\n",
    "\n",
    "        return '[' + result[:-1] + ']'\n",
    "    \n",
    "    def __getitem__(self,index):\n",
    "        if 0 <= index < self.n:\n",
    "         return self.a[index]\n",
    "        else:\n",
    "            return 'IndexError - index out of range'\n",
    "        \n",
    "    def __delitem__(self,pos):\n",
    "\n",
    "        for i in range(pos,self.n-1):\n",
    "            self.a[i]= self.a[i+1]\n",
    "\n",
    "        self.n = self.n-1    \n",
    "    \n",
    "    def append(self,item):\n",
    "        if self.n == self.size:\n",
    "         self.__resize(self.size*2)\n",
    "\n",
    "        self.a[self.n]=item\n",
    "        self.n = self.n + 1\n",
    "\n",
    "    def pop(self):\n",
    "        if self.n == 0:\n",
    "            return 'empty list'\n",
    "        print(self.a[self.n-1])\n",
    "        self.n = self.n - 1\n",
    "\n",
    "    def clear(self):\n",
    "        self.n = 0\n",
    "        self.size = 1\n",
    "\n",
    "    def find(self,item):\n",
    "\n",
    "        for i in range(self.n):\n",
    "            if self.a[i] == item:\n",
    "                return i\n",
    "            \n",
    "        return 'ValueError - not in list'\n",
    "    \n",
    "    def insert(self,item,pos):\n",
    "\n",
    "        if self.n == self.size:\n",
    "            self.__resize(self.size*2)\n",
    "\n",
    "        for i in range(self.n,pos,-1):\n",
    "            self.a[i]=self.a[i-1]\n",
    "\n",
    "        self.a[pos] =item\n",
    "        self.n = self.n+1\n",
    "\n",
    "    def remove(self,item):\n",
    "        pos = self.find(item)\n",
    "\n",
    "        if type(pos) == int:\n",
    "            self.__delitem__(pos)\n",
    "        else:\n",
    "            return pos \n",
    "\n",
    "    def __resize(self,new_capacity):\n",
    "        b = self.__make_array(new_capacity)\n",
    "        self.size = new_capacity\n",
    "\n",
    "        for i in range(self.n):\n",
    "            b[i]= self.a[i]\n",
    "        self.a = b\n",
    "\n",
    "    def __make_array(self,capacity):\n",
    "        return(capacity*ctypes.py_object)()"
   ]
  },
  {
   "cell_type": "code",
   "execution_count": 298,
   "id": "d33a8f51",
   "metadata": {},
   "outputs": [],
   "source": [
    "l = meralist()"
   ]
  },
  {
   "cell_type": "code",
   "execution_count": 299,
   "id": "53981d06",
   "metadata": {},
   "outputs": [],
   "source": [
    "l.append('hello')\n",
    "l.append(3.4)\n",
    "l.append(True)\n",
    "l.append(100)"
   ]
  },
  {
   "cell_type": "code",
   "execution_count": 300,
   "id": "6999e0af",
   "metadata": {},
   "outputs": [
    {
     "name": "stdout",
     "output_type": "stream",
     "text": [
      "[hello,3.4,True,100]\n"
     ]
    }
   ],
   "source": [
    "print(l)"
   ]
  },
  {
   "cell_type": "code",
   "execution_count": 301,
   "id": "4a14ee2e",
   "metadata": {},
   "outputs": [],
   "source": [
    "l.remove(100)"
   ]
  },
  {
   "cell_type": "code",
   "execution_count": 302,
   "id": "6bb2c2a8",
   "metadata": {},
   "outputs": [],
   "source": [
    "del l[3]"
   ]
  },
  {
   "cell_type": "code",
   "execution_count": 303,
   "id": "e5134928",
   "metadata": {},
   "outputs": [],
   "source": [
    "l.insert(0,0)"
   ]
  },
  {
   "cell_type": "code",
   "execution_count": 304,
   "id": "f27fc33c",
   "metadata": {},
   "outputs": [
    {
     "name": "stdout",
     "output_type": "stream",
     "text": [
      "[0,hello,3.4]\n"
     ]
    }
   ],
   "source": [
    "print(l)"
   ]
  },
  {
   "cell_type": "code",
   "execution_count": 305,
   "id": "4456bcd9",
   "metadata": {},
   "outputs": [
    {
     "data": {
      "text/plain": [
       "'ValueError - not in list'"
      ]
     },
     "execution_count": 305,
     "metadata": {},
     "output_type": "execute_result"
    }
   ],
   "source": [
    "l.find(100)"
   ]
  },
  {
   "cell_type": "code",
   "execution_count": 306,
   "id": "54107dc5",
   "metadata": {},
   "outputs": [],
   "source": [
    "l.clear()"
   ]
  },
  {
   "cell_type": "code",
   "execution_count": 307,
   "id": "84bc5631",
   "metadata": {},
   "outputs": [
    {
     "data": {
      "text/plain": [
       "'empty list'"
      ]
     },
     "execution_count": 307,
     "metadata": {},
     "output_type": "execute_result"
    }
   ],
   "source": [
    "l.pop()"
   ]
  },
  {
   "cell_type": "code",
   "execution_count": 308,
   "id": "dda4ebc1",
   "metadata": {},
   "outputs": [
    {
     "name": "stdout",
     "output_type": "stream",
     "text": [
      "[]\n"
     ]
    }
   ],
   "source": [
    "print(l)"
   ]
  },
  {
   "cell_type": "code",
   "execution_count": 309,
   "id": "aaed0490",
   "metadata": {},
   "outputs": [
    {
     "data": {
      "text/plain": [
       "'IndexError - index out of range'"
      ]
     },
     "execution_count": 309,
     "metadata": {},
     "output_type": "execute_result"
    }
   ],
   "source": [
    "l[1]"
   ]
  },
  {
   "cell_type": "code",
   "execution_count": 310,
   "id": "2ab1e8a5",
   "metadata": {},
   "outputs": [
    {
     "data": {
      "text/plain": [
       "'IndexError - index out of range'"
      ]
     },
     "execution_count": 310,
     "metadata": {},
     "output_type": "execute_result"
    }
   ],
   "source": [
    "l[4]"
   ]
  },
  {
   "cell_type": "code",
   "execution_count": 311,
   "id": "f630c860",
   "metadata": {},
   "outputs": [
    {
     "data": {
      "text/plain": [
       "0"
      ]
     },
     "execution_count": 311,
     "metadata": {},
     "output_type": "execute_result"
    }
   ],
   "source": [
    "len(l)"
   ]
  },
  {
   "cell_type": "code",
   "execution_count": 312,
   "id": "eb6ef2e3",
   "metadata": {},
   "outputs": [],
   "source": [
    "l.append(1)"
   ]
  },
  {
   "cell_type": "code",
   "execution_count": 313,
   "id": "659dd4a8",
   "metadata": {},
   "outputs": [
    {
     "name": "stdout",
     "output_type": "stream",
     "text": [
      "[1]\n"
     ]
    }
   ],
   "source": [
    "print(l)"
   ]
  },
  {
   "cell_type": "markdown",
   "id": "0844e731",
   "metadata": {},
   "source": [
    "LINKED LIST"
   ]
  },
  {
   "cell_type": "code",
   "execution_count": 314,
   "id": "629a992c",
   "metadata": {},
   "outputs": [],
   "source": [
    "class node:\n",
    "\n",
    "    def __init__(self,value):\n",
    "        self.data = value\n",
    "        self.next = None"
   ]
  },
  {
   "cell_type": "code",
   "execution_count": 315,
   "id": "b8cf6fbe",
   "metadata": {},
   "outputs": [],
   "source": [
    "a = node(1)"
   ]
  },
  {
   "cell_type": "code",
   "execution_count": 316,
   "id": "6f99b1c3",
   "metadata": {},
   "outputs": [
    {
     "name": "stdout",
     "output_type": "stream",
     "text": [
      "1\n"
     ]
    }
   ],
   "source": [
    "print(a.data)"
   ]
  },
  {
   "cell_type": "code",
   "execution_count": 317,
   "id": "465fccc7",
   "metadata": {},
   "outputs": [
    {
     "name": "stdout",
     "output_type": "stream",
     "text": [
      "None\n"
     ]
    }
   ],
   "source": [
    "print(a.next)"
   ]
  },
  {
   "cell_type": "code",
   "execution_count": 318,
   "id": "f77f9863",
   "metadata": {},
   "outputs": [],
   "source": [
    "a = node(1)\n",
    "b = node(2)\n",
    "c = node(3)"
   ]
  },
  {
   "cell_type": "code",
   "execution_count": 319,
   "id": "d030fcca",
   "metadata": {},
   "outputs": [
    {
     "name": "stdout",
     "output_type": "stream",
     "text": [
      "3\n"
     ]
    }
   ],
   "source": [
    "print(c.data)"
   ]
  },
  {
   "cell_type": "code",
   "execution_count": 320,
   "id": "32b4fd07",
   "metadata": {},
   "outputs": [
    {
     "data": {
      "text/plain": [
       "2279390603920"
      ]
     },
     "execution_count": 320,
     "metadata": {},
     "output_type": "execute_result"
    }
   ],
   "source": [
    "id(a)"
   ]
  },
  {
   "cell_type": "code",
   "execution_count": 321,
   "id": "8438fe10",
   "metadata": {},
   "outputs": [
    {
     "data": {
      "text/plain": [
       "2279390721936"
      ]
     },
     "execution_count": 321,
     "metadata": {},
     "output_type": "execute_result"
    }
   ],
   "source": [
    "id(b)"
   ]
  },
  {
   "cell_type": "code",
   "execution_count": 322,
   "id": "36a350e8",
   "metadata": {},
   "outputs": [
    {
     "data": {
      "text/plain": [
       "2279384879568"
      ]
     },
     "execution_count": 322,
     "metadata": {},
     "output_type": "execute_result"
    }
   ],
   "source": [
    "id(c)"
   ]
  },
  {
   "cell_type": "code",
   "execution_count": 323,
   "id": "aeb3ccf4",
   "metadata": {},
   "outputs": [],
   "source": [
    "a.next = b\n",
    "b.next = c"
   ]
  },
  {
   "cell_type": "code",
   "execution_count": 324,
   "id": "ef850f4e",
   "metadata": {},
   "outputs": [
    {
     "name": "stdout",
     "output_type": "stream",
     "text": [
      "<__main__.node object at 0x00000212B5ED11D0>\n"
     ]
    }
   ],
   "source": [
    "print(b.next)"
   ]
  },
  {
   "cell_type": "code",
   "execution_count": 325,
   "id": "c8de00ba",
   "metadata": {},
   "outputs": [
    {
     "name": "stdout",
     "output_type": "stream",
     "text": [
      "None\n"
     ]
    }
   ],
   "source": [
    "print(c.next)"
   ]
  },
  {
   "cell_type": "code",
   "execution_count": 326,
   "id": "75188a10",
   "metadata": {},
   "outputs": [],
   "source": [
    "class node:\n",
    "\n",
    "    def __init__(self,value):\n",
    "        self.data = value\n",
    "        self.next = None"
   ]
  },
  {
   "cell_type": "code",
   "execution_count": 327,
   "id": "e2690fd4",
   "metadata": {},
   "outputs": [],
   "source": [
    "class linklist:\n",
    "\n",
    "    def __init__(self):\n",
    "\n",
    "        self.head = None\n",
    "        self.n = 0\n",
    "\n",
    "\n",
    "    def __len__(self):\n",
    "        return self.n\n",
    "\n",
    "\n",
    "    def insert_head(self,value):\n",
    "        new_node= node(value)\n",
    "\n",
    "        new_node.next= self.head\n",
    "\n",
    "        self.head = new_node\n",
    "\n",
    "        self.n = self.n +1\n",
    "\n",
    "    def __str__(self):\n",
    "\n",
    "        curr = self.head\n",
    "\n",
    "        result = ''\n",
    "\n",
    "        while curr != None:\n",
    "            result = result+ str(curr.data)+'->'\n",
    "            curr = curr.next\n",
    "\n",
    "        return result[:-2]\n",
    "    \n",
    "    def append(self,value):\n",
    "\n",
    "        new_node =node(value)\n",
    "\n",
    "        if self.head == None:\n",
    "            self.head = new_node\n",
    "            self.n = self.n +1\n",
    "            return\n",
    "    \n",
    "\n",
    "        curr = self.head\n",
    "\n",
    "        while curr.next !=None:\n",
    "            \n",
    "            curr = curr.next\n",
    "\n",
    "        curr.next = new_node\n",
    "        self.n = self.n +1\n"
   ]
  },
  {
   "cell_type": "code",
   "execution_count": 328,
   "id": "f207bf46",
   "metadata": {},
   "outputs": [],
   "source": [
    "l = linklist()"
   ]
  },
  {
   "cell_type": "code",
   "execution_count": 329,
   "id": "d396e4e5",
   "metadata": {},
   "outputs": [
    {
     "data": {
      "text/plain": [
       "0"
      ]
     },
     "execution_count": 329,
     "metadata": {},
     "output_type": "execute_result"
    }
   ],
   "source": [
    "len(l)"
   ]
  },
  {
   "cell_type": "code",
   "execution_count": 330,
   "id": "592e4f9e",
   "metadata": {},
   "outputs": [],
   "source": [
    "l.insert_head(1)\n",
    "l.insert_head(2)\n",
    "l.insert_head(3)\n",
    "l.insert_head(4)"
   ]
  },
  {
   "cell_type": "code",
   "execution_count": 331,
   "id": "fb7e57f6",
   "metadata": {},
   "outputs": [
    {
     "data": {
      "text/plain": [
       "4"
      ]
     },
     "execution_count": 331,
     "metadata": {},
     "output_type": "execute_result"
    }
   ],
   "source": [
    "len(l)"
   ]
  },
  {
   "cell_type": "code",
   "execution_count": 332,
   "id": "530c01a4",
   "metadata": {},
   "outputs": [
    {
     "name": "stdout",
     "output_type": "stream",
     "text": [
      "4->3->2->1\n"
     ]
    }
   ],
   "source": [
    "print(l)"
   ]
  },
  {
   "cell_type": "code",
   "execution_count": 333,
   "id": "7a5fc7d9",
   "metadata": {},
   "outputs": [],
   "source": [
    "l.append(5)"
   ]
  },
  {
   "cell_type": "code",
   "execution_count": 334,
   "id": "cb065c54",
   "metadata": {},
   "outputs": [
    {
     "name": "stdout",
     "output_type": "stream",
     "text": [
      "4->3->2->1->5\n"
     ]
    }
   ],
   "source": [
    "print(l)"
   ]
  },
  {
   "cell_type": "code",
   "execution_count": null,
   "id": "09d01581",
   "metadata": {},
   "outputs": [],
   "source": []
  }
 ],
 "metadata": {
  "kernelspec": {
   "display_name": "Python 3",
   "language": "python",
   "name": "python3"
  },
  "language_info": {
   "codemirror_mode": {
    "name": "ipython",
    "version": 3
   },
   "file_extension": ".py",
   "mimetype": "text/x-python",
   "name": "python",
   "nbconvert_exporter": "python",
   "pygments_lexer": "ipython3",
   "version": "3.11.9"
  }
 },
 "nbformat": 4,
 "nbformat_minor": 5
}
