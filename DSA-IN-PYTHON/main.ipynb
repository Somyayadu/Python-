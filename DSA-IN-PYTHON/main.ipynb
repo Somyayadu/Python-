{
 "cells": [
  {
   "cell_type": "markdown",
   "id": "724c27c9",
   "metadata": {},
   "source": [
    "DSA IN PYTHON \n"
   ]
  },
  {
   "cell_type": "code",
   "execution_count": null,
   "id": "8f9f2f1d",
   "metadata": {},
   "outputs": [
    {
     "name": "stdout",
     "output_type": "stream",
     "text": [
      "15\n",
      "120\n"
     ]
    }
   ],
   "source": [
    "l = [1,2,3,4,5]\n",
    "\n",
    "sum = 0\n",
    "for i in l :\n",
    "    sum = sum+i\n",
    "print(sum)\n",
    "\n",
    "product = 1\n",
    "for i in l :\n",
    "    product = product*i\n",
    "print(product)"
   ]
  },
  {
   "cell_type": "code",
   "execution_count": 2,
   "id": "11b602cb",
   "metadata": {},
   "outputs": [
    {
     "name": "stdout",
     "output_type": "stream",
     "text": [
      "(1,1)\n",
      "(1,2)\n",
      "(1,3)\n",
      "(1,4)\n",
      "(1,5)\n",
      "(2,1)\n",
      "(2,2)\n",
      "(2,3)\n",
      "(2,4)\n",
      "(2,5)\n",
      "(3,1)\n",
      "(3,2)\n",
      "(3,3)\n",
      "(3,4)\n",
      "(3,5)\n",
      "(4,1)\n",
      "(4,2)\n",
      "(4,3)\n",
      "(4,4)\n",
      "(4,5)\n",
      "(5,1)\n",
      "(5,2)\n",
      "(5,3)\n",
      "(5,4)\n",
      "(5,5)\n"
     ]
    }
   ],
   "source": [
    "for i in l:\n",
    "    for j in l:\n",
    "        print('({},{})'.format(i,j))"
   ]
  },
  {
   "cell_type": "code",
   "execution_count": 6,
   "id": "7c1a4f77",
   "metadata": {},
   "outputs": [
    {
     "name": "stdout",
     "output_type": "stream",
     "text": [
      "123\n"
     ]
    }
   ],
   "source": [
    "def intTOStr(i):\n",
    "    digit = '0123456789'\n",
    "    if i ==0:\n",
    "        return '0'\n",
    "    result = ''\n",
    "    while i > 0:\n",
    "        result = digit[i%10]+result\n",
    "        i= i//10\n",
    "    return result\n",
    "\n",
    "print(intTOStr(123))"
   ]
  },
  {
   "cell_type": "code",
   "execution_count": null,
   "id": "87c61dff",
   "metadata": {},
   "outputs": [],
   "source": []
  }
 ],
 "metadata": {
  "kernelspec": {
   "display_name": "Python 3",
   "language": "python",
   "name": "python3"
  },
  "language_info": {
   "codemirror_mode": {
    "name": "ipython",
    "version": 3
   },
   "file_extension": ".py",
   "mimetype": "text/x-python",
   "name": "python",
   "nbconvert_exporter": "python",
   "pygments_lexer": "ipython3",
   "version": "3.11.9"
  }
 },
 "nbformat": 4,
 "nbformat_minor": 5
}
