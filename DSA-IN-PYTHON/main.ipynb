{
 "cells": [
  {
   "cell_type": "markdown",
   "id": "724c27c9",
   "metadata": {},
   "source": [
    "DSA IN PYTHON \n"
   ]
  },
  {
   "cell_type": "code",
   "execution_count": 9,
   "id": "8f9f2f1d",
   "metadata": {},
   "outputs": [
    {
     "name": "stdout",
     "output_type": "stream",
     "text": [
      "15\n",
      "120\n"
     ]
    }
   ],
   "source": [
    "l = [1,2,3,4,5]\n",
    "\n",
    "sum = 0\n",
    "for i in l :\n",
    "    sum = sum+i\n",
    "print(sum)\n",
    "\n",
    "product = 1\n",
    "for i in l :\n",
    "    product = product*i\n",
    "print(product)"
   ]
  },
  {
   "cell_type": "code",
   "execution_count": 10,
   "id": "11b602cb",
   "metadata": {},
   "outputs": [
    {
     "name": "stdout",
     "output_type": "stream",
     "text": [
      "(1,1)\n",
      "(1,2)\n",
      "(1,3)\n",
      "(1,4)\n",
      "(1,5)\n",
      "(2,1)\n",
      "(2,2)\n",
      "(2,3)\n",
      "(2,4)\n",
      "(2,5)\n",
      "(3,1)\n",
      "(3,2)\n",
      "(3,3)\n",
      "(3,4)\n",
      "(3,5)\n",
      "(4,1)\n",
      "(4,2)\n",
      "(4,3)\n",
      "(4,4)\n",
      "(4,5)\n",
      "(5,1)\n",
      "(5,2)\n",
      "(5,3)\n",
      "(5,4)\n",
      "(5,5)\n"
     ]
    }
   ],
   "source": [
    "for i in l:\n",
    "    for j in l:\n",
    "        print('({},{})'.format(i,j))"
   ]
  },
  {
   "cell_type": "code",
   "execution_count": 11,
   "id": "7c1a4f77",
   "metadata": {},
   "outputs": [
    {
     "name": "stdout",
     "output_type": "stream",
     "text": [
      "123\n"
     ]
    }
   ],
   "source": [
    "def intTOStr(i):\n",
    "    digit = '0123456789'\n",
    "    if i ==0:\n",
    "        return '0'\n",
    "    result = ''\n",
    "    while i > 0:\n",
    "        result = digit[i%10]+result\n",
    "        i= i//10\n",
    "    return result\n",
    "\n",
    "print(intTOStr(123))"
   ]
  },
  {
   "cell_type": "markdown",
   "id": "35bd12bc",
   "metadata": {},
   "source": [
    "ARRAY -- MERA LIST"
   ]
  },
  {
   "cell_type": "code",
   "execution_count": 12,
   "id": "87c61dff",
   "metadata": {},
   "outputs": [],
   "source": [
    "import ctypes"
   ]
  },
  {
   "cell_type": "code",
   "execution_count": 13,
   "id": "527df4c8",
   "metadata": {},
   "outputs": [],
   "source": [
    "class meralist:\n",
    "\n",
    "    def __init__(self):\n",
    "        self.size=1\n",
    "        self.n=0\n",
    "\n",
    "        self.a = self.__make_array(self.size)\n",
    "\n",
    "    def __len__(self):\n",
    "        return self.n\n",
    "    \n",
    "    def __str__(self):\n",
    "        result = ''\n",
    "        for i in range(self.n):\n",
    "            result = result + str(self.a[i] )+ ','\n",
    "\n",
    "        return '[' + result[:-1] + ']'\n",
    "    \n",
    "    def __getitem__(self,index):\n",
    "        if 0 <= index < self.n:\n",
    "         return self.a[index]\n",
    "        else:\n",
    "            return 'IndexError - index out of range'\n",
    "        \n",
    "    def __delitem__(self,pos):\n",
    "\n",
    "        for i in range(pos,self.n-1):\n",
    "            self.a[i]= self.a[i+1]\n",
    "\n",
    "        self.n = self.n-1    \n",
    "    \n",
    "    def append(self,item):\n",
    "        if self.n == self.size:\n",
    "         self.__resize(self.size*2)\n",
    "\n",
    "        self.a[self.n]=item\n",
    "        self.n = self.n + 1\n",
    "\n",
    "    def pop(self):\n",
    "        if self.n == 0:\n",
    "            return 'empty list'\n",
    "        print(self.a[self.n-1])\n",
    "        self.n = self.n - 1\n",
    "\n",
    "    def clear(self):\n",
    "        self.n = 0\n",
    "        self.size = 1\n",
    "\n",
    "    def find(self,item):\n",
    "\n",
    "        for i in range(self.n):\n",
    "            if self.a[i] == item:\n",
    "                return i\n",
    "            \n",
    "        return 'ValueError - not in list'\n",
    "    \n",
    "    def insert(self,item,pos):\n",
    "\n",
    "        if self.n == self.size:\n",
    "            self.__resize(self.size*2)\n",
    "\n",
    "        for i in range(self.n,pos,-1):\n",
    "            self.a[i]=self.a[i-1]\n",
    "\n",
    "        self.a[pos] =item\n",
    "        self.n = self.n+1\n",
    "\n",
    "    def remove(self,item):\n",
    "        pos = self.find(item)\n",
    "\n",
    "        if type(pos) == int:\n",
    "            self.__delitem__(pos)\n",
    "        else:\n",
    "            return pos \n",
    "\n",
    "    def __resize(self,new_capacity):\n",
    "        b = self.__make_array(new_capacity)\n",
    "        self.size = new_capacity\n",
    "\n",
    "        for i in range(self.n):\n",
    "            b[i]= self.a[i]\n",
    "        self.a = b\n",
    "\n",
    "    def __make_array(self,capacity):\n",
    "        return(capacity*ctypes.py_object)()"
   ]
  },
  {
   "cell_type": "code",
   "execution_count": 14,
   "id": "d33a8f51",
   "metadata": {},
   "outputs": [],
   "source": [
    "l = meralist()"
   ]
  },
  {
   "cell_type": "code",
   "execution_count": 15,
   "id": "53981d06",
   "metadata": {},
   "outputs": [],
   "source": [
    "l.append('hello')\n",
    "l.append(3.4)\n",
    "l.append(True)\n",
    "l.append(100)"
   ]
  },
  {
   "cell_type": "code",
   "execution_count": 16,
   "id": "6999e0af",
   "metadata": {},
   "outputs": [
    {
     "name": "stdout",
     "output_type": "stream",
     "text": [
      "[hello,3.4,True,100]\n"
     ]
    }
   ],
   "source": [
    "print(l)"
   ]
  },
  {
   "cell_type": "code",
   "execution_count": 17,
   "id": "4a14ee2e",
   "metadata": {},
   "outputs": [],
   "source": [
    "l.remove(100)"
   ]
  },
  {
   "cell_type": "code",
   "execution_count": 18,
   "id": "6bb2c2a8",
   "metadata": {},
   "outputs": [],
   "source": [
    "del l[3]"
   ]
  },
  {
   "cell_type": "code",
   "execution_count": 19,
   "id": "e5134928",
   "metadata": {},
   "outputs": [],
   "source": [
    "l.insert(0,0)"
   ]
  },
  {
   "cell_type": "code",
   "execution_count": 20,
   "id": "f27fc33c",
   "metadata": {},
   "outputs": [
    {
     "name": "stdout",
     "output_type": "stream",
     "text": [
      "[0,hello,3.4]\n"
     ]
    }
   ],
   "source": [
    "print(l)"
   ]
  },
  {
   "cell_type": "code",
   "execution_count": 21,
   "id": "4456bcd9",
   "metadata": {},
   "outputs": [
    {
     "data": {
      "text/plain": [
       "'ValueError - not in list'"
      ]
     },
     "execution_count": 21,
     "metadata": {},
     "output_type": "execute_result"
    }
   ],
   "source": [
    "l.find(100)"
   ]
  },
  {
   "cell_type": "code",
   "execution_count": 22,
   "id": "54107dc5",
   "metadata": {},
   "outputs": [],
   "source": [
    "l.clear()"
   ]
  },
  {
   "cell_type": "code",
   "execution_count": 23,
   "id": "84bc5631",
   "metadata": {},
   "outputs": [
    {
     "data": {
      "text/plain": [
       "'empty list'"
      ]
     },
     "execution_count": 23,
     "metadata": {},
     "output_type": "execute_result"
    }
   ],
   "source": [
    "l.pop()"
   ]
  },
  {
   "cell_type": "code",
   "execution_count": 24,
   "id": "dda4ebc1",
   "metadata": {},
   "outputs": [
    {
     "name": "stdout",
     "output_type": "stream",
     "text": [
      "[]\n"
     ]
    }
   ],
   "source": [
    "print(l)"
   ]
  },
  {
   "cell_type": "code",
   "execution_count": 25,
   "id": "aaed0490",
   "metadata": {},
   "outputs": [
    {
     "data": {
      "text/plain": [
       "'IndexError - index out of range'"
      ]
     },
     "execution_count": 25,
     "metadata": {},
     "output_type": "execute_result"
    }
   ],
   "source": [
    "l[1]"
   ]
  },
  {
   "cell_type": "code",
   "execution_count": 26,
   "id": "2ab1e8a5",
   "metadata": {},
   "outputs": [
    {
     "data": {
      "text/plain": [
       "'IndexError - index out of range'"
      ]
     },
     "execution_count": 26,
     "metadata": {},
     "output_type": "execute_result"
    }
   ],
   "source": [
    "l[4]"
   ]
  },
  {
   "cell_type": "code",
   "execution_count": 27,
   "id": "f630c860",
   "metadata": {},
   "outputs": [
    {
     "data": {
      "text/plain": [
       "0"
      ]
     },
     "execution_count": 27,
     "metadata": {},
     "output_type": "execute_result"
    }
   ],
   "source": [
    "len(l)"
   ]
  },
  {
   "cell_type": "code",
   "execution_count": 28,
   "id": "eb6ef2e3",
   "metadata": {},
   "outputs": [],
   "source": [
    "l.append(1)"
   ]
  },
  {
   "cell_type": "code",
   "execution_count": 29,
   "id": "659dd4a8",
   "metadata": {},
   "outputs": [
    {
     "name": "stdout",
     "output_type": "stream",
     "text": [
      "[1]\n"
     ]
    }
   ],
   "source": [
    "print(l)"
   ]
  },
  {
   "cell_type": "markdown",
   "id": "0844e731",
   "metadata": {},
   "source": [
    "LINKED LIST"
   ]
  },
  {
   "cell_type": "code",
   "execution_count": 30,
   "id": "629a992c",
   "metadata": {},
   "outputs": [],
   "source": [
    "class node:\n",
    "\n",
    "    def __init__(self,value):\n",
    "        self.data = value\n",
    "        self.next = None"
   ]
  },
  {
   "cell_type": "code",
   "execution_count": 31,
   "id": "b8cf6fbe",
   "metadata": {},
   "outputs": [],
   "source": [
    "a = node(1)"
   ]
  },
  {
   "cell_type": "code",
   "execution_count": 32,
   "id": "6f99b1c3",
   "metadata": {},
   "outputs": [
    {
     "name": "stdout",
     "output_type": "stream",
     "text": [
      "1\n"
     ]
    }
   ],
   "source": [
    "print(a.data)"
   ]
  },
  {
   "cell_type": "code",
   "execution_count": 33,
   "id": "465fccc7",
   "metadata": {},
   "outputs": [
    {
     "name": "stdout",
     "output_type": "stream",
     "text": [
      "None\n"
     ]
    }
   ],
   "source": [
    "print(a.next)"
   ]
  },
  {
   "cell_type": "code",
   "execution_count": 34,
   "id": "f77f9863",
   "metadata": {},
   "outputs": [],
   "source": [
    "a = node(1)\n",
    "b = node(2)\n",
    "c = node(3)"
   ]
  },
  {
   "cell_type": "code",
   "execution_count": 35,
   "id": "d030fcca",
   "metadata": {},
   "outputs": [
    {
     "name": "stdout",
     "output_type": "stream",
     "text": [
      "3\n"
     ]
    }
   ],
   "source": [
    "print(c.data)"
   ]
  },
  {
   "cell_type": "code",
   "execution_count": 36,
   "id": "32b4fd07",
   "metadata": {},
   "outputs": [
    {
     "data": {
      "text/plain": [
       "1699204184592"
      ]
     },
     "execution_count": 36,
     "metadata": {},
     "output_type": "execute_result"
    }
   ],
   "source": [
    "id(a)"
   ]
  },
  {
   "cell_type": "code",
   "execution_count": 37,
   "id": "8438fe10",
   "metadata": {},
   "outputs": [
    {
     "data": {
      "text/plain": [
       "1699204176720"
      ]
     },
     "execution_count": 37,
     "metadata": {},
     "output_type": "execute_result"
    }
   ],
   "source": [
    "id(b)"
   ]
  },
  {
   "cell_type": "code",
   "execution_count": 38,
   "id": "36a350e8",
   "metadata": {},
   "outputs": [
    {
     "data": {
      "text/plain": [
       "1699204181392"
      ]
     },
     "execution_count": 38,
     "metadata": {},
     "output_type": "execute_result"
    }
   ],
   "source": [
    "id(c)"
   ]
  },
  {
   "cell_type": "code",
   "execution_count": 39,
   "id": "aeb3ccf4",
   "metadata": {},
   "outputs": [],
   "source": [
    "a.next = b\n",
    "b.next = c"
   ]
  },
  {
   "cell_type": "code",
   "execution_count": 40,
   "id": "ef850f4e",
   "metadata": {},
   "outputs": [
    {
     "name": "stdout",
     "output_type": "stream",
     "text": [
      "<__main__.node object at 0x0000018BA0762D90>\n"
     ]
    }
   ],
   "source": [
    "print(b.next)"
   ]
  },
  {
   "cell_type": "code",
   "execution_count": 41,
   "id": "c8de00ba",
   "metadata": {},
   "outputs": [
    {
     "name": "stdout",
     "output_type": "stream",
     "text": [
      "None\n"
     ]
    }
   ],
   "source": [
    "print(c.next)"
   ]
  },
  {
   "cell_type": "code",
   "execution_count": 42,
   "id": "75188a10",
   "metadata": {},
   "outputs": [],
   "source": [
    "class node:\n",
    "\n",
    "    def __init__(self,value):\n",
    "        self.data = value\n",
    "        self.next = None"
   ]
  },
  {
   "cell_type": "code",
   "execution_count": null,
   "id": "e2690fd4",
   "metadata": {},
   "outputs": [],
   "source": [
    "class linklist:\n",
    "\n",
    "    def __init__(self):\n",
    "\n",
    "        self.head = None\n",
    "        self.n = 0\n",
    "\n",
    "\n",
    "    def __len__(self):\n",
    "        return self.n\n",
    "\n",
    "\n",
    "    def insert_head(self,value):\n",
    "        new_node= node(value)\n",
    "\n",
    "        new_node.next= self.head\n",
    "\n",
    "        self.head = new_node\n",
    "\n",
    "        self.n = self.n +1\n",
    "\n",
    "    def __str__(self):\n",
    "\n",
    "        curr = self.head\n",
    "\n",
    "        result = ''\n",
    "\n",
    "        while curr != None:\n",
    "            result = result+ str(curr.data)+'->'\n",
    "            curr = curr.next\n",
    "\n",
    "        return result[:-2]\n",
    "    \n",
    "    def append(self,value):\n",
    "\n",
    "        new_node =node(value)\n",
    "\n",
    "        if self.head == None:\n",
    "            self.head = new_node\n",
    "            self.n = self.n +1\n",
    "            return\n",
    "    \n",
    "\n",
    "        curr = self.head\n",
    "\n",
    "        while curr.next !=None:\n",
    "            \n",
    "            curr = curr.next\n",
    "\n",
    "        curr.next = new_node\n",
    "        self.n = self.n +1\n",
    "\n",
    "    def insert_after(self,after,value):\n",
    "\n",
    "        new_node = node(value)\n",
    "\n",
    "        curr = self.head\n",
    "\n",
    "        while curr != None:\n",
    "            if curr.data ==after:\n",
    "                break\n",
    "            curr = curr.next\n",
    "\n",
    "        if curr != None:\n",
    "\n",
    "            new_node.next = curr.next\n",
    "            curr.next = new_node\n",
    "            self.n = self.n +1\n",
    "\n",
    "        else:\n",
    "            return 'item  not found'\n",
    "\n",
    "        print(curr.data)\n",
    "\n",
    "    def clear(self):\n",
    "        self.head=None\n",
    "        self.n = 0\n",
    "\n",
    "    def delete_head(self):\n",
    "\n",
    "        if self.head == None:\n",
    "            return 'empty list'\n",
    "\n",
    "        self.head = self.head.next\n",
    "        self.n = self.n -1\n",
    "\n",
    "    def pop(self):\n",
    "\n",
    "        if self.head == None:\n",
    "            return 'empty'\n",
    "\n",
    "        curr = self.head\n",
    "\n",
    "        if  curr.next ==None:\n",
    "            return self.delete_head()\n",
    "        \n",
    "        while curr.next.next !=None:\n",
    "            curr = curr.next\n",
    "\n",
    "        curr.next = None\n",
    "        self.n = self.n -1\n",
    "\n",
    "    def remove(self,value):\n",
    "\n",
    "        if self.head == None:\n",
    "            return 'empty list'\n",
    "\n",
    "        if self.head.data == value:\n",
    "\n",
    "            return self.delete_head()\n",
    "\n",
    "        curr = self.head\n",
    "\n",
    "        while curr.next != None:\n",
    "            if curr.next.data == value:\n",
    "                break\n",
    "\n",
    "            curr = curr.next\n",
    "\n",
    "        if curr.next == None:\n",
    "\n",
    "            return 'not found'\n",
    "        \n",
    "        else: \n",
    "            curr.next = curr.next.next\n",
    "\n",
    "    def search(self,item):\n",
    "\n",
    "        curr = self.head\n",
    "        pos = 0\n",
    "\n",
    "        while curr != None:\n",
    "            if curr.data == item:\n",
    "                return pos\n",
    "            curr = curr.next\n",
    "            pos = pos +1\n",
    "\n",
    "        return 'not found'\n",
    "    \n",
    "    def __getitem__(self,index):\n",
    "\n",
    "        curr = self.head\n",
    "        pos = 0\n",
    "\n",
    "        while curr != None:\n",
    "            if pos == index:\n",
    "                return curr.data\n",
    "            curr = curr.next\n",
    "            pos = pos +1\n",
    "\n",
    "        return 'index error'\n"
   ]
  },
  {
   "cell_type": "code",
   "execution_count": 82,
   "id": "f207bf46",
   "metadata": {},
   "outputs": [],
   "source": [
    "l = linklist()"
   ]
  },
  {
   "cell_type": "code",
   "execution_count": 45,
   "id": "d396e4e5",
   "metadata": {},
   "outputs": [
    {
     "data": {
      "text/plain": [
       "0"
      ]
     },
     "execution_count": 45,
     "metadata": {},
     "output_type": "execute_result"
    }
   ],
   "source": [
    "len(l)"
   ]
  },
  {
   "cell_type": "code",
   "execution_count": 76,
   "id": "592e4f9e",
   "metadata": {},
   "outputs": [],
   "source": [
    "l.insert_head(1)\n",
    "l.insert_head(2)\n",
    "l.insert_head(3)\n",
    "l.insert_head(4)"
   ]
  },
  {
   "cell_type": "code",
   "execution_count": 73,
   "id": "800c4d17",
   "metadata": {},
   "outputs": [
    {
     "data": {
      "text/plain": [
       "'index error'"
      ]
     },
     "execution_count": 73,
     "metadata": {},
     "output_type": "execute_result"
    }
   ],
   "source": [
    "l[10]"
   ]
  },
  {
   "cell_type": "code",
   "execution_count": 65,
   "id": "e3252563",
   "metadata": {},
   "outputs": [
    {
     "data": {
      "text/plain": [
       "'not found'"
      ]
     },
     "execution_count": 65,
     "metadata": {},
     "output_type": "execute_result"
    }
   ],
   "source": [
    "l.search(90)"
   ]
  },
  {
   "cell_type": "code",
   "execution_count": 47,
   "id": "2bb94de9",
   "metadata": {},
   "outputs": [
    {
     "name": "stdout",
     "output_type": "stream",
     "text": [
      "4->3->2->1\n"
     ]
    }
   ],
   "source": [
    "print(l)"
   ]
  },
  {
   "cell_type": "code",
   "execution_count": 48,
   "id": "2ab94efd",
   "metadata": {},
   "outputs": [],
   "source": [
    "l.remove(4)"
   ]
  },
  {
   "cell_type": "code",
   "execution_count": 49,
   "id": "e5179b80",
   "metadata": {},
   "outputs": [],
   "source": [
    "l.pop()"
   ]
  },
  {
   "cell_type": "code",
   "execution_count": 50,
   "id": "0403e0ef",
   "metadata": {},
   "outputs": [],
   "source": [
    "l.delete_head()"
   ]
  },
  {
   "cell_type": "code",
   "execution_count": 51,
   "id": "9a753647",
   "metadata": {},
   "outputs": [],
   "source": [
    "l.clear()"
   ]
  },
  {
   "cell_type": "code",
   "execution_count": 52,
   "id": "fb7e57f6",
   "metadata": {},
   "outputs": [
    {
     "data": {
      "text/plain": [
       "0"
      ]
     },
     "execution_count": 52,
     "metadata": {},
     "output_type": "execute_result"
    }
   ],
   "source": [
    "len(l)"
   ]
  },
  {
   "cell_type": "code",
   "execution_count": 53,
   "id": "530c01a4",
   "metadata": {},
   "outputs": [
    {
     "name": "stdout",
     "output_type": "stream",
     "text": [
      "\n"
     ]
    }
   ],
   "source": [
    "print(l)"
   ]
  },
  {
   "cell_type": "code",
   "execution_count": 54,
   "id": "74327fe0",
   "metadata": {},
   "outputs": [
    {
     "data": {
      "text/plain": [
       "'item  not found'"
      ]
     },
     "execution_count": 54,
     "metadata": {},
     "output_type": "execute_result"
    }
   ],
   "source": [
    "l.insert_after(2,200)"
   ]
  },
  {
   "cell_type": "code",
   "execution_count": 55,
   "id": "c91f8bd7",
   "metadata": {},
   "outputs": [
    {
     "name": "stdout",
     "output_type": "stream",
     "text": [
      "\n"
     ]
    }
   ],
   "source": [
    "print(l)"
   ]
  },
  {
   "cell_type": "code",
   "execution_count": 56,
   "id": "7a5fc7d9",
   "metadata": {},
   "outputs": [],
   "source": [
    "l.append(5)"
   ]
  },
  {
   "cell_type": "code",
   "execution_count": 57,
   "id": "cb065c54",
   "metadata": {},
   "outputs": [
    {
     "name": "stdout",
     "output_type": "stream",
     "text": [
      "5\n"
     ]
    }
   ],
   "source": [
    "print(l)"
   ]
  },
  {
   "cell_type": "markdown",
   "id": "1636faed",
   "metadata": {},
   "source": [
    "EXAMPLE QUESTION"
   ]
  },
  {
   "cell_type": "code",
   "execution_count": null,
   "id": "09d01581",
   "metadata": {},
   "outputs": [],
   "source": [
    "def fun(head):\n",
    "    if (head == None):\n",
    "        return \n",
    "    if head.next.next!=None:\n",
    "        print(head.data,\"\",end='')\n",
    "        fun(head.next)\n",
    "    print(head.data,\"\",end='')"
   ]
  },
  {
   "cell_type": "code",
   "execution_count": null,
   "id": "740ff1f4",
   "metadata": {},
   "outputs": [],
   "source": [
    "def sum_odd_nodes(self):\n",
    "\n",
    "    temp = self.head\n",
    "    counter = 0\n",
    "    result = 0\n",
    "\n",
    "    while temp != None:\n",
    "\n",
    "        if counter %2 != 0:\n",
    "            result = result + temp.data\n",
    "\n",
    "        counter += 1\n",
    "        temp = temp.next\n",
    "\n",
    "    print(result)\n"
   ]
  },
  {
   "cell_type": "code",
   "execution_count": 88,
   "id": "f6e9638a",
   "metadata": {},
   "outputs": [],
   "source": [
    "def reverse(self,temp):\n",
    "\n",
    "    prev_node = None\n",
    "    curr_node = self.head\n",
    "\n",
    "    while temp != None:\n",
    "        next_node = curr_node.next\n",
    "        curr_node.next = prev_node\n",
    "        prev_node = curr_node\n",
    "        curr_node = next_node\n",
    "\n",
    "    self.head = prev_node\n"
   ]
  }
 ],
 "metadata": {
  "kernelspec": {
   "display_name": "Python 3",
   "language": "python",
   "name": "python3"
  },
  "language_info": {
   "codemirror_mode": {
    "name": "ipython",
    "version": 3
   },
   "file_extension": ".py",
   "mimetype": "text/x-python",
   "name": "python",
   "nbconvert_exporter": "python",
   "pygments_lexer": "ipython3",
   "version": "3.11.9"
  }
 },
 "nbformat": 4,
 "nbformat_minor": 5
}
