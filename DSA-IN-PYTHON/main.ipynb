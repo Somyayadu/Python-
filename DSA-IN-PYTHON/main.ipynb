{
 "cells": [
  {
   "cell_type": "markdown",
   "id": "724c27c9",
   "metadata": {},
   "source": [
    "DSA IN PYTHON \n"
   ]
  },
  {
   "cell_type": "code",
   "execution_count": null,
   "id": "8f9f2f1d",
   "metadata": {},
   "outputs": [
    {
     "name": "stdout",
     "output_type": "stream",
     "text": [
      "15\n",
      "120\n"
     ]
    }
   ],
   "source": [
    "l = [1,2,3,4,5]\n",
    "\n",
    "sum = 0\n",
    "for i in l :\n",
    "    sum = sum+i\n",
    "print(sum)\n",
    "\n",
    "product = 1\n",
    "for i in l :\n",
    "    product = product*i\n",
    "print(product)"
   ]
  },
  {
   "cell_type": "code",
   "execution_count": 2,
   "id": "11b602cb",
   "metadata": {},
   "outputs": [
    {
     "name": "stdout",
     "output_type": "stream",
     "text": [
      "(1,1)\n",
      "(1,2)\n",
      "(1,3)\n",
      "(1,4)\n",
      "(1,5)\n",
      "(2,1)\n",
      "(2,2)\n",
      "(2,3)\n",
      "(2,4)\n",
      "(2,5)\n",
      "(3,1)\n",
      "(3,2)\n",
      "(3,3)\n",
      "(3,4)\n",
      "(3,5)\n",
      "(4,1)\n",
      "(4,2)\n",
      "(4,3)\n",
      "(4,4)\n",
      "(4,5)\n",
      "(5,1)\n",
      "(5,2)\n",
      "(5,3)\n",
      "(5,4)\n",
      "(5,5)\n"
     ]
    }
   ],
   "source": [
    "for i in l:\n",
    "    for j in l:\n",
    "        print('({},{})'.format(i,j))"
   ]
  },
  {
   "cell_type": "code",
   "execution_count": 6,
   "id": "7c1a4f77",
   "metadata": {},
   "outputs": [
    {
     "name": "stdout",
     "output_type": "stream",
     "text": [
      "123\n"
     ]
    }
   ],
   "source": [
    "def intTOStr(i):\n",
    "    digit = '0123456789'\n",
    "    if i ==0:\n",
    "        return '0'\n",
    "    result = ''\n",
    "    while i > 0:\n",
    "        result = digit[i%10]+result\n",
    "        i= i//10\n",
    "    return result\n",
    "\n",
    "print(intTOStr(123))"
   ]
  },
  {
   "cell_type": "code",
   "execution_count": 1,
   "id": "87c61dff",
   "metadata": {},
   "outputs": [],
   "source": [
    "import ctypes"
   ]
  },
  {
   "cell_type": "code",
   "execution_count": 53,
   "id": "527df4c8",
   "metadata": {},
   "outputs": [],
   "source": [
    "class meralist:\n",
    "\n",
    "    def __init__(self):\n",
    "        self.size=1\n",
    "        self.n=0\n",
    "\n",
    "        self.a = self.__make_array(self.size)\n",
    "\n",
    "    def __len__(self):\n",
    "        return self.n\n",
    "    \n",
    "    def __str__(self):\n",
    "        result = ''\n",
    "        for i in range(self.n):\n",
    "            result = result + str(self.a[i] )+ ','\n",
    "\n",
    "        return '[' + result[:-1] + ']'\n",
    "    \n",
    "    def __getitem__(self,index):\n",
    "        if 0 <= index < self.n:\n",
    "         return self.a[index]\n",
    "        else:\n",
    "            return 'IndexError - index out of range'\n",
    "    \n",
    "    def append(self,item):\n",
    "        if self.n == self.size:\n",
    "         self.__resize(self.size*2)\n",
    "\n",
    "        self.a[self.n]=item\n",
    "        self.n = self.n + 1\n",
    "\n",
    "    def pop(self):\n",
    "        if self.n == 0:\n",
    "            return 'empty list'\n",
    "        print(self.a[self.n-1])\n",
    "        self.n = self.n - 1\n",
    "\n",
    "    def clear(self):\n",
    "        self.n = 0\n",
    "        self.size = 1\n",
    "\n",
    "    def __resize(self,new_capacity):\n",
    "        b = self.__make_array(new_capacity)\n",
    "        self.size = new_capacity\n",
    "\n",
    "        for i in range(self.n):\n",
    "            b[i]= self.a[i]\n",
    "        self.a = b\n",
    "\n",
    "    def __make_array(self,capacity):\n",
    "        return(capacity*ctypes.py_object)()"
   ]
  },
  {
   "cell_type": "code",
   "execution_count": 54,
   "id": "d33a8f51",
   "metadata": {},
   "outputs": [],
   "source": [
    "l = meralist()"
   ]
  },
  {
   "cell_type": "code",
   "execution_count": 55,
   "id": "53981d06",
   "metadata": {},
   "outputs": [],
   "source": [
    "l.append('hello')\n",
    "l.append(3.4)\n",
    "l.append(True)\n",
    "l.append(100)"
   ]
  },
  {
   "cell_type": "code",
   "execution_count": 56,
   "id": "6999e0af",
   "metadata": {},
   "outputs": [
    {
     "name": "stdout",
     "output_type": "stream",
     "text": [
      "[hello,3.4,True,100]\n"
     ]
    }
   ],
   "source": [
    "print(l)"
   ]
  },
  {
   "cell_type": "code",
   "execution_count": 57,
   "id": "54107dc5",
   "metadata": {},
   "outputs": [],
   "source": [
    "l.clear()"
   ]
  },
  {
   "cell_type": "code",
   "execution_count": 51,
   "id": "84bc5631",
   "metadata": {},
   "outputs": [
    {
     "name": "stdout",
     "output_type": "stream",
     "text": [
      "100\n"
     ]
    }
   ],
   "source": [
    "l.pop()"
   ]
  },
  {
   "cell_type": "code",
   "execution_count": 58,
   "id": "dda4ebc1",
   "metadata": {},
   "outputs": [
    {
     "name": "stdout",
     "output_type": "stream",
     "text": [
      "[]\n"
     ]
    }
   ],
   "source": [
    "print(l)"
   ]
  },
  {
   "cell_type": "code",
   "execution_count": 45,
   "id": "aaed0490",
   "metadata": {},
   "outputs": [
    {
     "data": {
      "text/plain": [
       "3.4"
      ]
     },
     "execution_count": 45,
     "metadata": {},
     "output_type": "execute_result"
    }
   ],
   "source": [
    "l[1]"
   ]
  },
  {
   "cell_type": "code",
   "execution_count": 46,
   "id": "2ab1e8a5",
   "metadata": {},
   "outputs": [
    {
     "data": {
      "text/plain": [
       "'IndexError - index out of range'"
      ]
     },
     "execution_count": 46,
     "metadata": {},
     "output_type": "execute_result"
    }
   ],
   "source": [
    "l[4]"
   ]
  },
  {
   "cell_type": "code",
   "execution_count": 19,
   "id": "f630c860",
   "metadata": {},
   "outputs": [
    {
     "data": {
      "text/plain": [
       "5"
      ]
     },
     "execution_count": 19,
     "metadata": {},
     "output_type": "execute_result"
    }
   ],
   "source": [
    "len(l)"
   ]
  },
  {
   "cell_type": "code",
   "execution_count": 18,
   "id": "eb6ef2e3",
   "metadata": {},
   "outputs": [],
   "source": [
    "l.append(1)"
   ]
  },
  {
   "cell_type": "code",
   "execution_count": null,
   "id": "659dd4a8",
   "metadata": {},
   "outputs": [],
   "source": []
  }
 ],
 "metadata": {
  "kernelspec": {
   "display_name": "Python 3",
   "language": "python",
   "name": "python3"
  },
  "language_info": {
   "codemirror_mode": {
    "name": "ipython",
    "version": 3
   },
   "file_extension": ".py",
   "mimetype": "text/x-python",
   "name": "python",
   "nbconvert_exporter": "python",
   "pygments_lexer": "ipython3",
   "version": "3.11.9"
  }
 },
 "nbformat": 4,
 "nbformat_minor": 5
}
