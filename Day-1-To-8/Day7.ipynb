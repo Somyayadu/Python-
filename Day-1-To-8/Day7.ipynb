{
 "cells": [
  {
   "cell_type": "markdown",
   "id": "4433ffbc",
   "metadata": {},
   "source": [
    "Python Day -7 \n",
    "\n",
    "Function "
   ]
  },
  {
   "cell_type": "code",
   "execution_count": 1,
   "id": "0331062c",
   "metadata": {},
   "outputs": [],
   "source": [
    "def is_even(num):\n",
    "    \"\"\"\n",
    "    This function returns if a given number is odd or even\n",
    "    input  - any valid integer \n",
    "    output - odd / even\n",
    "    created on - 16th Nov 2022\n",
    "    \"\"\"\n",
    "    if type(num) == int:\n",
    "        if num % 2 == 0:\n",
    "            return 'even'\n",
    "        else:\n",
    "            return 'odd'\n",
    "    else:\n",
    "        return 'pagal hai kya'\n"
   ]
  },
  {
   "cell_type": "code",
   "execution_count": 2,
   "id": "32079e0f",
   "metadata": {},
   "outputs": [
    {
     "name": "stdout",
     "output_type": "stream",
     "text": [
      "odd\n",
      "even\n",
      "odd\n",
      "even\n",
      "odd\n",
      "even\n",
      "odd\n",
      "even\n",
      "odd\n",
      "even\n"
     ]
    }
   ],
   "source": [
    "# function\n",
    "\n",
    "for i in range (1,11):\n",
    "    x = is_even(i)\n",
    "    print(x) "
   ]
  },
  {
   "cell_type": "code",
   "execution_count": 3,
   "id": "78ba1052",
   "metadata": {},
   "outputs": [
    {
     "data": {
      "text/plain": [
       "'odd'"
      ]
     },
     "execution_count": 3,
     "metadata": {},
     "output_type": "execute_result"
    }
   ],
   "source": [
    "is_even(9)"
   ]
  },
  {
   "cell_type": "code",
   "execution_count": 4,
   "id": "fe0b078e",
   "metadata": {},
   "outputs": [
    {
     "data": {
      "text/plain": [
       "'pagal hai kya'"
      ]
     },
     "execution_count": 4,
     "metadata": {},
     "output_type": "execute_result"
    }
   ],
   "source": [
    "is_even('hello')"
   ]
  },
  {
   "cell_type": "code",
   "execution_count": 5,
   "id": "27a5d1cd",
   "metadata": {},
   "outputs": [],
   "source": [
    "# types of argument \n",
    "# 1. default argument\n",
    "# 2. positional argument\n",
    "# 3. keyword argument\n"
   ]
  },
  {
   "cell_type": "code",
   "execution_count": 6,
   "id": "89dbcc0b",
   "metadata": {},
   "outputs": [],
   "source": [
    "def power (a=1,b=1):\n",
    "\n",
    " return a**b"
   ]
  },
  {
   "cell_type": "code",
   "execution_count": 7,
   "id": "c630dc69",
   "metadata": {},
   "outputs": [
    {
     "data": {
      "text/plain": [
       "6"
      ]
     },
     "execution_count": 7,
     "metadata": {},
     "output_type": "execute_result"
    }
   ],
   "source": [
    "power(6)"
   ]
  },
  {
   "cell_type": "code",
   "execution_count": 8,
   "id": "9dbe317d",
   "metadata": {},
   "outputs": [
    {
     "data": {
      "text/plain": [
       "8"
      ]
     },
     "execution_count": 8,
     "metadata": {},
     "output_type": "execute_result"
    }
   ],
   "source": [
    "# positional argu.\n",
    "\n",
    "power (2,3)"
   ]
  },
  {
   "cell_type": "code",
   "execution_count": 9,
   "id": "142e7701",
   "metadata": {},
   "outputs": [
    {
     "data": {
      "text/plain": [
       "8"
      ]
     },
     "execution_count": 9,
     "metadata": {},
     "output_type": "execute_result"
    }
   ],
   "source": [
    "# keyword argu.\n",
    "\n",
    "power(b=3,a=2)"
   ]
  },
  {
   "cell_type": "code",
   "execution_count": 10,
   "id": "cf6dcd6e",
   "metadata": {},
   "outputs": [],
   "source": [
    "# args and kwargs\n",
    "\n",
    "# args\n",
    "def multiply(a,b):\n",
    "    return a*b"
   ]
  },
  {
   "cell_type": "code",
   "execution_count": 11,
   "id": "f7516320",
   "metadata": {},
   "outputs": [
    {
     "data": {
      "text/plain": [
       "6"
      ]
     },
     "execution_count": 11,
     "metadata": {},
     "output_type": "execute_result"
    }
   ],
   "source": [
    "multiply(2,3)"
   ]
  },
  {
   "cell_type": "code",
   "execution_count": 12,
   "id": "b5774367",
   "metadata": {},
   "outputs": [],
   "source": [
    "def multiply(*args):\n",
    "    product = 1\n",
    "\n",
    "    for i in args:\n",
    "        product =product*i\n",
    "\n",
    "    print(args)\n",
    "    return product "
   ]
  },
  {
   "cell_type": "code",
   "execution_count": 13,
   "id": "c7969797",
   "metadata": {},
   "outputs": [
    {
     "name": "stdout",
     "output_type": "stream",
     "text": [
      "(1, 2, 3, 4, 5, 6, 6)\n"
     ]
    },
    {
     "data": {
      "text/plain": [
       "4320"
      ]
     },
     "execution_count": 13,
     "metadata": {},
     "output_type": "execute_result"
    }
   ],
   "source": [
    "multiply(1,2,3,4,5,6,6)"
   ]
  },
  {
   "cell_type": "code",
   "execution_count": 14,
   "id": "4d33f4f1",
   "metadata": {},
   "outputs": [
    {
     "name": "stdout",
     "output_type": "stream",
     "text": [
      "Prints the values to a stream, or to sys.stdout by default.\n",
      "\n",
      "  sep\n",
      "    string inserted between values, default a space.\n",
      "  end\n",
      "    string appended after the last value, default a newline.\n",
      "  file\n",
      "    a file-like object (stream); defaults to the current sys.stdout.\n",
      "  flush\n",
      "    whether to forcibly flush the stream.\n"
     ]
    }
   ],
   "source": [
    "print(print.__doc__)"
   ]
  },
  {
   "cell_type": "code",
   "execution_count": 15,
   "id": "ed7452be",
   "metadata": {},
   "outputs": [],
   "source": [
    "# **kwargs\n",
    "\n",
    "def display(**kwargs):\n",
    "\n",
    "    for (key,value) in kwargs.items():\n",
    "        print(key,'->',value)"
   ]
  },
  {
   "cell_type": "code",
   "execution_count": 16,
   "id": "116322f4",
   "metadata": {},
   "outputs": [
    {
     "name": "stdout",
     "output_type": "stream",
     "text": [
      "india -> delhi\n",
      "srilanka -> colombo\n",
      "nepal -> kathmandu\n"
     ]
    }
   ],
   "source": [
    "display(india='delhi',srilanka='colombo',nepal='kathmandu')"
   ]
  },
  {
   "cell_type": "code",
   "execution_count": 17,
   "id": "9e3ec6ec",
   "metadata": {},
   "outputs": [
    {
     "name": "stdout",
     "output_type": "stream",
     "text": [
      "5\n",
      "4\n",
      "5\n"
     ]
    }
   ],
   "source": [
    "# variable scope\n",
    "\n",
    "def g(y):\n",
    "    print(x)\n",
    "    print(x-1)\n",
    "x=5\n",
    "g(x)\n",
    "print(x)"
   ]
  },
  {
   "cell_type": "code",
   "execution_count": 18,
   "id": "c2744e4e",
   "metadata": {},
   "outputs": [
    {
     "name": "stdout",
     "output_type": "stream",
     "text": [
      "2\n",
      "5\n"
     ]
    }
   ],
   "source": [
    "def f(y):\n",
    "    x=1\n",
    "    x += 1\n",
    "    print(x)\n",
    "x=5\n",
    "f(x)\n",
    "print(x)"
   ]
  },
  {
   "cell_type": "code",
   "execution_count": 19,
   "id": "4baed1cd",
   "metadata": {},
   "outputs": [
    {
     "name": "stdout",
     "output_type": "stream",
     "text": [
      "6\n"
     ]
    }
   ],
   "source": [
    "def h(y):\n",
    "    global x\n",
    "    x += 1\n",
    "x = 5\n",
    "h(x)\n",
    "print(x)"
   ]
  },
  {
   "cell_type": "code",
   "execution_count": 20,
   "id": "405ab8b8",
   "metadata": {},
   "outputs": [
    {
     "name": "stdout",
     "output_type": "stream",
     "text": [
      "in f(x):x 4\n",
      "in main program scope: z= 4\n",
      "in main program scope: x = 3\n"
     ]
    }
   ],
   "source": [
    "def f(x):\n",
    "    x =x +1\n",
    "    print('in f(x):x',x)\n",
    "    return x\n",
    "\n",
    "x=3\n",
    "z = f(x)\n",
    "print('in main program scope: z=',z)\n",
    "print('in main program scope: x =',x)"
   ]
  },
  {
   "cell_type": "code",
   "execution_count": 21,
   "id": "dbd8cad9",
   "metadata": {},
   "outputs": [],
   "source": [
    "# nested funnction\n",
    "\n",
    "def f():\n",
    "  def g():\n",
    "    print('inside function g')\n",
    "  g()\n",
    "  print('inside function f')\n"
   ]
  },
  {
   "cell_type": "code",
   "execution_count": 22,
   "id": "0ab35d03",
   "metadata": {},
   "outputs": [
    {
     "name": "stdout",
     "output_type": "stream",
     "text": [
      "inside function g\n",
      "inside function f\n"
     ]
    }
   ],
   "source": [
    "f()"
   ]
  },
  {
   "cell_type": "code",
   "execution_count": 23,
   "id": "757f2e88",
   "metadata": {},
   "outputs": [],
   "source": [
    "# def g(h):\n",
    "#     def h():\n",
    "#         x = 'abc'\n",
    "#     x = x + 1 \n",
    "#     print ('in g(x): x=',x)\n",
    "#     h()\n",
    "#     return x\n",
    "\n",
    "# x =3 \n",
    "# z =g(x)\n"
   ]
  },
  {
   "cell_type": "code",
   "execution_count": 24,
   "id": "04b7367c",
   "metadata": {},
   "outputs": [
    {
     "name": "stdout",
     "output_type": "stream",
     "text": [
      "in g(x): x= 4\n",
      "in h(x): x= 5\n",
      "in main program scope: x = 3\n",
      "in main program scope: z = 4\n"
     ]
    }
   ],
   "source": [
    "def g(x):\n",
    "    def h(x):\n",
    "        x =x+1\n",
    "        print(\"in h(x): x=\",x)\n",
    "    x = x + 1\n",
    "    print('in g(x): x=',x)\n",
    "    h(x)\n",
    "    return x\n",
    "\n",
    "x = 3\n",
    "z = g(x)\n",
    "print('in main program scope: x =',x)\n",
    "print('in main program scope: z =',z)"
   ]
  },
  {
   "cell_type": "code",
   "execution_count": 25,
   "id": "c0760bd0",
   "metadata": {},
   "outputs": [
    {
     "data": {
      "text/plain": [
       "1793871409568"
      ]
     },
     "execution_count": 25,
     "metadata": {},
     "output_type": "execute_result"
    }
   ],
   "source": [
    "# function are first class citizen \n",
    "\n",
    "# type and id \n",
    "def square (num):\n",
    "    return  num**2\n",
    "\n",
    "type (square)\n",
    "\n",
    "id(square)"
   ]
  },
  {
   "cell_type": "code",
   "execution_count": 26,
   "id": "4812fdc5",
   "metadata": {},
   "outputs": [
    {
     "data": {
      "text/plain": [
       "9"
      ]
     },
     "execution_count": 26,
     "metadata": {},
     "output_type": "execute_result"
    }
   ],
   "source": [
    "# reassign \n",
    "x = square \n",
    "id(x)\n",
    "x(3)"
   ]
  },
  {
   "cell_type": "code",
   "execution_count": 27,
   "id": "e15bf825",
   "metadata": {},
   "outputs": [
    {
     "data": {
      "text/plain": [
       "2"
      ]
     },
     "execution_count": 27,
     "metadata": {},
     "output_type": "execute_result"
    }
   ],
   "source": [
    "a =2 \n",
    "b=a \n",
    "b\n"
   ]
  },
  {
   "cell_type": "code",
   "execution_count": 28,
   "id": "6bf71a1a",
   "metadata": {},
   "outputs": [],
   "source": [
    "# deletion a function \n",
    "del square"
   ]
  },
  {
   "cell_type": "code",
   "execution_count": 31,
   "id": "9fc55804",
   "metadata": {},
   "outputs": [],
   "source": [
    "# # sorting\n",
    "# l = [1,2,3,4,square]\n",
    "# l[-1](3)\n"
   ]
  },
  {
   "cell_type": "code",
   "execution_count": null,
   "id": "ce825ef7",
   "metadata": {},
   "outputs": [
    {
     "name": "stdout",
     "output_type": "stream",
     "text": [
      "7\n"
     ]
    }
   ],
   "source": [
    "# returing a funcation \n",
    "\n",
    "def f():\n",
    "    def x(a,b):\n",
    "        return a+b\n",
    "    return x\n",
    "\n",
    "val = f()(3,4)\n",
    "print(val)"
   ]
  },
  {
   "cell_type": "code",
   "execution_count": null,
   "id": "8377a7c8",
   "metadata": {},
   "outputs": [
    {
     "name": "stdout",
     "output_type": "stream",
     "text": [
      "inside func_c\n",
      "inside func_a\n",
      "None\n"
     ]
    }
   ],
   "source": [
    "# function as argument\n",
    "\n",
    "def func_a():\n",
    "    print('inside func_a')\n",
    "\n",
    "def func_b(z):\n",
    "    print('inside func_c')\n",
    "    return z()\n",
    "\n",
    "print(func_b(func_a))"
   ]
  },
  {
   "cell_type": "code",
   "execution_count": null,
   "id": "a590699f",
   "metadata": {},
   "outputs": [],
   "source": [
    "# lambda funcation \n",
    "\n",
    "# lambda a,b: a+b"
   ]
  },
  {
   "cell_type": "code",
   "execution_count": null,
   "id": "380396a0",
   "metadata": {},
   "outputs": [
    {
     "data": {
      "text/plain": [
       "4"
      ]
     },
     "execution_count": 69,
     "metadata": {},
     "output_type": "execute_result"
    }
   ],
   "source": [
    "# x -> x^2\n",
    "a = lambda x:x**2\n",
    "a(2)"
   ]
  },
  {
   "cell_type": "code",
   "execution_count": null,
   "id": "93b62ce2",
   "metadata": {},
   "outputs": [
    {
     "data": {
      "text/plain": [
       "7"
      ]
     },
     "execution_count": 70,
     "metadata": {},
     "output_type": "execute_result"
    }
   ],
   "source": [
    "# x,y = x+y\n",
    "a = lambda x,y:x+y\n",
    "a(5,2)"
   ]
  },
  {
   "cell_type": "code",
   "execution_count": null,
   "id": "7141f924",
   "metadata": {},
   "outputs": [
    {
     "data": {
      "text/plain": [
       "False"
      ]
     },
     "execution_count": 71,
     "metadata": {},
     "output_type": "execute_result"
    }
   ],
   "source": [
    "# check if a string has 'a'\n",
    "a = lambda s:'a' in s\n",
    "a('hello')"
   ]
  },
  {
   "cell_type": "code",
   "execution_count": null,
   "id": "433db43f",
   "metadata": {},
   "outputs": [
    {
     "data": {
      "text/plain": [
       "'even'"
      ]
     },
     "execution_count": 72,
     "metadata": {},
     "output_type": "execute_result"
    }
   ],
   "source": [
    "# odd / even \n",
    "a = lambda x:'even' if x%2 == 0 else 'odd'\n",
    "a(6)"
   ]
  },
  {
   "cell_type": "code",
   "execution_count": null,
   "id": "f125d44c",
   "metadata": {},
   "outputs": [
    {
     "name": "stdout",
     "output_type": "stream",
     "text": [
      "[1, 4, 9, 16, 25]\n",
      "[1, 8, 27, 64, 125]\n"
     ]
    }
   ],
   "source": [
    "# higher order function\n",
    "\n",
    "def square(x):\n",
    "    return x**2\n",
    "\n",
    "# HOF\n",
    "def transform(f,l):\n",
    "    output =[]\n",
    "    for i in l:\n",
    "        output.append(f(i))\n",
    "\n",
    "    print(output)\n",
    "\n",
    "l=[1,2,3,4,5]\n",
    "\n",
    "transform(square,l)\n",
    "transform(lambda x:x**3,l)"
   ]
  },
  {
   "cell_type": "code",
   "execution_count": null,
   "id": "191d1d9a",
   "metadata": {},
   "outputs": [
    {
     "data": {
      "text/plain": [
       "[1, 4, 9, 16, 25]"
      ]
     },
     "execution_count": 75,
     "metadata": {},
     "output_type": "execute_result"
    }
   ],
   "source": [
    "# MAP\n",
    "\n",
    "# square the items of a list \n",
    "\n",
    "list (map (lambda x:x**2,[1,2,3,4,5]))"
   ]
  },
  {
   "cell_type": "code",
   "execution_count": null,
   "id": "7783adb7",
   "metadata": {},
   "outputs": [
    {
     "data": {
      "text/plain": [
       "['odd', 'even', 'odd', 'even', 'odd']"
      ]
     },
     "execution_count": 76,
     "metadata": {},
     "output_type": "execute_result"
    }
   ],
   "source": [
    "# odd/even labelling of list items \n",
    "l = [1,2,3,4,5]\n",
    "list(map (lambda x:'even' if x%2 ==0 else 'odd',l))"
   ]
  },
  {
   "cell_type": "code",
   "execution_count": null,
   "id": "fec4aa90",
   "metadata": {},
   "outputs": [
    {
     "data": {
      "text/plain": [
       "['male', 'male']"
      ]
     },
     "execution_count": 78,
     "metadata": {},
     "output_type": "execute_result"
    }
   ],
   "source": [
    "# fetch names from a list of dict \n",
    "users = [ \n",
    "    {\n",
    "        'name':'somya',\n",
    "        'age':20,\n",
    "        'gender':'male'\n",
    "    \n",
    "    },\n",
    "   {\n",
    "        'name':'ayush',\n",
    "        'age':17,\n",
    "        'gender':'male'\n",
    "    }\n",
    "]\n",
    "\n",
    "list(map(lambda users:users['gender'],users))"
   ]
  },
  {
   "cell_type": "code",
   "execution_count": null,
   "id": "4161aff9",
   "metadata": {},
   "outputs": [
    {
     "data": {
      "text/plain": [
       "[6]"
      ]
     },
     "execution_count": 80,
     "metadata": {},
     "output_type": "execute_result"
    }
   ],
   "source": [
    "# filter\n",
    "\n",
    "l = [1,2,3,6,5]\n",
    "\n",
    "list(filter (lambda x:x>5,l))"
   ]
  },
  {
   "cell_type": "code",
   "execution_count": null,
   "id": "748cbaa8",
   "metadata": {},
   "outputs": [
    {
     "data": {
      "text/plain": [
       "['apple']"
      ]
     },
     "execution_count": 82,
     "metadata": {},
     "output_type": "execute_result"
    }
   ],
   "source": [
    "# fetch fruits starting 'a'\n",
    "fruits = ['apple','banana','cheery']\n",
    "\n",
    "list(filter(lambda x:x.startswith ('a'),fruits))"
   ]
  },
  {
   "cell_type": "code",
   "execution_count": null,
   "id": "2635f7e7",
   "metadata": {},
   "outputs": [
    {
     "data": {
      "text/plain": [
       "15"
      ]
     },
     "execution_count": 83,
     "metadata": {},
     "output_type": "execute_result"
    }
   ],
   "source": [
    "# reduce \n",
    "# sum of all items \n",
    "\n",
    "import functools\n",
    "\n",
    "functools.reduce(lambda x,y:x+y,[1,2,3,4,5])\n"
   ]
  },
  {
   "cell_type": "code",
   "execution_count": null,
   "id": "a06d7b6a",
   "metadata": {},
   "outputs": [
    {
     "data": {
      "text/plain": [
       "11"
      ]
     },
     "execution_count": 84,
     "metadata": {},
     "output_type": "execute_result"
    }
   ],
   "source": [
    "# find min \n",
    "functools.reduce (lambda x,y:x if x<y else y,[23,43,25,52,11] )"
   ]
  }
 ],
 "metadata": {
  "kernelspec": {
   "display_name": "Python 3",
   "language": "python",
   "name": "python3"
  },
  "language_info": {
   "codemirror_mode": {
    "name": "ipython",
    "version": 3
   },
   "file_extension": ".py",
   "mimetype": "text/x-python",
   "name": "python",
   "nbconvert_exporter": "python",
   "pygments_lexer": "ipython3",
   "version": "3.11.9"
  }
 },
 "nbformat": 4,
 "nbformat_minor": 5
}
