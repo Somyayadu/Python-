{
 "cells": [
  {
   "cell_type": "markdown",
   "id": "94a05773",
   "metadata": {},
   "source": [
    "Python - Day 1"
   ]
  },
  {
   "cell_type": "markdown",
   "id": "cd270d1e",
   "metadata": {},
   "source": [
    "Python Basic"
   ]
  },
  {
   "cell_type": "code",
   "execution_count": 1,
   "id": "4b816a0a",
   "metadata": {},
   "outputs": [
    {
     "name": "stdout",
     "output_type": "stream",
     "text": [
      "hello\n"
     ]
    }
   ],
   "source": [
    "print(\"hello\")"
   ]
  },
  {
   "cell_type": "code",
   "execution_count": 34,
   "id": "f79e45d3",
   "metadata": {},
   "outputs": [
    {
     "name": "stdout",
     "output_type": "stream",
     "text": [
      "hello world\n"
     ]
    }
   ],
   "source": [
    "# python is a case sensitive language\n",
    "print(\"hello world\")"
   ]
  },
  {
   "cell_type": "code",
   "execution_count": 35,
   "id": "4b0b0c12",
   "metadata": {},
   "outputs": [
    {
     "name": "stdout",
     "output_type": "stream",
     "text": [
      "somya yaduvanshi\n"
     ]
    }
   ],
   "source": [
    "print(\"somya yaduvanshi\")"
   ]
  },
  {
   "cell_type": "code",
   "execution_count": 36,
   "id": "708cda98",
   "metadata": {},
   "outputs": [
    {
     "name": "stdout",
     "output_type": "stream",
     "text": [
      "7\n"
     ]
    }
   ],
   "source": [
    "print(7)"
   ]
  },
  {
   "cell_type": "code",
   "execution_count": 37,
   "id": "aceaec06",
   "metadata": {},
   "outputs": [
    {
     "name": "stdout",
     "output_type": "stream",
     "text": [
      "10\n"
     ]
    }
   ],
   "source": [
    "print(7+3)"
   ]
  },
  {
   "cell_type": "code",
   "execution_count": 38,
   "id": "284fc26b",
   "metadata": {},
   "outputs": [
    {
     "name": "stdout",
     "output_type": "stream",
     "text": [
      "hello 1 2 3 True\n"
     ]
    }
   ],
   "source": [
    "print(\"hello\",1,2,3,True)"
   ]
  },
  {
   "cell_type": "code",
   "execution_count": 39,
   "id": "d797f4dc",
   "metadata": {},
   "outputs": [
    {
     "name": "stdout",
     "output_type": "stream",
     "text": [
      "hello/1/2/3/True\n"
     ]
    }
   ],
   "source": [
    "print(\"hello\",1,2,3,True,sep='/')"
   ]
  },
  {
   "cell_type": "code",
   "execution_count": 40,
   "id": "823e1758",
   "metadata": {},
   "outputs": [
    {
     "name": "stdout",
     "output_type": "stream",
     "text": [
      "hello\n",
      "world\n"
     ]
    }
   ],
   "source": [
    "print(\"hello\")\n",
    "print(\"world\")"
   ]
  },
  {
   "cell_type": "code",
   "execution_count": 41,
   "id": "ae432417",
   "metadata": {},
   "outputs": [
    {
     "name": "stdout",
     "output_type": "stream",
     "text": [
      "hello-world\n"
     ]
    }
   ],
   "source": [
    "print(\"hello\",end='-')\n",
    "print(\"world\")"
   ]
  },
  {
   "cell_type": "markdown",
   "id": "46e72662",
   "metadata": {},
   "source": [
    "Data Type"
   ]
  },
  {
   "cell_type": "code",
   "execution_count": 42,
   "id": "b29dd3b4",
   "metadata": {},
   "outputs": [
    {
     "name": "stdout",
     "output_type": "stream",
     "text": [
      "8\n",
      "1e+308\n"
     ]
    }
   ],
   "source": [
    "# integer \n",
    "print (8)\n",
    "# 1*10^308\n",
    "print(1e308)"
   ]
  },
  {
   "cell_type": "code",
   "execution_count": 43,
   "id": "5f023795",
   "metadata": {},
   "outputs": [
    {
     "name": "stdout",
     "output_type": "stream",
     "text": [
      "8.55\n",
      "1.7e+308\n"
     ]
    }
   ],
   "source": [
    "# decimal\n",
    "print(8.55)\n",
    "print(1.7e308)"
   ]
  },
  {
   "cell_type": "code",
   "execution_count": 44,
   "id": "170bdf41",
   "metadata": {},
   "outputs": [
    {
     "name": "stdout",
     "output_type": "stream",
     "text": [
      "True\n",
      "False\n"
     ]
    }
   ],
   "source": [
    "# boolean \n",
    "print(True)\n",
    "print(False)"
   ]
  },
  {
   "cell_type": "code",
   "execution_count": 45,
   "id": "86c63ea7",
   "metadata": {},
   "outputs": [
    {
     "name": "stdout",
     "output_type": "stream",
     "text": [
      "hello world\n"
     ]
    }
   ],
   "source": [
    "# text/ string \n",
    "print(\"hello world\")"
   ]
  },
  {
   "cell_type": "code",
   "execution_count": 46,
   "id": "7124fe78",
   "metadata": {},
   "outputs": [
    {
     "name": "stdout",
     "output_type": "stream",
     "text": [
      "(5+6j)\n"
     ]
    }
   ],
   "source": [
    "# complex \n",
    "print(5+6j)"
   ]
  },
  {
   "cell_type": "code",
   "execution_count": null,
   "id": "4942a34b",
   "metadata": {},
   "outputs": [
    {
     "name": "stdout",
     "output_type": "stream",
     "text": [
      "[1, 2, 3, 4, 5, 6]\n"
     ]
    }
   ],
   "source": [
    "# list -- work of array in programing \n",
    "print([1,2,3,4,5,6])"
   ]
  },
  {
   "cell_type": "code",
   "execution_count": 48,
   "id": "26658ff5",
   "metadata": {},
   "outputs": [
    {
     "name": "stdout",
     "output_type": "stream",
     "text": [
      "(1, 2, 3, 4, 5, 6)\n"
     ]
    }
   ],
   "source": [
    "# tuple \n",
    "print((1,2,3,4,5,6))"
   ]
  },
  {
   "cell_type": "code",
   "execution_count": 49,
   "id": "157bc430",
   "metadata": {},
   "outputs": [
    {
     "name": "stdout",
     "output_type": "stream",
     "text": [
      "{1, 2, 3, 4, 5, 6}\n"
     ]
    }
   ],
   "source": [
    "# sets \n",
    "print({1,2,3,4,5,6})"
   ]
  },
  {
   "cell_type": "code",
   "execution_count": 50,
   "id": "64589dc7",
   "metadata": {},
   "outputs": [
    {
     "name": "stdout",
     "output_type": "stream",
     "text": [
      "{'name': 'somya', 'age': 20}\n"
     ]
    }
   ],
   "source": [
    "# dictionary \n",
    "print({'name':'somya','age':20})"
   ]
  },
  {
   "cell_type": "code",
   "execution_count": 51,
   "id": "8b6e0c2b",
   "metadata": {},
   "outputs": [
    {
     "data": {
      "text/plain": [
       "list"
      ]
     },
     "execution_count": 51,
     "metadata": {},
     "output_type": "execute_result"
    }
   ],
   "source": [
    "# type \n",
    "type([1,2,3,4])"
   ]
  },
  {
   "cell_type": "markdown",
   "id": "62fe29ca",
   "metadata": {},
   "source": [
    "variables"
   ]
  },
  {
   "cell_type": "code",
   "execution_count": 52,
   "id": "67aed162",
   "metadata": {},
   "outputs": [
    {
     "name": "stdout",
     "output_type": "stream",
     "text": [
      "somya\n"
     ]
    }
   ],
   "source": [
    "name = 'somya'\n",
    "print(name)"
   ]
  },
  {
   "cell_type": "code",
   "execution_count": 53,
   "id": "89d68593",
   "metadata": {},
   "outputs": [
    {
     "name": "stdout",
     "output_type": "stream",
     "text": [
      "11\n"
     ]
    }
   ],
   "source": [
    "a = 5\n",
    "b = 6 \n",
    "print( a+b)"
   ]
  },
  {
   "cell_type": "code",
   "execution_count": null,
   "id": "c9441815",
   "metadata": {},
   "outputs": [],
   "source": [
    "# dynamic typing (python support dynamic typing)\n",
    "#   a = 5\n",
    "# static typing\n",
    "#   int a = 5   "
   ]
  },
  {
   "cell_type": "code",
   "execution_count": null,
   "id": "ef4933e3",
   "metadata": {},
   "outputs": [
    {
     "name": "stdout",
     "output_type": "stream",
     "text": [
      "5\n",
      "somya\n"
     ]
    }
   ],
   "source": [
    "# dynamic binding  (python support dynamic binding)\n",
    "a = 5\n",
    "print(a)\n",
    "a  = 'somya'\n",
    "print(a)\n"
   ]
  },
  {
   "cell_type": "code",
   "execution_count": 55,
   "id": "022297a2",
   "metadata": {},
   "outputs": [
    {
     "name": "stdout",
     "output_type": "stream",
     "text": [
      "1 2 3\n"
     ]
    }
   ],
   "source": [
    "a=1\n",
    "b=2\n",
    "c=3 \n",
    "print (a,b,c)"
   ]
  },
  {
   "cell_type": "code",
   "execution_count": 56,
   "id": "501387ba",
   "metadata": {},
   "outputs": [
    {
     "name": "stdout",
     "output_type": "stream",
     "text": [
      "1 2 3\n"
     ]
    }
   ],
   "source": [
    "a,b,c =1,2,3\n",
    "print(a,b,c)"
   ]
  },
  {
   "cell_type": "code",
   "execution_count": null,
   "id": "8ee52341",
   "metadata": {},
   "outputs": [
    {
     "name": "stdout",
     "output_type": "stream",
     "text": [
      "5 5 5\n"
     ]
    }
   ],
   "source": [
    "a=b=c=5\n",
    "print(a,b,c)"
   ]
  },
  {
   "cell_type": "markdown",
   "id": "efe8494e",
   "metadata": {},
   "source": [
    "keywords & identifiers"
   ]
  },
  {
   "cell_type": "code",
   "execution_count": null,
   "id": "e5ca80a6",
   "metadata": {},
   "outputs": [],
   "source": [
    "# keywords "
   ]
  },
  {
   "cell_type": "code",
   "execution_count": null,
   "id": "91b5badf",
   "metadata": {},
   "outputs": [
    {
     "name": "stdout",
     "output_type": "stream",
     "text": [
      "somya\n",
      "somya\n"
     ]
    }
   ],
   "source": [
    "# identifiers\n",
    "# -> you can not start with digit\n",
    "name1 ='somya'\n",
    "print ( name )\n",
    "# ->you can use special char  \n",
    "first_name ='somya'\n",
    "print (first_name) \n",
    "# identifiers can not be keywords"
   ]
  },
  {
   "cell_type": "markdown",
   "id": "ef1bb14d",
   "metadata": {},
   "source": [
    "User input"
   ]
  },
  {
   "cell_type": "code",
   "execution_count": 61,
   "id": "92c04f45",
   "metadata": {},
   "outputs": [
    {
     "data": {
      "text/plain": [
       "'somya'"
      ]
     },
     "execution_count": 61,
     "metadata": {},
     "output_type": "execute_result"
    }
   ],
   "source": [
    "# static & dynamic software \n",
    "input('enter your name:')"
   ]
  },
  {
   "cell_type": "code",
   "execution_count": null,
   "id": "b84f65d9",
   "metadata": {},
   "outputs": [
    {
     "name": "stdout",
     "output_type": "stream",
     "text": [
      "9\n",
      "<class 'str'>\n"
     ]
    }
   ],
   "source": [
    "# take input from user and store it in a variable \n",
    "fnum =input ('enter first number:')\n",
    "snum =input ('enter second number:')\n",
    "#print(fnum,snum)\n",
    "# add the 2 variable\n",
    "result=int (fnum)+ int (snum)   \n",
    "# print the result \n",
    "print(result)\n",
    "#print(type(fnum))"
   ]
  },
  {
   "cell_type": "markdown",
   "id": "01405fc7",
   "metadata": {},
   "source": [
    "Type conversion "
   ]
  },
  {
   "cell_type": "code",
   "execution_count": null,
   "id": "5d0d5205",
   "metadata": {},
   "outputs": [
    {
     "name": "stdout",
     "output_type": "stream",
     "text": [
      "10.6\n",
      "<class 'int'> <class 'float'>\n"
     ]
    }
   ],
   "source": [
    "# implicit & explicit type conversion\n",
    "# implicit \n",
    "print (5+5.6)\n",
    "print(type(5),type(5.6))"
   ]
  },
  {
   "cell_type": "code",
   "execution_count": 67,
   "id": "f769ee99",
   "metadata": {},
   "outputs": [
    {
     "data": {
      "text/plain": [
       "4"
      ]
     },
     "execution_count": 67,
     "metadata": {},
     "output_type": "execute_result"
    }
   ],
   "source": [
    "# explicit\n",
    "# str --> int \n",
    "int(4.5)"
   ]
  },
  {
   "cell_type": "code",
   "execution_count": null,
   "id": "3ce958cd",
   "metadata": {},
   "outputs": [
    {
     "data": {
      "text/plain": [
       "'5'"
      ]
     },
     "execution_count": 68,
     "metadata": {},
     "output_type": "execute_result"
    }
   ],
   "source": [
    "str(5)"
   ]
  },
  {
   "cell_type": "code",
   "execution_count": 69,
   "id": "0ec1a2e5",
   "metadata": {},
   "outputs": [
    {
     "data": {
      "text/plain": [
       "3.0"
      ]
     },
     "execution_count": 69,
     "metadata": {},
     "output_type": "execute_result"
    }
   ],
   "source": [
    "float(3)"
   ]
  },
  {
   "cell_type": "markdown",
   "id": "454c06f0",
   "metadata": {},
   "source": [
    "Literals"
   ]
  },
  {
   "cell_type": "code",
   "execution_count": null,
   "id": "26d80907",
   "metadata": {},
   "outputs": [
    {
     "name": "stdout",
     "output_type": "stream",
     "text": [
      "10\n"
     ]
    }
   ],
   "source": [
    "# integer \n",
    "# binary literals\n",
    "a = 0b1010\n",
    "print(a)"
   ]
  },
  {
   "cell_type": "code",
   "execution_count": 72,
   "id": "027912bf",
   "metadata": {},
   "outputs": [],
   "source": [
    "# decimal literals\n",
    "a = 100 \n",
    "\n",
    "# octal literals\n",
    "a = 0o310 \n",
    "\n",
    "# hexadecimal literals\n",
    "a = 0x12c\n",
    "\n"
   ]
  },
  {
   "cell_type": "code",
   "execution_count": 73,
   "id": "b0c7ea4f",
   "metadata": {},
   "outputs": [],
   "source": [
    "# float literals\n",
    "float_1 = 10.5\n",
    "float_2 = 1.5e2\n",
    "float_3 =1.5e-3"
   ]
  },
  {
   "cell_type": "code",
   "execution_count": 76,
   "id": "6edf490d",
   "metadata": {},
   "outputs": [
    {
     "name": "stdout",
     "output_type": "stream",
     "text": [
      "3.14j\n",
      "0.0\n",
      "3.14\n"
     ]
    }
   ],
   "source": [
    "# complex literals\n",
    "x = 3.14j\n",
    "print (x)\n",
    "print(x.real)\n",
    "print(x.imag)\n",
    "\n"
   ]
  },
  {
   "cell_type": "code",
   "execution_count": 77,
   "id": "4f8eea5b",
   "metadata": {},
   "outputs": [
    {
     "name": "stdout",
     "output_type": "stream",
     "text": [
      "a: 5\n",
      "b: 10\n"
     ]
    }
   ],
   "source": [
    "a = True+4\n",
    "b = False+10\n",
    "\n",
    "print(\"a:\", a)\n",
    "print(\"b:\", b)"
   ]
  },
  {
   "cell_type": "code",
   "execution_count": 78,
   "id": "a62c8fb2",
   "metadata": {},
   "outputs": [
    {
     "name": "stdout",
     "output_type": "stream",
     "text": [
      "None\n"
     ]
    }
   ],
   "source": [
    "a = None\n",
    "print(a)"
   ]
  }
 ],
 "metadata": {
  "kernelspec": {
   "display_name": "Python 3",
   "language": "python",
   "name": "python3"
  },
  "language_info": {
   "codemirror_mode": {
    "name": "ipython",
    "version": 3
   },
   "file_extension": ".py",
   "mimetype": "text/x-python",
   "name": "python",
   "nbconvert_exporter": "python",
   "pygments_lexer": "ipython3",
   "version": "3.11.9"
  }
 },
 "nbformat": 4,
 "nbformat_minor": 5
}
