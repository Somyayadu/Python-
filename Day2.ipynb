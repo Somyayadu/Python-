{
 "cells": [
  {
   "cell_type": "markdown",
   "id": "bbadc77a",
   "metadata": {},
   "source": [
    "Python - Day 2"
   ]
  },
  {
   "cell_type": "markdown",
   "id": "55523d84",
   "metadata": {},
   "source": [
    "Operators"
   ]
  },
  {
   "cell_type": "code",
   "execution_count": 4,
   "id": "8326ba1b",
   "metadata": {},
   "outputs": [
    {
     "name": "stdout",
     "output_type": "stream",
     "text": [
      "11\n",
      "-1\n",
      "30\n",
      "0.8333333333333334\n",
      "2\n",
      "1\n",
      "25\n"
     ]
    }
   ],
   "source": [
    "# Airthmetric operator \n",
    "\n",
    "print(5+6)\n",
    "\n",
    "print(5-6)\n",
    "\n",
    "print(5*6)\n",
    "\n",
    "print(5/6)\n",
    "\n",
    "print(5//2) \n",
    "\n",
    "print(5%2)\n",
    "\n",
    "print(5**2)\n"
   ]
  },
  {
   "cell_type": "code",
   "execution_count": 5,
   "id": "93b8f8a9",
   "metadata": {},
   "outputs": [
    {
     "name": "stdout",
     "output_type": "stream",
     "text": [
      "False\n",
      "True\n",
      "True\n",
      "True\n",
      "True\n",
      "False\n"
     ]
    }
   ],
   "source": [
    "# relational operators\n",
    "print(4>5)\n",
    "\n",
    "print(4<5)\n",
    "\n",
    "print(4>=4)\n",
    "\n",
    "print(4<=4)\n",
    "\n",
    "print(4==4)\n",
    "\n",
    "print(4!=4)\n",
    "\n"
   ]
  },
  {
   "cell_type": "code",
   "execution_count": 6,
   "id": "1f02ca04",
   "metadata": {},
   "outputs": [
    {
     "name": "stdout",
     "output_type": "stream",
     "text": [
      "0\n",
      "1\n",
      "False\n"
     ]
    }
   ],
   "source": [
    "# logical operators\n",
    "print(1 and 0)\n",
    "\n",
    "print(1 or 0)\n",
    "\n",
    "print(not 1)\n"
   ]
  },
  {
   "cell_type": "code",
   "execution_count": 11,
   "id": "8c215fbb",
   "metadata": {},
   "outputs": [
    {
     "name": "stdout",
     "output_type": "stream",
     "text": [
      "2\n",
      "3\n",
      "1\n",
      "-4\n",
      "1\n",
      "20\n"
     ]
    }
   ],
   "source": [
    "# Bitwise operators\n",
    "print(2 & 3) #and\n",
    "\n",
    "print(2|3) #or\n",
    "\n",
    "print(2^3) #xor\n",
    "\n",
    "print ( ~3)\n",
    "\n",
    "print(4>>2)\n",
    "\n",
    "print( 5<<2)"
   ]
  },
  {
   "cell_type": "code",
   "execution_count": 13,
   "id": "da74374b",
   "metadata": {},
   "outputs": [
    {
     "name": "stdout",
     "output_type": "stream",
     "text": [
      "4\n"
     ]
    }
   ],
   "source": [
    "# assigment operators \n",
    "\n",
    "a=2 \n",
    "a+=2\n",
    "\n",
    "print (a)"
   ]
  },
  {
   "cell_type": "code",
   "execution_count": null,
   "id": "2c59f596",
   "metadata": {},
   "outputs": [
    {
     "name": "stdout",
     "output_type": "stream",
     "text": [
      "True\n",
      "False\n"
     ]
    }
   ],
   "source": [
    "# membership operators \n",
    "\n",
    "print( 'D' in 'Delhi')\n",
    "\n",
    "# in/not in\n",
    " \n",
    "print(1 in [2,3,4,5,6]) \n",
    " "
   ]
  },
  {
   "cell_type": "code",
   "execution_count": null,
   "id": "aa6ddaa8",
   "metadata": {},
   "outputs": [
    {
     "name": "stdout",
     "output_type": "stream",
     "text": [
      "18\n"
     ]
    }
   ],
   "source": [
    "# sum of three value by user input \n",
    "a = int(input (\"enter a value\"))\n",
    "b = int(input ( \" enter a next value\"))\n",
    "c = int( input (\" enter a value \"))\n",
    "\n",
    "sum=a+b+c\n",
    "print(sum )"
   ]
  },
  {
   "cell_type": "code",
   "execution_count": null,
   "id": "9050d0a3",
   "metadata": {},
   "outputs": [
    {
     "name": "stdout",
     "output_type": "stream",
     "text": [
      "9\n"
     ]
    }
   ],
   "source": [
    "# sum of three value by user input \n",
    "number = int(input ('enter a number'))\n",
    " \n",
    "a = number%10\n",
    "\n",
    "number = number//10\n",
    "\n",
    "b = number%10\n",
    "\n",
    "number=number//10\n",
    "\n",
    "c = number%10\n",
    "\n",
    "print( a+b+c)"
   ]
  },
  {
   "cell_type": "markdown",
   "id": "5ebfb451",
   "metadata": {},
   "source": [
    "IF-ELSE"
   ]
  },
  {
   "cell_type": "code",
   "execution_count": 29,
   "id": "efef7dc0",
   "metadata": {},
   "outputs": [
    {
     "name": "stdout",
     "output_type": "stream",
     "text": [
      "incorrect password\n",
      "welcome finally! \n"
     ]
    }
   ],
   "source": [
    "# LOGIN PAGE WEBSITE\n",
    "# email - somyayaduvanshi6@gmail.comm\n",
    "# pass. - 1234\n",
    "\n",
    "email = input ('enter your email')\n",
    "password = input ('enter your password ')\n",
    "\n",
    "if email == 'somyayaduvanshi6@gmail.com' and password == '1234':\n",
    "    print('welcome')\n",
    "\n",
    "elif email =='somyayaduvanshi6@gmail.com' and password != '1234':\n",
    "    print('incorrect password')\n",
    "    password = input('enter password')\n",
    "    if password == '1234':\n",
    "        print('welcome finally! ')\n",
    "    else: \n",
    "        print('beta  tum se na ho paayega! ')\n",
    "else:\n",
    "     print('not correct')"
   ]
  },
  {
   "cell_type": "code",
   "execution_count": 34,
   "id": "6622deac",
   "metadata": {},
   "outputs": [
    {
     "name": "stdout",
     "output_type": "stream",
     "text": [
      "smallest is c \n"
     ]
    }
   ],
   "source": [
    "# min of three no. \n",
    "a = int( input ('first num'))\n",
    "b = int ( input ( 'second num '))\n",
    "c = int ( input ( 'third num '))\n",
    "\n",
    "if a<b and a<c:\n",
    "    print( 'smallest is a')\n",
    "elif b<c:\n",
    "    print(' smallest is b')\n",
    "else :\n",
    "    print('smallest is c ')"
   ]
  },
  {
   "cell_type": "code",
   "execution_count": 38,
   "id": "de9b098b",
   "metadata": {},
   "outputs": [
    {
     "name": "stdout",
     "output_type": "stream",
     "text": [
      "0\n"
     ]
    }
   ],
   "source": [
    "# menu driven calculator \n",
    "fnum = int(input (' enter a first num'))\n",
    "snum = int( input ( 'enter a second number'))\n",
    "\n",
    "op = input( ' enter a operation ')\n",
    "if op == '+':\n",
    "    print(fnum+snum)\n",
    "elif op == '-':\n",
    "    print(fnum-snum)\n",
    "elif op == '/':\n",
    "    print(fnum/snum)\n",
    "elif op == '*':\n",
    "    print(fnum*snum)\n",
    "else:\n",
    "    print (' wrong operator ')"
   ]
  },
  {
   "cell_type": "code",
   "execution_count": 45,
   "id": "456a2535",
   "metadata": {},
   "outputs": [
    {
     "name": "stdout",
     "output_type": "stream",
     "text": [
      "exit\n"
     ]
    }
   ],
   "source": [
    "# avm machine \n",
    "\n",
    "menu = input (\"\"\" Hi how can i help you \n",
    "              1. enter 1 for pin change  \n",
    "              2. enter 2 for balance check \n",
    "              3. enter 3 for withdrawl \n",
    "              4. enter 4 for exit \n",
    "\"\"\")\n",
    "\n",
    "if menu == '1' :\n",
    "    print ( 'pin change ')\n",
    "elif menu == '2':\n",
    "    print( 'balance check ')\n",
    "elif menu == '3':\n",
    "    print ( 'withdrawl')\n",
    "elif menu == '4':\n",
    "    print('exit')\n",
    "else:\n",
    "    print ('invalid information ')    "
   ]
  },
  {
   "cell_type": "markdown",
   "id": "16be4d05",
   "metadata": {},
   "source": [
    "MODULES "
   ]
  },
  {
   "cell_type": "code",
   "execution_count": 48,
   "id": "9e96031c",
   "metadata": {},
   "outputs": [
    {
     "data": {
      "text/plain": [
       "120"
      ]
     },
     "execution_count": 48,
     "metadata": {},
     "output_type": "execute_result"
    }
   ],
   "source": [
    "# math \n",
    "import math \n",
    "math.factorial(5)"
   ]
  },
  {
   "cell_type": "code",
   "execution_count": null,
   "id": "57344fbe",
   "metadata": {},
   "outputs": [
    {
     "data": {
      "text/plain": [
       "['False',\n",
       " 'None',\n",
       " 'True',\n",
       " 'and',\n",
       " 'as',\n",
       " 'assert',\n",
       " 'async',\n",
       " 'await',\n",
       " 'break',\n",
       " 'class',\n",
       " 'continue',\n",
       " 'def',\n",
       " 'del',\n",
       " 'elif',\n",
       " 'else',\n",
       " 'except',\n",
       " 'finally',\n",
       " 'for',\n",
       " 'from',\n",
       " 'global',\n",
       " 'if',\n",
       " 'import',\n",
       " 'in',\n",
       " 'is',\n",
       " 'lambda',\n",
       " 'nonlocal',\n",
       " 'not',\n",
       " 'or',\n",
       " 'pass',\n",
       " 'raise',\n",
       " 'return',\n",
       " 'try',\n",
       " 'while',\n",
       " 'with',\n",
       " 'yield']"
      ]
     },
     "execution_count": 49,
     "metadata": {},
     "output_type": "execute_result"
    }
   ],
   "source": [
    "# keyword \n",
    "import keyword\n",
    "keyword.kwlist"
   ]
  },
  {
   "cell_type": "code",
   "execution_count": 50,
   "id": "f6a7b43e",
   "metadata": {},
   "outputs": [
    {
     "data": {
      "text/plain": [
       "47"
      ]
     },
     "execution_count": 50,
     "metadata": {},
     "output_type": "execute_result"
    }
   ],
   "source": [
    "# random\n",
    "import random \n",
    "random.randint(1,100)"
   ]
  },
  {
   "cell_type": "code",
   "execution_count": 54,
   "id": "6ba6e066",
   "metadata": {},
   "outputs": [
    {
     "data": {
      "text/plain": [
       "datetime.datetime(2025, 8, 22, 13, 26, 42, 904179)"
      ]
     },
     "execution_count": 54,
     "metadata": {},
     "output_type": "execute_result"
    }
   ],
   "source": [
    "# datetime \n",
    "import datetime \n",
    "datetime.datetime.now()"
   ]
  },
  {
   "cell_type": "markdown",
   "id": "57b725a3",
   "metadata": {},
   "source": [
    "LOOPS "
   ]
  },
  {
   "cell_type": "code",
   "execution_count": null,
   "id": "a921f710",
   "metadata": {},
   "outputs": [
    {
     "name": "stdout",
     "output_type": "stream",
     "text": [
      "15 * 1 = 15\n",
      "15 * 2 = 30\n",
      "15 * 3 = 45\n",
      "15 * 4 = 60\n",
      "15 * 5 = 75\n",
      "15 * 6 = 90\n",
      "15 * 7 = 105\n",
      "15 * 8 = 120\n",
      "15 * 9 = 135\n",
      "15 * 10 = 150\n"
     ]
    }
   ],
   "source": [
    "#WHILE LOOP ----\n",
    "# tables \n",
    "\n",
    "number = int (input (' enter a number '))\n",
    "\n",
    "i=1 \n",
    "while i<11:\n",
    "    print(number,'*' , i,'=',number *i)\n",
    "    i += 1"
   ]
  },
  {
   "cell_type": "code",
   "execution_count": 60,
   "id": "8d65d608",
   "metadata": {},
   "outputs": [
    {
     "name": "stdout",
     "output_type": "stream",
     "text": [
      "1\n",
      "2\n",
      "limit crossed\n"
     ]
    }
   ],
   "source": [
    "# while loop with else \n",
    "x=1 \n",
    "while x<3:\n",
    " print(x)\n",
    " x += 1\n",
    "\n",
    "else:\n",
    " print('limit crossed')"
   ]
  },
  {
   "cell_type": "code",
   "execution_count": 64,
   "id": "dead0d07",
   "metadata": {},
   "outputs": [
    {
     "name": "stdout",
     "output_type": "stream",
     "text": [
      "galat! guess higher \n",
      "galat! guess higher \n",
      "galat! guess higher \n",
      "galat! guess higher \n",
      "galat! guess higher \n",
      "galat! guess higher \n",
      "galat! guess higher \n",
      "galat! guess higher \n",
      "galat! guess lower\n",
      "galat! guess lower\n",
      "galat! guess higher \n",
      "galat! guess higher \n",
      "correct guess\n",
      "attempts 13\n"
     ]
    }
   ],
   "source": [
    "# gussing game \n",
    "# gettin rendom intiger in 1 to 100\n",
    "\n",
    "import random\n",
    "jackpot = random.randint(1,100)\n",
    "\n",
    "guess = int ( input (' guess karo '))\n",
    "counter=1\n",
    "\n",
    "while guess != jackpot: \n",
    " if guess<jackpot:\n",
    "    print('galat! guess higher ')\n",
    " else: \n",
    "    print ('galat! guess lower')\n",
    "\n",
    " guess = int ( input ('guess karo !'))   \n",
    " counter += 1\n",
    "\n",
    "else:\n",
    "    print('correct guess')\n",
    "    print('attempts',counter)"
   ]
  },
  {
   "cell_type": "code",
   "execution_count": null,
   "id": "f9f8793e",
   "metadata": {},
   "outputs": [
    {
     "name": "stdout",
     "output_type": "stream",
     "text": [
      "1\n",
      "3\n",
      "5\n",
      "7\n",
      "9\n"
     ]
    }
   ],
   "source": [
    "# FOR LOOP ----\n",
    "\n",
    "for i in range(1,11,2):\n",
    "    print(i)"
   ]
  },
  {
   "cell_type": "code",
   "execution_count": 67,
   "id": "0dc33329",
   "metadata": {},
   "outputs": [
    {
     "name": "stdout",
     "output_type": "stream",
     "text": [
      "10\n",
      "9\n",
      "8\n",
      "7\n",
      "6\n",
      "5\n",
      "4\n",
      "3\n",
      "2\n",
      "1\n"
     ]
    }
   ],
   "source": [
    "for i in range(10,0,-1):\n",
    "    print(i)"
   ]
  },
  {
   "cell_type": "code",
   "execution_count": 68,
   "id": "6f857b06",
   "metadata": {},
   "outputs": [
    {
     "name": "stdout",
     "output_type": "stream",
     "text": [
      "d\n",
      "e\n",
      "l\n",
      "h\n",
      "i\n"
     ]
    }
   ],
   "source": [
    "for i in 'delhi':\n",
    "    print(i)"
   ]
  },
  {
   "cell_type": "code",
   "execution_count": 69,
   "id": "59a0ba38",
   "metadata": {},
   "outputs": [
    {
     "name": "stdout",
     "output_type": "stream",
     "text": [
      "10 10000\n",
      "9 9000.0\n",
      "8 8100.0\n",
      "7 7290.0\n",
      "6 6561.0\n",
      "5 5904.9\n",
      "4 5314.41\n",
      "3 4782.969\n",
      "2 4304.6721\n",
      "1 3874.20489\n"
     ]
    }
   ],
   "source": [
    "# The current population of a town is 10000 . \n",
    "# The population of the town is increasing at the rate of 10% per year.\n",
    "#  You have to write a program to find out the population at the end of each of the last 10 year.\n",
    "\n",
    "curr_pop =10000\n",
    "for i in range(10,0,-1):\n",
    "    print(i,curr_pop)\n",
    "    curr_pop = curr_pop - 0.1*curr_pop\n"
   ]
  }
 ],
 "metadata": {
  "kernelspec": {
   "display_name": "Python 3",
   "language": "python",
   "name": "python3"
  },
  "language_info": {
   "codemirror_mode": {
    "name": "ipython",
    "version": 3
   },
   "file_extension": ".py",
   "mimetype": "text/x-python",
   "name": "python",
   "nbconvert_exporter": "python",
   "pygments_lexer": "ipython3",
   "version": "3.11.9"
  }
 },
 "nbformat": 4,
 "nbformat_minor": 5
}
