{
 "cells": [
  {
   "cell_type": "markdown",
   "id": "ae8ade53",
   "metadata": {},
   "source": [
    "Python Day - 4"
   ]
  },
  {
   "cell_type": "markdown",
   "id": "c22a6284",
   "metadata": {},
   "source": [
    "LIST"
   ]
  },
  {
   "cell_type": "code",
   "execution_count": 2,
   "id": "f787c1fb",
   "metadata": {},
   "outputs": [
    {
     "name": "stdout",
     "output_type": "stream",
     "text": [
      "1635310581568\n",
      "140705203647272\n",
      "140705203647304\n",
      "140705203647336\n",
      "140705203647272\n",
      "140705203647304\n",
      "140705203647336\n"
     ]
    }
   ],
   "source": [
    "L = [1,2,3]\n",
    "\n",
    "print (id(L))\n",
    "print(id(L[0]))\n",
    "print(id(L[1]))\n",
    "print(id(L[2]))\n",
    "print(id(1))\n",
    "print(id(2))\n",
    "print(id(3))"
   ]
  },
  {
   "cell_type": "code",
   "execution_count": 4,
   "id": "8331358c",
   "metadata": {},
   "outputs": [
    {
     "data": {
      "text/plain": [
       "False"
      ]
     },
     "execution_count": 4,
     "metadata": {},
     "output_type": "execute_result"
    }
   ],
   "source": [
    "l = [1,2,3]\n",
    "l1 = [1,4,5]\n",
    "\n",
    "l == l1"
   ]
  },
  {
   "cell_type": "code",
   "execution_count": 6,
   "id": "9547222a",
   "metadata": {},
   "outputs": [
    {
     "name": "stdout",
     "output_type": "stream",
     "text": [
      "[]\n",
      "[1, 2, 3, 4, 5]\n",
      "[1, 2, 3, [4, 5]]\n",
      "[[[1, 2], [3, 4]], [4, 5]]\n",
      "[1, True, 5.6, (5+6j), 'hello']\n",
      "['h', 'e', 'l', 'l', 'o']\n"
     ]
    }
   ],
   "source": [
    "# empty \n",
    "print([])\n",
    "\n",
    "# 1D --> homo \n",
    "print ([1,2,3,4,5])\n",
    "\n",
    "# 2D\n",
    "print([1,2,3,[4,5]])\n",
    "\n",
    "# 3D --> \n",
    "print([[[1,2],[3,4]],[4,5]])\n",
    "\n",
    "# hetrogenous\n",
    "print([1,True,5.6,5+6j,'hello'])\n",
    "\n",
    "# using type conversion \n",
    "print(list('hello'))"
   ]
  },
  {
   "cell_type": "code",
   "execution_count": 11,
   "id": "2d01c076",
   "metadata": {},
   "outputs": [
    {
     "name": "stdout",
     "output_type": "stream",
     "text": [
      "4\n"
     ]
    }
   ],
   "source": [
    "# indexing\n",
    "l = [ 1,2,3,[4,5]]\n",
    "print(l[3][0])\n"
   ]
  },
  {
   "cell_type": "code",
   "execution_count": 12,
   "id": "e0f7c1af",
   "metadata": {},
   "outputs": [
    {
     "name": "stdout",
     "output_type": "stream",
     "text": [
      "3\n"
     ]
    }
   ],
   "source": [
    "l =([[[1,2],[3,4]],[4,5]])\n",
    "print(l[0][1][0])"
   ]
  },
  {
   "cell_type": "code",
   "execution_count": 15,
   "id": "81376e5c",
   "metadata": {},
   "outputs": [
    {
     "name": "stdout",
     "output_type": "stream",
     "text": [
      "[4, 5, 6]\n",
      "[4, 5, 6]\n",
      "[1, 3, 5]\n"
     ]
    }
   ],
   "source": [
    "# slicing \n",
    "\n",
    "l=[1,2,3,4,5,6]\n",
    "\n",
    "print(l[-3:])\n",
    "print(l[3:])\n",
    "print(l[0::2])"
   ]
  },
  {
   "cell_type": "code",
   "execution_count": 16,
   "id": "65bc0440",
   "metadata": {},
   "outputs": [
    {
     "name": "stdout",
     "output_type": "stream",
     "text": [
      "[1, 2, 3, 4, 5, True]\n"
     ]
    }
   ],
   "source": [
    "# adding items to a list \n",
    "\n",
    "# append \n",
    "l= [1,2,3,4,5]\n",
    "l.append(True)\n",
    "print(l)"
   ]
  },
  {
   "cell_type": "code",
   "execution_count": 17,
   "id": "5162255a",
   "metadata": {},
   "outputs": [
    {
     "name": "stdout",
     "output_type": "stream",
     "text": [
      "[1, 2, 3, 4, 5, 6, 7, 8]\n"
     ]
    }
   ],
   "source": [
    "# extend \n",
    "l = [1,2,3,4,5]\n",
    "l.extend([6,7,8])\n",
    "print(l)"
   ]
  },
  {
   "cell_type": "code",
   "execution_count": 18,
   "id": "d0491b76",
   "metadata": {},
   "outputs": [
    {
     "name": "stdout",
     "output_type": "stream",
     "text": [
      "[1, 100, 2, 3, 4, 5]\n"
     ]
    }
   ],
   "source": [
    "# insert \n",
    "\n",
    "l=[1,2,3,4,5]\n",
    "l.insert(1,100)\n",
    "print(l)"
   ]
  },
  {
   "cell_type": "code",
   "execution_count": null,
   "id": "7dc90a70",
   "metadata": {},
   "outputs": [
    {
     "name": "stdout",
     "output_type": "stream",
     "text": [
      "[1, 200, 300, 400, 500]\n"
     ]
    }
   ],
   "source": [
    "# editing in list \n",
    "l = [1,2,3,4,5]\n",
    "\n",
    "# editing with index \n",
    "l[-1]=500\n",
    "\n",
    "# editing with slicing\n",
    "l[1:4] = [200,300,400]\n",
    "\n",
    "print(l)"
   ]
  },
  {
   "cell_type": "code",
   "execution_count": null,
   "id": "55a9ff18",
   "metadata": {},
   "outputs": [
    {
     "name": "stdout",
     "output_type": "stream",
     "text": [
      "[1, 4]\n"
     ]
    }
   ],
   "source": [
    "# deleting in list \n",
    "\n",
    "# del\n",
    "l = [1,2,3,4,5]\n",
    "\n",
    "# indexing  \n",
    "del l[-1]\n",
    "\n",
    "# slicing\n",
    "del l [1:3]\n",
    "\n",
    "print(l)\n",
    "\n"
   ]
  },
  {
   "cell_type": "code",
   "execution_count": 26,
   "id": "f897c23b",
   "metadata": {},
   "outputs": [
    {
     "name": "stdout",
     "output_type": "stream",
     "text": [
      "[1, 2, 3, 4]\n"
     ]
    }
   ],
   "source": [
    "# remove\n",
    "l =[1,2,3,4,5]\n",
    "\n",
    "l.remove(5)\n",
    "print(l)"
   ]
  },
  {
   "cell_type": "code",
   "execution_count": 27,
   "id": "cd53e04b",
   "metadata": {},
   "outputs": [
    {
     "name": "stdout",
     "output_type": "stream",
     "text": [
      "[2, 3, 4, 5]\n"
     ]
    }
   ],
   "source": [
    "# pop\n",
    "\n",
    "l = [1,2,3,4,5]\n",
    "\n",
    "l.pop(0)\n",
    "print(l)"
   ]
  },
  {
   "cell_type": "code",
   "execution_count": 29,
   "id": "712e2506",
   "metadata": {},
   "outputs": [
    {
     "name": "stdout",
     "output_type": "stream",
     "text": [
      "[]\n"
     ]
    }
   ],
   "source": [
    "# clear \n",
    "\n",
    "l = [1,2,3,4,5]\n",
    "l.clear()\n",
    "print(l)"
   ]
  },
  {
   "cell_type": "code",
   "execution_count": 33,
   "id": "647e4218",
   "metadata": {},
   "outputs": [
    {
     "name": "stdout",
     "output_type": "stream",
     "text": [
      "[1, 2, 3, 4, 5, 6, 7, 8, 9, 10]\n",
      "[1, 2, 3, 4, 5, 1, 2, 3, 4, 5]\n"
     ]
    }
   ],
   "source": [
    "# operation in list \n",
    "\n",
    "# Airthmetic ( + ,* )\n",
    "l1 = [1,2,3,4,5]\n",
    "l2 = [6,7,8,9,10]\n",
    "\n",
    "print(l1 +l2)\n",
    "print(l1 *2)"
   ]
  },
  {
   "cell_type": "code",
   "execution_count": 40,
   "id": "ee6b22c2",
   "metadata": {},
   "outputs": [
    {
     "name": "stdout",
     "output_type": "stream",
     "text": [
      "True\n",
      "True\n"
     ]
    }
   ],
   "source": [
    "# membership \n",
    "l1 = [1,2,3,4,5]\n",
    "l2 = [1,2,3,4,[5,6]]\n",
    "\n",
    "print( 3 in l1)\n",
    "print([5,6] in l2)"
   ]
  },
  {
   "cell_type": "code",
   "execution_count": 43,
   "id": "789bca2a",
   "metadata": {},
   "outputs": [
    {
     "name": "stdout",
     "output_type": "stream",
     "text": [
      "1\n",
      "2\n",
      "3\n",
      "4\n",
      "[5, 6]\n"
     ]
    }
   ],
   "source": [
    "# loops \n",
    "l1 = [1,2,3,4,5]\n",
    "l2 = [1,2,3,4,[5,6]]\n",
    "\n",
    "for i in l2:\n",
    "    print(i)"
   ]
  },
  {
   "cell_type": "code",
   "execution_count": 48,
   "id": "9f23c7d2",
   "metadata": {},
   "outputs": [
    {
     "name": "stdout",
     "output_type": "stream",
     "text": [
      "5\n",
      "1\n",
      "5\n",
      "[1, 2, 3, 4, 5]\n"
     ]
    },
    {
     "data": {
      "text/plain": [
       "1"
      ]
     },
     "execution_count": 48,
     "metadata": {},
     "output_type": "execute_result"
    }
   ],
   "source": [
    "# list function \n",
    "\n",
    "l = [1,2,3,4,5]\n",
    "\n",
    "print(len(l))\n",
    "print(min(l))\n",
    "print(max(l))\n",
    "print(sorted(l))\n",
    "\n",
    "l.count(5)\n"
   ]
  },
  {
   "cell_type": "code",
   "execution_count": 49,
   "id": "4c8a8803",
   "metadata": {},
   "outputs": [
    {
     "data": {
      "text/plain": [
       "3"
      ]
     },
     "execution_count": 49,
     "metadata": {},
     "output_type": "execute_result"
    }
   ],
   "source": [
    "# index\n",
    "l.index(4)"
   ]
  },
  {
   "cell_type": "code",
   "execution_count": 52,
   "id": "cbda2149",
   "metadata": {},
   "outputs": [
    {
     "name": "stdout",
     "output_type": "stream",
     "text": [
      "[5, 4, 1, 3, 2]\n"
     ]
    }
   ],
   "source": [
    "# reverse \n",
    "l =[2,3,1,4,5]\n",
    "l.reverse()\n",
    "print(l)\n"
   ]
  },
  {
   "cell_type": "code",
   "execution_count": 57,
   "id": "e5beeba1",
   "metadata": {},
   "outputs": [
    {
     "name": "stdout",
     "output_type": "stream",
     "text": [
      "[2, 1, 5, 7, 0]\n",
      "[0, 1, 2, 5, 7]\n",
      "[2, 1, 5, 7, 0]\n",
      "[0, 1, 2, 5, 7]\n"
     ]
    }
   ],
   "source": [
    "# sort \n",
    "l = [2,1,5,7,0]\n",
    "print(l)\n",
    "print(sorted(l))\n",
    "print(l)\n",
    "l.sort()\n",
    "print(l)"
   ]
  },
  {
   "cell_type": "code",
   "execution_count": 59,
   "id": "31c73a69",
   "metadata": {},
   "outputs": [
    {
     "name": "stdout",
     "output_type": "stream",
     "text": [
      "[2, 1, 5, 7, 0]\n",
      "2144567471680\n",
      "[2, 1, 5, 7, 0]\n",
      "2144568170560\n"
     ]
    }
   ],
   "source": [
    "# copy \n",
    "l = [2,1,5,7,0]\n",
    "print(l)\n",
    "print(id (l))\n",
    "l1 = l.copy()\n",
    "print (l1)\n",
    "print(id(l1))"
   ]
  },
  {
   "cell_type": "code",
   "execution_count": 61,
   "id": "cea84134",
   "metadata": {},
   "outputs": [
    {
     "name": "stdout",
     "output_type": "stream",
     "text": [
      "[1, 2, 3, 4, 5, 6, 7, 8, 9, 10]\n"
     ]
    }
   ],
   "source": [
    "# LIST COMPREHENSION \n",
    "\n",
    "# add 1 to 10 no. to a list\n",
    "l = [i for i in range(1,11)]\n",
    "\n",
    "print (l)"
   ]
  },
  {
   "cell_type": "code",
   "execution_count": 64,
   "id": "6803be53",
   "metadata": {},
   "outputs": [
    {
     "name": "stdout",
     "output_type": "stream",
     "text": [
      "[-6, -9, -12]\n"
     ]
    },
    {
     "data": {
      "text/plain": [
       "[-6, -9, -12]"
      ]
     },
     "execution_count": 64,
     "metadata": {},
     "output_type": "execute_result"
    }
   ],
   "source": [
    "# scalar multiplication on a vector \n",
    "v = [2,3,4]\n",
    "s = -3\n",
    "\n",
    "x =[]\n",
    "for i in v:\n",
    "    x.append(i*s)\n",
    "\n",
    "print(x)\n",
    "\n",
    "\n",
    "\n",
    "[s*i for i in v]"
   ]
  },
  {
   "cell_type": "code",
   "execution_count": 65,
   "id": "80fdaf4f",
   "metadata": {},
   "outputs": [
    {
     "data": {
      "text/plain": [
       "[1, 4, 9, 16, 25]"
      ]
     },
     "execution_count": 65,
     "metadata": {},
     "output_type": "execute_result"
    }
   ],
   "source": [
    "# add squares\n",
    "l = [1,2,3,4,5]\n",
    "[i**2 for i in l]"
   ]
  },
  {
   "cell_type": "code",
   "execution_count": 66,
   "id": "0c555fb1",
   "metadata": {},
   "outputs": [
    {
     "data": {
      "text/plain": [
       "[5, 10, 15, 20, 25, 30, 35, 40, 45, 50]"
      ]
     },
     "execution_count": 66,
     "metadata": {},
     "output_type": "execute_result"
    }
   ],
   "source": [
    "# print all no. divisible by 5 in the range of 1 to 50\n",
    "[ i for i in range(1,51) if i%5 ==0]"
   ]
  },
  {
   "cell_type": "code",
   "execution_count": 72,
   "id": "1fbddf69",
   "metadata": {},
   "outputs": [
    {
     "data": {
      "text/plain": [
       "['python', 'php']"
      ]
     },
     "execution_count": 72,
     "metadata": {},
     "output_type": "execute_result"
    }
   ],
   "source": [
    "# find language  which start with letter p \n",
    "languages = ['java', 'python' ,'php', 'c']\n",
    "[language for language in languages if language.startswith('p')]"
   ]
  },
  {
   "cell_type": "code",
   "execution_count": 73,
   "id": "7425ef66",
   "metadata": {},
   "outputs": [
    {
     "data": {
      "text/plain": [
       "['apple']"
      ]
     },
     "execution_count": 73,
     "metadata": {},
     "output_type": "execute_result"
    }
   ],
   "source": [
    "# nested if with list comphension \n",
    "basket=['apple','banana','orange','cherry']\n",
    "my_fruits=['apple','kiwi','banana','grapes']\n",
    "\n",
    "[fruit for fruit in my_fruits if fruit in basket if fruit.startswith('a')]"
   ]
  },
  {
   "cell_type": "code",
   "execution_count": 74,
   "id": "e32bf14b",
   "metadata": {},
   "outputs": [
    {
     "data": {
      "text/plain": [
       "[[1, 2, 3], [2, 4, 6], [3, 6, 9]]"
      ]
     },
     "execution_count": 74,
     "metadata": {},
     "output_type": "execute_result"
    }
   ],
   "source": [
    "# print a (3,3) matrix using list comprehension --> nested list comprehension\n",
    "[[i*j for i in range(1,4)] for j in range(1,4)] "
   ]
  },
  {
   "cell_type": "code",
   "execution_count": 75,
   "id": "0a1d28f4",
   "metadata": {},
   "outputs": [
    {
     "data": {
      "text/plain": [
       "[5, 6, 7, 8, 10, 12, 14, 16, 15, 18, 21, 24, 20, 24, 28, 32]"
      ]
     },
     "execution_count": 75,
     "metadata": {},
     "output_type": "execute_result"
    }
   ],
   "source": [
    "# cartesian product --> list comprehension on 2 lists together\n",
    "l1 = [1,2,3,4]\n",
    "l2 = [5,6,7,8]\n",
    "\n",
    "[i*j for i  in l1 for j in l2  ]"
   ]
  },
  {
   "cell_type": "code",
   "execution_count": 76,
   "id": "310d37ff",
   "metadata": {},
   "outputs": [
    {
     "name": "stdout",
     "output_type": "stream",
     "text": [
      "1\n",
      "2\n",
      "3\n",
      "4\n"
     ]
    }
   ],
   "source": [
    "# TRAVERSE --\n",
    "# 2 WAY \n",
    "# . ITEMWISE\n",
    "# . INDEXWISE \n",
    "\n",
    "# itemwise\n",
    "l = [1,2,3,4]\n",
    "for i in l:\n",
    "    print(i)"
   ]
  },
  {
   "cell_type": "code",
   "execution_count": 77,
   "id": "0a7c9892",
   "metadata": {},
   "outputs": [
    {
     "name": "stdout",
     "output_type": "stream",
     "text": [
      "0\n",
      "1\n",
      "2\n",
      "3\n"
     ]
    }
   ],
   "source": [
    "# indexwise\n",
    "l = [1,2,3,4]\n",
    "for i in range (0,len(l)):\n",
    "    print(i)\n",
    " "
   ]
  },
  {
   "cell_type": "code",
   "execution_count": 83,
   "id": "4101c37d",
   "metadata": {},
   "outputs": [
    {
     "data": {
      "text/plain": [
       "[0, 0, 0, 0]"
      ]
     },
     "execution_count": 83,
     "metadata": {},
     "output_type": "execute_result"
    }
   ],
   "source": [
    "# zip function \n",
    "\n",
    "# write a program to add items of 2 lists indexwise \n",
    "\n",
    "l1 = [1,2,3,4]\n",
    "l2 = [-1,-2,-3,-4]\n",
    "\n",
    "list(zip(l1,l2))\n",
    "[i+j for i,j in zip (l1,l2)]"
   ]
  },
  {
   "cell_type": "code",
   "execution_count": 84,
   "id": "47bf27a8",
   "metadata": {},
   "outputs": [
    {
     "name": "stdout",
     "output_type": "stream",
     "text": [
      "[1, 2, <built-in function print>, <class 'type'>, <bound method Kernel.raw_input of <ipykernel.ipkernel.IPythonKernel object at 0x000001F35047B090>>]\n"
     ]
    }
   ],
   "source": [
    "l =[ 1,2,print,type,input]\n",
    "print(l)"
   ]
  },
  {
   "cell_type": "code",
   "execution_count": 85,
   "id": "5084ebd4",
   "metadata": {},
   "outputs": [
    {
     "name": "stdout",
     "output_type": "stream",
     "text": [
      "[1, 2, 3]\n",
      "[1, 2, 3]\n",
      "[1, 2, 3, 4]\n",
      "[1, 2, 3, 4]\n"
     ]
    }
   ],
   "source": [
    "a = [1,2,3]\n",
    "b= a\n",
    "\n",
    "print(a)\n",
    "print(b)\n",
    "\n",
    "a.append(4)\n",
    "print(a)\n",
    "print(b)\n",
    "\n"
   ]
  }
 ],
 "metadata": {
  "kernelspec": {
   "display_name": "Python 3",
   "language": "python",
   "name": "python3"
  },
  "language_info": {
   "codemirror_mode": {
    "name": "ipython",
    "version": 3
   },
   "file_extension": ".py",
   "mimetype": "text/x-python",
   "name": "python",
   "nbconvert_exporter": "python",
   "pygments_lexer": "ipython3",
   "version": "3.11.9"
  }
 },
 "nbformat": 4,
 "nbformat_minor": 5
}
