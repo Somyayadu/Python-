{
 "cells": [
  {
   "cell_type": "markdown",
   "id": "2c6763e3",
   "metadata": {},
   "source": [
    "Python - Day 5"
   ]
  },
  {
   "cell_type": "code",
   "execution_count": 6,
   "id": "64b7d097",
   "metadata": {},
   "outputs": [
    {
     "name": "stdout",
     "output_type": "stream",
     "text": [
      "()\n",
      "('hello',)\n",
      "(1, 2, 3, 4)\n",
      "(1, 2, 5, True, [1, 2, 3])\n",
      "(1, 2, 3, (4, 5))\n",
      "('h', 'e', 'l', 'l', 'o')\n"
     ]
    }
   ],
   "source": [
    "# empty\n",
    "\n",
    "t1 = ()\n",
    "print(t1)\n",
    "\n",
    "t2 =('hello',)\n",
    "print(t2)\n",
    "\n",
    "t3 = (1,2,3,4)\n",
    "print(t3)\n",
    "\n",
    "t4 = (1,2,5,True,[1,2,3])\n",
    "print(t4)\n",
    "\n",
    "t5 = (1,2,3,(4,5))\n",
    "print(t5)\n",
    "\n",
    "t6 = tuple('hello')\n",
    "print(t6)"
   ]
  },
  {
   "cell_type": "code",
   "execution_count": 10,
   "id": "6f7601d1",
   "metadata": {},
   "outputs": [
    {
     "name": "stdout",
     "output_type": "stream",
     "text": [
      "1\n",
      "4\n"
     ]
    }
   ],
   "source": [
    "# accessing item\n",
    "\n",
    "t3 \n",
    "print(t3[0])\n",
    "print(t3[-1])"
   ]
  },
  {
   "cell_type": "code",
   "execution_count": 11,
   "id": "9aecacdf",
   "metadata": {},
   "outputs": [
    {
     "name": "stdout",
     "output_type": "stream",
     "text": [
      "(1, 2, 3)\n"
     ]
    }
   ],
   "source": [
    "print(t3[0:3])"
   ]
  },
  {
   "cell_type": "code",
   "execution_count": 12,
   "id": "99974344",
   "metadata": {},
   "outputs": [
    {
     "data": {
      "text/plain": [
       "4"
      ]
     },
     "execution_count": 12,
     "metadata": {},
     "output_type": "execute_result"
    }
   ],
   "source": [
    "t5 [-1][0]"
   ]
  },
  {
   "cell_type": "code",
   "execution_count": null,
   "id": "a1910486",
   "metadata": {},
   "outputs": [],
   "source": [
    "# edit items\n",
    "# t3[0]= 100 \n",
    "# tupple is not editable"
   ]
  },
  {
   "cell_type": "code",
   "execution_count": 14,
   "id": "b91d0905",
   "metadata": {},
   "outputs": [],
   "source": [
    "# deleting \n",
    "# del t3 \n",
    "# print (t3)"
   ]
  },
  {
   "cell_type": "code",
   "execution_count": 18,
   "id": "8c0560ad",
   "metadata": {},
   "outputs": [
    {
     "data": {
      "text/plain": [
       "()"
      ]
     },
     "execution_count": 18,
     "metadata": {},
     "output_type": "execute_result"
    }
   ],
   "source": [
    "t = (1,2,3,4,5)\n",
    "\n",
    "t[-1:4:-1]"
   ]
  },
  {
   "cell_type": "code",
   "execution_count": null,
   "id": "6924e231",
   "metadata": {},
   "outputs": [
    {
     "name": "stdout",
     "output_type": "stream",
     "text": [
      "(1, 2, 3, 4, 5, 6, 7, 8)\n",
      "(1, 2, 3, 4, 1, 2, 3, 4, 1, 2, 3, 4)\n",
      "1\n",
      "2\n",
      "3\n",
      "4\n"
     ]
    }
   ],
   "source": [
    "# operation on tuples \n",
    "t1 = (1,2,3,4)\n",
    "t2 = (5,6,7,8)\n",
    "\n",
    "print(t1+t2)\n",
    "print(t1 *3)\n",
    "1 in t1\n",
    "# iterator\n",
    "for i in t1:\n",
    "    print(i)"
   ]
  },
  {
   "cell_type": "code",
   "execution_count": 26,
   "id": "5a6c471b",
   "metadata": {},
   "outputs": [
    {
     "data": {
      "text/plain": [
       "[1, 2, 3, 4, 5]"
      ]
     },
     "execution_count": 26,
     "metadata": {},
     "output_type": "execute_result"
    }
   ],
   "source": [
    "# tuple function\n",
    "\n",
    "t = (1,2,3,4,5)\n",
    "len(t)\n",
    "\n",
    "\n",
    "sum(t)\n",
    "\n",
    "\n",
    "min(t)\n",
    "\n",
    "\n",
    "max(t)\n",
    "\n",
    "\n",
    "sorted(t)"
   ]
  },
  {
   "cell_type": "code",
   "execution_count": 27,
   "id": "73190b25",
   "metadata": {},
   "outputs": [
    {
     "data": {
      "text/plain": [
       "1"
      ]
     },
     "execution_count": 27,
     "metadata": {},
     "output_type": "execute_result"
    }
   ],
   "source": [
    "t.count(5)"
   ]
  },
  {
   "cell_type": "code",
   "execution_count": 28,
   "id": "0361b3b6",
   "metadata": {},
   "outputs": [
    {
     "data": {
      "text/plain": [
       "3"
      ]
     },
     "execution_count": 28,
     "metadata": {},
     "output_type": "execute_result"
    }
   ],
   "source": [
    "t.index(i)"
   ]
  },
  {
   "cell_type": "code",
   "execution_count": 29,
   "id": "c274930c",
   "metadata": {},
   "outputs": [
    {
     "data": {
      "text/plain": [
       "4"
      ]
     },
     "execution_count": 29,
     "metadata": {},
     "output_type": "execute_result"
    }
   ],
   "source": [
    "t.index(5)"
   ]
  },
  {
   "cell_type": "code",
   "execution_count": 33,
   "id": "f48637f9",
   "metadata": {},
   "outputs": [
    {
     "name": "stdout",
     "output_type": "stream",
     "text": [
      "[1, 2, 3, 4, 5]\n",
      "[1, 2, 3, 4, 5]\n"
     ]
    }
   ],
   "source": [
    "a = [1,2,3,4]\n",
    "b =a \n",
    "a.append(5)\n",
    "print(a)\n",
    "print(b)\n"
   ]
  },
  {
   "cell_type": "code",
   "execution_count": 34,
   "id": "bc5229ee",
   "metadata": {},
   "outputs": [
    {
     "name": "stdout",
     "output_type": "stream",
     "text": [
      "(1, 2, 3, 4, 5)\n",
      "(1, 2, 3, 4)\n"
     ]
    }
   ],
   "source": [
    "a =(1,2,3,4)\n",
    "b=a\n",
    "a =a+(5,)\n",
    "print(a)\n",
    "print(b)"
   ]
  },
  {
   "cell_type": "code",
   "execution_count": 35,
   "id": "ec63af4e",
   "metadata": {},
   "outputs": [
    {
     "name": "stdout",
     "output_type": "stream",
     "text": [
      "1 2 3\n"
     ]
    }
   ],
   "source": [
    "# spacially syntx \n",
    "a,b,c =(1,2,3)\n",
    "print(a,b,c)"
   ]
  },
  {
   "cell_type": "code",
   "execution_count": 36,
   "id": "1388a578",
   "metadata": {},
   "outputs": [
    {
     "name": "stdout",
     "output_type": "stream",
     "text": [
      "2 1\n"
     ]
    }
   ],
   "source": [
    "a =1\n",
    "b =2 \n",
    "a,b =b,a\n",
    "print(a,b)"
   ]
  },
  {
   "cell_type": "code",
   "execution_count": 37,
   "id": "c7f515b5",
   "metadata": {},
   "outputs": [
    {
     "name": "stdout",
     "output_type": "stream",
     "text": [
      "1 2\n",
      "[3, 4]\n"
     ]
    }
   ],
   "source": [
    "a,b,*others= (1,2,3,4)\n",
    "print(a,b)\n",
    "print(others)"
   ]
  },
  {
   "cell_type": "code",
   "execution_count": 42,
   "id": "1be2b2b6",
   "metadata": {},
   "outputs": [
    {
     "data": {
      "text/plain": [
       "((1, 5), (2, 6), (3, 7), (4, 8))"
      ]
     },
     "execution_count": 42,
     "metadata": {},
     "output_type": "execute_result"
    }
   ],
   "source": [
    "# zipping in tuples \n",
    "a = (1,2,3,4)\n",
    "b= (5,6,7,8)\n",
    "\n",
    "list(zip(a,b))\n",
    "\n",
    "tuple(zip(a,b))"
   ]
  }
 ],
 "metadata": {
  "kernelspec": {
   "display_name": "Python 3",
   "language": "python",
   "name": "python3"
  },
  "language_info": {
   "codemirror_mode": {
    "name": "ipython",
    "version": 3
   },
   "file_extension": ".py",
   "mimetype": "text/x-python",
   "name": "python",
   "nbconvert_exporter": "python",
   "pygments_lexer": "ipython3",
   "version": "3.11.9"
  }
 },
 "nbformat": 4,
 "nbformat_minor": 5
}
