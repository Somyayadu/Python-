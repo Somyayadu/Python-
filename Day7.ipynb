{
 "cells": [
  {
   "cell_type": "markdown",
   "id": "4433ffbc",
   "metadata": {},
   "source": [
    "Python Day -7 \n",
    "\n",
    "Function "
   ]
  },
  {
   "cell_type": "code",
   "execution_count": 7,
   "id": "0331062c",
   "metadata": {},
   "outputs": [],
   "source": [
    "def is_even(num):\n",
    "    \"\"\"\n",
    "    This function returns if a given number is odd or even\n",
    "    input  - any valid integer \n",
    "    output - odd / even\n",
    "    created on - 16th Nov 2022\n",
    "    \"\"\"\n",
    "    if type(num) == int:\n",
    "        if num % 2 == 0:\n",
    "            return 'even'\n",
    "        else:\n",
    "            return 'odd'\n",
    "    else:\n",
    "        return 'pagal hai kya'\n"
   ]
  },
  {
   "cell_type": "code",
   "execution_count": 2,
   "id": "32079e0f",
   "metadata": {},
   "outputs": [
    {
     "name": "stdout",
     "output_type": "stream",
     "text": [
      "odd\n",
      "even\n",
      "odd\n",
      "even\n",
      "odd\n",
      "even\n",
      "odd\n",
      "even\n",
      "odd\n",
      "even\n"
     ]
    }
   ],
   "source": [
    "# function\n",
    "\n",
    "for i in range (1,11):\n",
    "    x = is_even(i)\n",
    "    print(x) "
   ]
  },
  {
   "cell_type": "code",
   "execution_count": 3,
   "id": "78ba1052",
   "metadata": {},
   "outputs": [
    {
     "data": {
      "text/plain": [
       "'odd'"
      ]
     },
     "execution_count": 3,
     "metadata": {},
     "output_type": "execute_result"
    }
   ],
   "source": [
    "is_even(9)"
   ]
  },
  {
   "cell_type": "code",
   "execution_count": 8,
   "id": "fe0b078e",
   "metadata": {},
   "outputs": [
    {
     "data": {
      "text/plain": [
       "'pagal hai kya'"
      ]
     },
     "execution_count": 8,
     "metadata": {},
     "output_type": "execute_result"
    }
   ],
   "source": [
    "is_even('hello')"
   ]
  },
  {
   "cell_type": "code",
   "execution_count": null,
   "id": "27a5d1cd",
   "metadata": {},
   "outputs": [],
   "source": [
    "# types of argument \n",
    "# 1. default argument\n",
    "# 2. positional argument\n",
    "# 3. keyword argument\n"
   ]
  },
  {
   "cell_type": "code",
   "execution_count": 13,
   "id": "89dbcc0b",
   "metadata": {},
   "outputs": [],
   "source": [
    "def power (a=1,b=1):\n",
    "\n",
    " return a**b"
   ]
  },
  {
   "cell_type": "code",
   "execution_count": 14,
   "id": "c630dc69",
   "metadata": {},
   "outputs": [
    {
     "data": {
      "text/plain": [
       "6"
      ]
     },
     "execution_count": 14,
     "metadata": {},
     "output_type": "execute_result"
    }
   ],
   "source": [
    "power(6)"
   ]
  },
  {
   "cell_type": "code",
   "execution_count": 16,
   "id": "9dbe317d",
   "metadata": {},
   "outputs": [
    {
     "data": {
      "text/plain": [
       "8"
      ]
     },
     "execution_count": 16,
     "metadata": {},
     "output_type": "execute_result"
    }
   ],
   "source": [
    "# positional argu.\n",
    "\n",
    "power (2,3)"
   ]
  },
  {
   "cell_type": "code",
   "execution_count": 18,
   "id": "142e7701",
   "metadata": {},
   "outputs": [
    {
     "data": {
      "text/plain": [
       "8"
      ]
     },
     "execution_count": 18,
     "metadata": {},
     "output_type": "execute_result"
    }
   ],
   "source": [
    "# keyword argu.\n",
    "\n",
    "power(b=3,a=2)"
   ]
  },
  {
   "cell_type": "code",
   "execution_count": 20,
   "id": "cf6dcd6e",
   "metadata": {},
   "outputs": [],
   "source": [
    "# args and kwargs\n",
    "\n",
    "# args\n",
    "def multiply(a,b):\n",
    "    return a*b"
   ]
  },
  {
   "cell_type": "code",
   "execution_count": 21,
   "id": "f7516320",
   "metadata": {},
   "outputs": [
    {
     "data": {
      "text/plain": [
       "6"
      ]
     },
     "execution_count": 21,
     "metadata": {},
     "output_type": "execute_result"
    }
   ],
   "source": [
    "multiply(2,3)"
   ]
  },
  {
   "cell_type": "code",
   "execution_count": 26,
   "id": "b5774367",
   "metadata": {},
   "outputs": [],
   "source": [
    "def multiply(*args):\n",
    "    product = 1\n",
    "\n",
    "    for i in args:\n",
    "        product =product*i\n",
    "\n",
    "    print(args)\n",
    "    return product "
   ]
  },
  {
   "cell_type": "code",
   "execution_count": 27,
   "id": "c7969797",
   "metadata": {},
   "outputs": [
    {
     "name": "stdout",
     "output_type": "stream",
     "text": [
      "(1, 2, 3, 4, 5, 6, 6)\n"
     ]
    },
    {
     "data": {
      "text/plain": [
       "4320"
      ]
     },
     "execution_count": 27,
     "metadata": {},
     "output_type": "execute_result"
    }
   ],
   "source": [
    "multiply(1,2,3,4,5,6,6)"
   ]
  },
  {
   "cell_type": "code",
   "execution_count": 28,
   "id": "4d33f4f1",
   "metadata": {},
   "outputs": [
    {
     "name": "stdout",
     "output_type": "stream",
     "text": [
      "Prints the values to a stream, or to sys.stdout by default.\n",
      "\n",
      "  sep\n",
      "    string inserted between values, default a space.\n",
      "  end\n",
      "    string appended after the last value, default a newline.\n",
      "  file\n",
      "    a file-like object (stream); defaults to the current sys.stdout.\n",
      "  flush\n",
      "    whether to forcibly flush the stream.\n"
     ]
    }
   ],
   "source": [
    "print(print.__doc__)"
   ]
  },
  {
   "cell_type": "code",
   "execution_count": null,
   "id": "ed7452be",
   "metadata": {},
   "outputs": [],
   "source": []
  }
 ],
 "metadata": {
  "kernelspec": {
   "display_name": "Python 3",
   "language": "python",
   "name": "python3"
  },
  "language_info": {
   "codemirror_mode": {
    "name": "ipython",
    "version": 3
   },
   "file_extension": ".py",
   "mimetype": "text/x-python",
   "name": "python",
   "nbconvert_exporter": "python",
   "pygments_lexer": "ipython3",
   "version": "3.11.9"
  }
 },
 "nbformat": 4,
 "nbformat_minor": 5
}
