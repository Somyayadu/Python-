{
 "cells": [
  {
   "cell_type": "markdown",
   "id": "8a5bfa5c",
   "metadata": {},
   "source": [
    "Python Day - 8\n",
    "\n",
    "OOP"
   ]
  },
  {
   "cell_type": "code",
   "execution_count": 2,
   "id": "2767bd2c",
   "metadata": {},
   "outputs": [],
   "source": [
    "# object oriented programming \n",
    "\n",
    "# CLASS & OBJECT "
   ]
  },
  {
   "cell_type": "code",
   "execution_count": 4,
   "id": "97614d1f",
   "metadata": {},
   "outputs": [],
   "source": [
    "# syntax to create an object\n",
    "\n",
    "# objectname = classname()"
   ]
  },
  {
   "cell_type": "markdown",
   "id": "3a004797",
   "metadata": {},
   "source": [
    "Banking Application "
   ]
  },
  {
   "cell_type": "code",
   "execution_count": null,
   "id": "f3455e2e",
   "metadata": {},
   "outputs": [],
   "source": [
    "# Banking Application --> ATM Machine \n",
    "\n",
    "class Atm:\n",
    "\n",
    "    # constructor (it is a special function) \n",
    "    def __init__(self):\n",
    "        self.pin = ''\n",
    "        self.balance = 0\n",
    "        self.menu()\n",
    "        \n",
    "    def menu(self):\n",
    "        user_input = input(\"\"\"\n",
    "     Hi, how can I help you?\n",
    "     1. Press 1 to create pin\n",
    "     2. Press 2 to change pin \n",
    "     3. Press 3 to check balance\n",
    "     4. Press 4 to withdraw  \n",
    "     5. Anything else to exit      \n",
    "     \"\"\")\n",
    "    \n",
    "        if user_input == '1':\n",
    "            # create pin\n",
    "            self.create_pin()\n",
    "        elif user_input == '2':\n",
    "            # change pin \n",
    "            self.change_pin()\n",
    "        elif user_input == '3':\n",
    "            # check balance\n",
    "            self.check_balance()\n",
    "        elif user_input == '4':\n",
    "            # withdraw\n",
    "            self.withdraw()\n",
    "        else:\n",
    "            exit()\n",
    "\n",
    "    def create_pin(self):   # 👈 moved inside the class\n",
    "        user_pin = input('Enter your pin: ')\n",
    "        self.pin = user_pin\n",
    "\n",
    "        user_balance = int(input('Enter balance: '))\n",
    "        self.balance = user_balance\n",
    "\n",
    "        print('Pin created successfully ✅')\n",
    "        self.menu()\n",
    "    \n",
    "    def change_pin(self):\n",
    "        old_pin =input('enter the pin ')\n",
    "\n",
    "        if old_pin == self.pin:\n",
    "            # let him change the pin \n",
    "          new_pin = input('enter new pin ')\n",
    "          self.pin = new_pin\n",
    "          print('pin change successfully')\n",
    "          self.menu()\n",
    "        else:\n",
    "            print('nai karne de sakta re baba  ')\n",
    "            self.menu()\n",
    "\n",
    "    def check_balance(self):\n",
    "        user_pin =input('enter your pin ')\n",
    "        if user_pin == self.pin:\n",
    "            print('your balance is ',self.balance)\n",
    "        else:\n",
    "            print('chal nikal yaha se')\n",
    "            self.menu()\n",
    "\n",
    "    def withdraw(self):\n",
    "      user_pin = input('Enter your PIN: ')\n",
    "      if user_pin == self.pin:\n",
    "        amount = int(input('Kitna amount nikalna hai: '))\n",
    "        if amount <= self.balance:\n",
    "            self.balance = self.balance - amount\n",
    "            print('Withdraw amount is :-', amount)\n",
    "            print('Amount withdrawn successfully ✅. Remaining balance:', self.balance)\n",
    "        else:\n",
    "            print('Abe garib 😆! Insufficient balance.')\n",
    "      else:\n",
    "        print('Chal nikal yaha se 🤦 Wrong PIN!')\n",
    "\n",
    "        self.menu()   # return to menu after operation\n"
   ]
  },
  {
   "cell_type": "code",
   "execution_count": 2,
   "id": "faeb6f27",
   "metadata": {},
   "outputs": [
    {
     "name": "stdout",
     "output_type": "stream",
     "text": [
      "Pin created successfully ✅\n",
      "Withdraw amount is :- 5000\n",
      "Amount withdrawn successfully ✅. Remaining balance: 5000\n",
      "Chal nikal yaha se 🤦 Wrong PIN!\n",
      "Abe garib 😆! Insufficient balance.\n"
     ]
    }
   ],
   "source": [
    "obj = Atm()\n",
    "obj.menu()"
   ]
  },
  {
   "cell_type": "code",
   "execution_count": 3,
   "id": "c4c7a901",
   "metadata": {},
   "outputs": [
    {
     "name": "stdout",
     "output_type": "stream",
     "text": [
      "hello\n"
     ]
    }
   ],
   "source": [
    "class temp:\n",
    "\n",
    "    def __init__(self):\n",
    "        print('hello')\n",
    "\n",
    "obj = temp()"
   ]
  },
  {
   "cell_type": "markdown",
   "id": "76215b3d",
   "metadata": {},
   "source": [
    "Create Own Datatype"
   ]
  },
  {
   "cell_type": "code",
   "execution_count": 1,
   "id": "9146e564",
   "metadata": {},
   "outputs": [],
   "source": [
    "class Fraction:\n",
    "    # parameterized constructor\n",
    "    def __init__(self, x, y):\n",
    "        self.num = x\n",
    "        self.den = y\n",
    "\n",
    "    def __str__(self):\n",
    "        return \"{}/{}\".format(self.num, self.den)    \n",
    "    \n",
    "    def __add__(self, other):\n",
    "        new_num = self.num * other.den + other.num * self.den\n",
    "        new_den = self.den * other.den\n",
    "        return \"{}/{}\".format(new_num, new_den)\n",
    "\n",
    "    def __sub__(self, other):   # subtraction\n",
    "        new_num = self.num * other.den - other.num * self.den\n",
    "        new_den = self.den * other.den\n",
    "        return \"{}/{}\".format(new_num, new_den)\n",
    "\n",
    "    def __mul__(self, other):   # multiplication\n",
    "        new_num = self.num * other.num\n",
    "        new_den = self.den * other.den\n",
    "        return \"{}/{}\".format(new_num, new_den)\n"
   ]
  },
  {
   "cell_type": "code",
   "execution_count": 2,
   "id": "c40c9a12",
   "metadata": {},
   "outputs": [
    {
     "name": "stdout",
     "output_type": "stream",
     "text": [
      "Addition: 5/6\n",
      "Subtraction: 1/6\n",
      "Multiplication: 1/6\n"
     ]
    }
   ],
   "source": [
    "f1 = Fraction(1, 2)\n",
    "f2 = Fraction(1, 3)\n",
    "\n",
    "print(\"Addition:\", f1 + f2)       # 5/6\n",
    "print(\"Subtraction:\", f1 - f2)    # 1/6\n",
    "print(\"Multiplication:\", f1 * f2) # 1/6\n"
   ]
  },
  {
   "cell_type": "markdown",
   "id": "0acb3565",
   "metadata": {},
   "source": [
    "* Write oop classes to handel the following scenarios:\n",
    "\n",
    ". A user can create and view 2D coordination \n",
    "\n",
    ". A user can find out the distance b/w 2 coordination \n",
    "\n",
    ". A user can find the distance of a coordination from origin \n",
    "\n",
    ". A user can check if a point lies on a given line \n",
    "\n",
    ". A user can find the distance b/w a given 2D point and a given line "
   ]
  },
  {
   "cell_type": "code",
   "execution_count": 32,
   "id": "a9d2803b",
   "metadata": {},
   "outputs": [],
   "source": [
    "class point:\n",
    "    def __init__(self,x,y):\n",
    "        self.x_cod=x\n",
    "        self.y_cod=y\n",
    "\n",
    "    def __str__(self):\n",
    "        return '<{},{}>'.format(self.x_cod,self.y_cod)\n",
    "    \n",
    "    def euclidean_distance(self,other):\n",
    "        return ((self.x_cod - other.x_cod)**2 + (self.y_cod - other.y_cod)**2)**0.5 \n",
    "    \n",
    "    def distance_from_origin(self):\n",
    "        return (self.x_cod**2 + self.y_cod**2)**0.5\n",
    "    \n",
    "class line:\n",
    "    def __init__(self,a,b,c):\n",
    "        self.a=a\n",
    "        self.b=b\n",
    "        self.c=c\n",
    "\n",
    "    def __str__(self):\n",
    "        return '{}x + {}y + {} = 0'.format(self.a,self.b,self.c)\n",
    "    \n",
    "    def point_on_line(line,point):\n",
    "        if line.a*point.x_cod + line.b*point.y_cod +line.c == 0:\n",
    "            return \" lies on the line \"\n",
    "        else: \n",
    "            return \" does not lie on the line\"\n",
    "        \n",
    "    def sortest_distance(line,point):\n",
    "      return abs(line.a*point.x_cod + line.b*point.y_cod +line.c)/(line.a**2 + line.b*2)\n"
   ]
  },
  {
   "cell_type": "code",
   "execution_count": 35,
   "id": "4a763822",
   "metadata": {},
   "outputs": [
    {
     "name": "stdout",
     "output_type": "stream",
     "text": [
      "1x + 1y + -2 = 0\n",
      "<1,1>\n"
     ]
    },
    {
     "data": {
      "text/plain": [
       "0.0"
      ]
     },
     "execution_count": 35,
     "metadata": {},
     "output_type": "execute_result"
    }
   ],
   "source": [
    "l1 = line(1,1,-2)\n",
    "p1 = point(1,1)\n",
    "\n",
    "print(l1)\n",
    "print(p1)\n",
    "\n",
    "\n",
    "l1.point_on_line(p1)\n",
    "\n",
    "l1.sortest_distance(p1)\n",
    "\n",
    "# p1=point(0,0)\n",
    "# p2=point(1,1)\n",
    "\n",
    "# p1.euclidean_distance(p2)\n",
    "# p1.distance_from_origin()\n",
    "# print(p1)\n",
    "# print(p2)"
   ]
  },
  {
   "cell_type": "markdown",
   "id": "0a1dcc48",
   "metadata": {},
   "source": [
    "How object access attributes"
   ]
  },
  {
   "cell_type": "code",
   "execution_count": 36,
   "id": "c363ab17",
   "metadata": {},
   "outputs": [],
   "source": [
    "class person:\n",
    "    def __init__(self,name_input,country_input):\n",
    "        self.name= name_input\n",
    "        self.country= country_input\n",
    "\n",
    "    def greet(self):\n",
    "        if self.country == 'India':\n",
    "            print('namaste🙏',self.name)\n",
    "        else:\n",
    "            print('hello',self.name)"
   ]
  },
  {
   "cell_type": "code",
   "execution_count": 37,
   "id": "1bff95bb",
   "metadata": {},
   "outputs": [],
   "source": [
    "p = person('somya','India')"
   ]
  },
  {
   "cell_type": "code",
   "execution_count": 38,
   "id": "66644f56",
   "metadata": {},
   "outputs": [
    {
     "data": {
      "text/plain": [
       "'India'"
      ]
     },
     "execution_count": 38,
     "metadata": {},
     "output_type": "execute_result"
    }
   ],
   "source": [
    "p.country"
   ]
  },
  {
   "cell_type": "code",
   "execution_count": 40,
   "id": "3b4e946b",
   "metadata": {},
   "outputs": [],
   "source": [
    "p.gender ='male'"
   ]
  },
  {
   "cell_type": "code",
   "execution_count": 41,
   "id": "24914a9b",
   "metadata": {},
   "outputs": [
    {
     "data": {
      "text/plain": [
       "'male'"
      ]
     },
     "execution_count": 41,
     "metadata": {},
     "output_type": "execute_result"
    }
   ],
   "source": [
    "p.gender"
   ]
  },
  {
   "cell_type": "markdown",
   "id": "933e2305",
   "metadata": {},
   "source": [
    "Reference Variables"
   ]
  },
  {
   "cell_type": "code",
   "execution_count": 43,
   "id": "36d54124",
   "metadata": {},
   "outputs": [],
   "source": [
    "# object without a reference\n",
    "\n",
    "class person:\n",
    "\n",
    "    def __init__(self):\n",
    "        self.name ='somya'\n",
    "        self.gender='male'\n",
    "\n",
    "p = person ()\n",
    "q=p\n"
   ]
  },
  {
   "cell_type": "code",
   "execution_count": 44,
   "id": "1df98e8e",
   "metadata": {},
   "outputs": [
    {
     "name": "stdout",
     "output_type": "stream",
     "text": [
      "2416309361040\n",
      "2416309361040\n"
     ]
    }
   ],
   "source": [
    "# multiple ref\n",
    "print(id(p))\n",
    "print(id(q))"
   ]
  },
  {
   "cell_type": "code",
   "execution_count": 46,
   "id": "76bba473",
   "metadata": {},
   "outputs": [
    {
     "name": "stdout",
     "output_type": "stream",
     "text": [
      "somya\n",
      "somya\n",
      "ayush\n",
      "ayush\n"
     ]
    }
   ],
   "source": [
    "print(p.name)\n",
    "print(q.name)\n",
    "q.name='ayush'\n",
    "print(p.name)\n",
    "print(q.name)"
   ]
  },
  {
   "cell_type": "markdown",
   "id": "82e2c333",
   "metadata": {},
   "source": [
    "Pass By Reference"
   ]
  },
  {
   "cell_type": "code",
   "execution_count": 58,
   "id": "f441e86f",
   "metadata": {},
   "outputs": [
    {
     "name": "stdout",
     "output_type": "stream",
     "text": [
      "2416314362320\n",
      "2416314362320\n",
      "ayush\n",
      "hi my name is ayush and i am a male\n",
      "ayush\n"
     ]
    }
   ],
   "source": [
    "class person:\n",
    "    def __init__(self,name,gender):\n",
    "        self.name=name\n",
    "        self.gender=gender\n",
    "\n",
    "# outside the class -> function\n",
    "def greet(person):\n",
    "    print(id(person))\n",
    "    person.name = 'ayush'\n",
    "    print(person.name)\n",
    "    print('hi my name is',person.name,'and i am a',person.gender)\n",
    "\n",
    "p= person('somya','male')\n",
    "print(id(p))\n",
    "greet(p)\n",
    "print(p.name)"
   ]
  },
  {
   "cell_type": "markdown",
   "id": "d969c5ae",
   "metadata": {},
   "source": [
    "object ki mutability"
   ]
  },
  {
   "cell_type": "code",
   "execution_count": 59,
   "id": "1544db1b",
   "metadata": {},
   "outputs": [
    {
     "name": "stdout",
     "output_type": "stream",
     "text": [
      "2416314205776\n",
      "2416314205776\n"
     ]
    }
   ],
   "source": [
    "class person:\n",
    "    def __init__(self,name,gender):\n",
    "        self.name=name\n",
    "        self.gender=gender\n",
    "\n",
    "# outside the class -> function\n",
    "def greet(person):\n",
    "    person.name = 'ayush'\n",
    "    return person\n",
    "\n",
    "p= person('somya','male')\n",
    "print(id(p))\n",
    "p1 = greet(p)\n",
    "print(id(p1))"
   ]
  },
  {
   "cell_type": "markdown",
   "id": "866d4686",
   "metadata": {},
   "source": [
    "Encapsulation"
   ]
  },
  {
   "cell_type": "code",
   "execution_count": 61,
   "id": "46a37288",
   "metadata": {},
   "outputs": [],
   "source": [
    "# instance var --> python tutor\n",
    "\n",
    "class person:\n",
    "    def __init__(self,name_input,country_input):\n",
    "        self.name = name_input\n",
    "        self.country = country_input\n",
    "\n",
    "p1 = person('somya','India')\n",
    "p2 = person('ayush','uk')\n",
    "\n"
   ]
  },
  {
   "cell_type": "code",
   "execution_count": 64,
   "id": "46e96b4c",
   "metadata": {},
   "outputs": [
    {
     "data": {
      "text/plain": [
       "'ayush'"
      ]
     },
     "execution_count": 64,
     "metadata": {},
     "output_type": "execute_result"
    }
   ],
   "source": [
    "p1.name\n",
    "\n",
    "p2.name"
   ]
  },
  {
   "cell_type": "code",
   "execution_count": 9,
   "id": "d7006db6",
   "metadata": {},
   "outputs": [],
   "source": [
    "# Banking Application --> ATM Machine \n",
    "\n",
    "class Atm:\n",
    "\n",
    "    # constructor (it is a special function) \n",
    "    def __init__(self):\n",
    "        self.pin = ''\n",
    "        self.__balance = 0\n",
    "        self.menu()\n",
    "        \n",
    "    def get_balance(self):\n",
    "        return self.__balance\n",
    "    \n",
    "    def set_balance(self,new_value):\n",
    "        if type(new_value) == int:\n",
    "         self.__balance = new_value\n",
    "        else:\n",
    "            print('beta bahot maarenge')\n",
    "\n",
    "\n",
    "    def menu(self):\n",
    "        user_input = input(\"\"\"\n",
    "     Hi, how can I help you?\n",
    "     1. Press 1 to create pin\n",
    "     2. Press 2 to change pin \n",
    "     3. Press 3 to check balance\n",
    "     4. Press 4 to withdraw  \n",
    "     5. Anything else to exit      \n",
    "     \"\"\")\n",
    "    \n",
    "        if user_input == '1':\n",
    "            # create pin\n",
    "            self.create_pin()\n",
    "        elif user_input == '2':\n",
    "            # change pin \n",
    "            self.change_pin()\n",
    "        elif user_input == '3':\n",
    "            # check balance\n",
    "            self.check_balance()\n",
    "        elif user_input == '4':\n",
    "            # withdraw\n",
    "            self.withdraw()\n",
    "        else:\n",
    "            exit()\n",
    "\n",
    "    def create_pin(self):   # 👈 moved inside the class\n",
    "        user_pin = input('Enter your pin: ')\n",
    "        self.pin = user_pin\n",
    "\n",
    "        user_balance = int(input('Enter balance: '))\n",
    "        self.__balance = user_balance\n",
    "\n",
    "        print('Pin created successfully ✅')\n",
    "        self.menu()\n",
    "    \n",
    "    def change_pin(self):\n",
    "        old_pin =input('enter the pin ')\n",
    "\n",
    "        if old_pin == self.pin:\n",
    "            # let him change the pin \n",
    "          new_pin = input('enter new pin ')\n",
    "          self.pin = new_pin\n",
    "          print('pin change successfully')\n",
    "          self.menu()\n",
    "        else:\n",
    "            print('nai karne de sakta re baba  ')\n",
    "            self.menu()\n",
    "\n",
    "    def check_balance(self):\n",
    "        user_pin =input('enter your pin ')\n",
    "        if user_pin == self.pin:\n",
    "            print('your balance is ',self.__balance)\n",
    "        else:\n",
    "            print('chal nikal yaha se')\n",
    "            self.menu()\n",
    "\n",
    "    def withdraw(self):\n",
    "      user_pin = input('Enter your PIN: ')\n",
    "      if user_pin == self.pin:\n",
    "        amount = int(input('Kitna amount nikalna hai: '))\n",
    "        if amount <= self.balance:\n",
    "            self.__balance = self.__balance - amount\n",
    "            print('Withdraw amount is :-', amount)\n",
    "            print('Amount withdrawn successfully ✅. Remaining balance:', self.__balance)\n",
    "        else:\n",
    "            print('Abe garib 😆! Insufficient balance.')\n",
    "      else:\n",
    "        print('Chal nikal yaha se 🤦 Wrong PIN!')\n"
   ]
  },
  {
   "cell_type": "code",
   "execution_count": null,
   "id": "e6a27721",
   "metadata": {},
   "outputs": [],
   "source": [
    "obj = Atm()\n",
    "obj.menu()"
   ]
  },
  {
   "cell_type": "code",
   "execution_count": null,
   "id": "cfab8fed",
   "metadata": {},
   "outputs": [],
   "source": [
    "# obj.get_balance()"
   ]
  },
  {
   "cell_type": "code",
   "execution_count": null,
   "id": "364befe6",
   "metadata": {},
   "outputs": [],
   "source": [
    "# obj.set_balance(1000)"
   ]
  },
  {
   "cell_type": "code",
   "execution_count": null,
   "id": "47cee2c2",
   "metadata": {},
   "outputs": [],
   "source": [
    "# obj.__balance == 'heheheh'"
   ]
  },
  {
   "cell_type": "code",
   "execution_count": null,
   "id": "93b347c5",
   "metadata": {},
   "outputs": [],
   "source": [
    "# obj.balance = 'hehehe'"
   ]
  },
  {
   "cell_type": "code",
   "execution_count": 2,
   "id": "61587ed8",
   "metadata": {},
   "outputs": [],
   "source": [
    "# obj = Atm()\n",
    "# obj.menu()"
   ]
  },
  {
   "cell_type": "markdown",
   "id": "8117f456",
   "metadata": {},
   "source": [
    "Collection of object"
   ]
  },
  {
   "cell_type": "code",
   "execution_count": 5,
   "id": "0aedbfa0",
   "metadata": {},
   "outputs": [
    {
     "name": "stdout",
     "output_type": "stream",
     "text": [
      "[<__main__.person object at 0x0000020D4B114CD0>, <__main__.person object at 0x0000020D4B1B45D0>, <__main__.person object at 0x0000020D4B1B4750>]\n",
      "somya male\n",
      "ayush male\n",
      "isha female\n"
     ]
    }
   ],
   "source": [
    "# list of objects\n",
    "class person:\n",
    "    def __init__(self,name,gender):\n",
    "        self.name=name\n",
    "        self.gender=gender\n",
    "\n",
    "p1= person('somya','male')\n",
    "p2 = person('ayush','male') \n",
    "p3 = person('isha','female')\n",
    "\n",
    "l=[p1,p2,p3]\n",
    "\n",
    "print(l)\n",
    "\n",
    "for i in l:\n",
    "    print(i.name,i.gender)"
   ]
  },
  {
   "cell_type": "code",
   "execution_count": null,
   "id": "194ef472",
   "metadata": {},
   "outputs": [],
   "source": [
    "# Banking Application --> ATM Machine \n",
    "\n",
    "class Atm:\n",
    "\n",
    "    counter =1\n",
    "    # constructor (it is a special function) \n",
    "    def __init__(self):\n",
    "        self.pin = ''\n",
    "        self.__balance = 0\n",
    "        self.cid = Atm.counter+1\n",
    "        Atm.__counter = Atm.__counter+1\n",
    "        #self.menu()\n",
    "        \n",
    "    def get_balance(self):\n",
    "        return self.__balance\n",
    "    \n",
    "    def set_balance(self,new_value):\n",
    "        if type(new_value) == int:\n",
    "         self.__balance = new_value\n",
    "        else:\n",
    "            print('beta bahot maarenge')\n",
    "\n",
    "\n",
    "    def menu(self):\n",
    "        user_input = input(\"\"\"\n",
    "     Hi, how can I help you?\n",
    "     1. Press 1 to create pin\n",
    "     2. Press 2 to change pin \n",
    "     3. Press 3 to check balance\n",
    "     4. Press 4 to withdraw  \n",
    "     5. Anything else to exit      \n",
    "     \"\"\")\n",
    "    \n",
    "        if user_input == '1':\n",
    "            # create pin\n",
    "            self.create_pin()\n",
    "        elif user_input == '2':\n",
    "            # change pin \n",
    "            self.change_pin()\n",
    "        elif user_input == '3':\n",
    "            # check balance\n",
    "            self.check_balance()\n",
    "        elif user_input == '4':\n",
    "            # withdraw\n",
    "            self.withdraw()\n",
    "        else:\n",
    "            exit()\n",
    "\n",
    "    def create_pin(self):   # 👈 moved inside the class\n",
    "        user_pin = input('Enter your pin: ')\n",
    "        self.pin = user_pin\n",
    "\n",
    "        user_balance = int(input('Enter balance: '))\n",
    "        self.__balance = user_balance\n",
    "\n",
    "        print('Pin created successfully ✅')\n",
    "        self.menu()\n",
    "    \n",
    "    def change_pin(self):\n",
    "        old_pin =input('enter the pin ')\n",
    "\n",
    "        if old_pin == self.pin:\n",
    "            # let him change the pin \n",
    "          new_pin = input('enter new pin ')\n",
    "          self.pin = new_pin\n",
    "          print('pin change successfully')\n",
    "          self.menu()\n",
    "        else:\n",
    "            print('nai karne de sakta re baba  ')\n",
    "            self.menu()\n",
    "\n",
    "    def check_balance(self):\n",
    "        user_pin =input('enter your pin ')\n",
    "        if user_pin == self.pin:\n",
    "            print('your balance is ',self.__balance)\n",
    "        else:\n",
    "            print('chal nikal yaha se')\n",
    "            self.menu()\n",
    "\n",
    "    def withdraw(self):\n",
    "      user_pin = input('Enter your PIN: ')\n",
    "      if user_pin == self.pin:\n",
    "        amount = int(input('Kitna amount nikalna hai: '))\n",
    "        if amount <= self.balance:\n",
    "            self.__balance = self.__balance - amount\n",
    "            print('Withdraw amount is :-', amount)\n",
    "            print('Amount withdrawn successfully ✅. Remaining balance:', self.__balance)\n",
    "        else:\n",
    "            print('Abe garib 😆! Insufficient balance.')\n",
    "      else:\n",
    "        print('Chal nikal yaha se 🤦 Wrong PIN!')\n"
   ]
  },
  {
   "cell_type": "code",
   "execution_count": 7,
   "id": "1abaa6c6",
   "metadata": {},
   "outputs": [],
   "source": [
    "c1 = Atm()"
   ]
  },
  {
   "cell_type": "code",
   "execution_count": null,
   "id": "e78f6139",
   "metadata": {},
   "outputs": [],
   "source": [
    "c2= Atm"
   ]
  },
  {
   "cell_type": "code",
   "execution_count": 8,
   "id": "0014ad15",
   "metadata": {},
   "outputs": [],
   "source": [
    "c3 = Atm"
   ]
  }
 ],
 "metadata": {
  "kernelspec": {
   "display_name": "Python 3",
   "language": "python",
   "name": "python3"
  },
  "language_info": {
   "codemirror_mode": {
    "name": "ipython",
    "version": 3
   },
   "file_extension": ".py",
   "mimetype": "text/x-python",
   "name": "python",
   "nbconvert_exporter": "python",
   "pygments_lexer": "ipython3",
   "version": "3.11.9"
  }
 },
 "nbformat": 4,
 "nbformat_minor": 5
}
