{
 "cells": [
  {
   "cell_type": "markdown",
   "id": "8a5bfa5c",
   "metadata": {},
   "source": [
    "Python Day - 8\n",
    "\n",
    "OOP"
   ]
  },
  {
   "cell_type": "code",
   "execution_count": 2,
   "id": "2767bd2c",
   "metadata": {},
   "outputs": [],
   "source": [
    "# object oriented programming \n",
    "\n",
    "# CLASS & OBJECT "
   ]
  },
  {
   "cell_type": "code",
   "execution_count": 4,
   "id": "97614d1f",
   "metadata": {},
   "outputs": [],
   "source": [
    "# syntax to create an object\n",
    "\n",
    "# objectname = classname()"
   ]
  },
  {
   "cell_type": "markdown",
   "id": "3a004797",
   "metadata": {},
   "source": [
    "Banking Application "
   ]
  },
  {
   "cell_type": "code",
   "execution_count": null,
   "id": "f3455e2e",
   "metadata": {},
   "outputs": [],
   "source": [
    "# Banking Application --> ATM Machine \n",
    "\n",
    "class Atm:\n",
    "\n",
    "    # constructor (it is a special function) \n",
    "    def __init__(self):\n",
    "        self.pin = ''\n",
    "        self.balance = 0\n",
    "        self.menu()\n",
    "        \n",
    "    def menu(self):\n",
    "        user_input = input(\"\"\"\n",
    "     Hi, how can I help you?\n",
    "     1. Press 1 to create pin\n",
    "     2. Press 2 to change pin \n",
    "     3. Press 3 to check balance\n",
    "     4. Press 4 to withdraw  \n",
    "     5. Anything else to exit      \n",
    "     \"\"\")\n",
    "    \n",
    "        if user_input == '1':\n",
    "            # create pin\n",
    "            self.create_pin()\n",
    "        elif user_input == '2':\n",
    "            # change pin \n",
    "            self.change_pin()\n",
    "        elif user_input == '3':\n",
    "            # check balance\n",
    "            self.check_balance()\n",
    "        elif user_input == '4':\n",
    "            # withdraw\n",
    "            self.withdraw()\n",
    "        else:\n",
    "            exit()\n",
    "\n",
    "    def create_pin(self):   # 👈 moved inside the class\n",
    "        user_pin = input('Enter your pin: ')\n",
    "        self.pin = user_pin\n",
    "\n",
    "        user_balance = int(input('Enter balance: '))\n",
    "        self.balance = user_balance\n",
    "\n",
    "        print('Pin created successfully ✅')\n",
    "        self.menu()\n",
    "    \n",
    "    def change_pin(self):\n",
    "        old_pin =input('enter the pin ')\n",
    "\n",
    "        if old_pin == self.pin:\n",
    "            # let him change the pin \n",
    "          new_pin = input('enter new pin ')\n",
    "          self.pin = new_pin\n",
    "          print('pin change successfully')\n",
    "          self.menu()\n",
    "        else:\n",
    "            print('nai karne de sakta re baba  ')\n",
    "            self.menu()\n",
    "\n",
    "    def check_balance(self):\n",
    "        user_pin =input('enter your pin ')\n",
    "        if user_pin == self.pin:\n",
    "            print('your balance is ',self.balance)\n",
    "        else:\n",
    "            print('chal nikal yaha se')\n",
    "            self.menu()\n",
    "\n",
    "    def withdraw(self):\n",
    "      user_pin = input('Enter your PIN: ')\n",
    "      if user_pin == self.pin:\n",
    "        amount = int(input('Kitna amount nikalna hai: '))\n",
    "        if amount <= self.balance:\n",
    "            self.balance = self.balance - amount\n",
    "            print('Withdraw amount is :-', amount)\n",
    "            print('Amount withdrawn successfully ✅. Remaining balance:', self.balance)\n",
    "        else:\n",
    "            print('Abe garib 😆! Insufficient balance.')\n",
    "      else:\n",
    "        print('Chal nikal yaha se 🤦 Wrong PIN!')\n",
    "\n",
    "        self.menu()   # return to menu after operation\n"
   ]
  },
  {
   "cell_type": "code",
   "execution_count": 2,
   "id": "faeb6f27",
   "metadata": {},
   "outputs": [
    {
     "name": "stdout",
     "output_type": "stream",
     "text": [
      "Pin created successfully ✅\n",
      "Withdraw amount is :- 5000\n",
      "Amount withdrawn successfully ✅. Remaining balance: 5000\n",
      "Chal nikal yaha se 🤦 Wrong PIN!\n",
      "Abe garib 😆! Insufficient balance.\n"
     ]
    }
   ],
   "source": [
    "obj = Atm()\n",
    "obj.menu()"
   ]
  },
  {
   "cell_type": "code",
   "execution_count": 3,
   "id": "c4c7a901",
   "metadata": {},
   "outputs": [
    {
     "name": "stdout",
     "output_type": "stream",
     "text": [
      "hello\n"
     ]
    }
   ],
   "source": [
    "class temp:\n",
    "\n",
    "    def __init__(self):\n",
    "        print('hello')\n",
    "\n",
    "obj = temp()"
   ]
  },
  {
   "cell_type": "markdown",
   "id": "76215b3d",
   "metadata": {},
   "source": [
    "Create Own Datatype"
   ]
  },
  {
   "cell_type": "code",
   "execution_count": 55,
   "id": "9146e564",
   "metadata": {},
   "outputs": [],
   "source": [
    "class Fraction:\n",
    "    # parameterized constructor\n",
    "    def __init__(self, x, y):\n",
    "        self.num = x\n",
    "        self.den = y\n",
    "\n",
    "    def __str__(self):\n",
    "        return \"{}/{}\".format(self.num, self.den)    \n",
    "    \n",
    "    def __add__(self, other):\n",
    "        new_num = self.num * other.den + other.num * self.den\n",
    "        new_den = self.den * other.den\n",
    "        return \"{}/{}\".format(new_num, new_den)\n",
    "\n",
    "    def __sub__(self, other):   # subtraction\n",
    "        new_num = self.num * other.den - other.num * self.den\n",
    "        new_den = self.den * other.den\n",
    "        return \"{}/{}\".format(new_num, new_den)\n",
    "\n",
    "    def __mul__(self, other):   # multiplication\n",
    "        new_num = self.num * other.num\n",
    "        new_den = self.den * other.den\n",
    "        return \"{}/{}\".format(new_num, new_den)\n"
   ]
  },
  {
   "cell_type": "code",
   "execution_count": 56,
   "id": "c40c9a12",
   "metadata": {},
   "outputs": [
    {
     "name": "stdout",
     "output_type": "stream",
     "text": [
      "Addition: 5/6\n",
      "Subtraction: 1/6\n",
      "Multiplication: 1/6\n"
     ]
    }
   ],
   "source": [
    "f1 = Fraction(1, 2)\n",
    "f2 = Fraction(1, 3)\n",
    "\n",
    "print(\"Addition:\", f1 + f2)       # 5/6\n",
    "print(\"Subtraction:\", f1 - f2)    # 1/6\n",
    "print(\"Multiplication:\", f1 * f2) # 1/6\n"
   ]
  },
  {
   "cell_type": "code",
   "execution_count": 6,
   "id": "068b9b5f",
   "metadata": {},
   "outputs": [
    {
     "name": "stdout",
     "output_type": "stream",
     "text": [
      "<class '__main__.fraction'>\n"
     ]
    }
   ],
   "source": [
    "print(type(fr1))"
   ]
  }
 ],
 "metadata": {
  "kernelspec": {
   "display_name": "Python 3",
   "language": "python",
   "name": "python3"
  },
  "language_info": {
   "codemirror_mode": {
    "name": "ipython",
    "version": 3
   },
   "file_extension": ".py",
   "mimetype": "text/x-python",
   "name": "python",
   "nbconvert_exporter": "python",
   "pygments_lexer": "ipython3",
   "version": "3.11.9"
  }
 },
 "nbformat": 4,
 "nbformat_minor": 5
}
