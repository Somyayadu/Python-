{
 "cells": [
  {
   "cell_type": "markdown",
   "id": "03c02429",
   "metadata": {},
   "source": [
    "Python Day - 9\n",
    "\n",
    "File Handling"
   ]
  },
  {
   "cell_type": "code",
   "execution_count": null,
   "id": "f9eebdd8",
   "metadata": {},
   "outputs": [],
   "source": [
    "# creat a file\n",
    "\n",
    "f = open('sample.txt','w')\n",
    "f.write('hello world ')\n",
    "f.write(' my name is somya')\n",
    "f.close()"
   ]
  },
  {
   "cell_type": "code",
   "execution_count": null,
   "id": "07f3f1c5",
   "metadata": {},
   "outputs": [],
   "source": [
    "# write multiline strings\n",
    "\n",
    "f = open('sample1.txt','w')\n",
    "f.write('hello world')\n",
    "f.write('\\nhow are you?')\n",
    "f.close()"
   ]
  },
  {
   "cell_type": "code",
   "execution_count": null,
   "id": "8bb3a829",
   "metadata": {},
   "outputs": [],
   "source": [
    "# if the file is already present\n",
    "\n",
    "f = open('sample.txt','w')\n",
    "f.write('ayush yaduvanshi')\n",
    "f.close()"
   ]
  },
  {
   "cell_type": "code",
   "execution_count": 2,
   "id": "49064a66",
   "metadata": {},
   "outputs": [],
   "source": [
    "# how exectly open() works?\n",
    "# problem with w mode\n",
    "\n",
    "f = open ('sample1.txt','a')\n",
    "f.write('\\ni am fine')\n",
    "f.close()"
   ]
  },
  {
   "cell_type": "code",
   "execution_count": 4,
   "id": "6747c7f5",
   "metadata": {},
   "outputs": [],
   "source": [
    "l = ['hello\\n','hi\\n','how are you\\n','i am fine']\n",
    "\n",
    "f = open('sample1.txt','w')\n",
    "f.writelines(l)\n",
    "f.close()"
   ]
  },
  {
   "cell_type": "code",
   "execution_count": 5,
   "id": "6b172ad8",
   "metadata": {},
   "outputs": [
    {
     "name": "stdout",
     "output_type": "stream",
     "text": [
      "hello\n",
      "hi\n",
      "how are you\n",
      "i am fine\n"
     ]
    }
   ],
   "source": [
    "f = open('sample1.txt','r')\n",
    "s=f.read()\n",
    "print(s)\n",
    "f.close()"
   ]
  },
  {
   "cell_type": "code",
   "execution_count": 7,
   "id": "d4353522",
   "metadata": {},
   "outputs": [
    {
     "name": "stdout",
     "output_type": "stream",
     "text": [
      "hello\n",
      "hi\n",
      "how\n"
     ]
    }
   ],
   "source": [
    "f = open('sample1.txt','r')\n",
    "s=f.read(12)\n",
    "print(s)\n",
    "f.close()"
   ]
  },
  {
   "cell_type": "code",
   "execution_count": 9,
   "id": "22fe935d",
   "metadata": {},
   "outputs": [
    {
     "name": "stdout",
     "output_type": "stream",
     "text": [
      "hello\n",
      "hi\n"
     ]
    }
   ],
   "source": [
    "f = open('sample1.txt','r')\n",
    "print(f.readline(),end='')\n",
    "print(f.readline(),end='')\n",
    "f.close()"
   ]
  },
  {
   "cell_type": "code",
   "execution_count": 11,
   "id": "f5ef38a9",
   "metadata": {},
   "outputs": [
    {
     "name": "stdout",
     "output_type": "stream",
     "text": [
      "hello\n",
      "hi\n",
      "how are you\n",
      "i am fine"
     ]
    }
   ],
   "source": [
    "f = open('sample1.txt','r')\n",
    "\n",
    "while True:\n",
    "\n",
    "    data = f.readline()\n",
    "\n",
    "    if data == '':\n",
    "        break\n",
    "\n",
    "    else:\n",
    "        print(data,end='')\n",
    "\n",
    "f.close()"
   ]
  },
  {
   "cell_type": "code",
   "execution_count": 1,
   "id": "b8e44380",
   "metadata": {},
   "outputs": [],
   "source": [
    "# with \n",
    "\n",
    "with open('sample1.txt','w') as f:\n",
    "    f.write('somya yaduvanshi')"
   ]
  },
  {
   "cell_type": "code",
   "execution_count": 2,
   "id": "3ee52050",
   "metadata": {},
   "outputs": [
    {
     "name": "stdout",
     "output_type": "stream",
     "text": [
      "somya yaduvanshi\n"
     ]
    }
   ],
   "source": [
    "# try f.read() now\n",
    "with open('sample1.txt','r') as f:\n",
    "    print(f.read())"
   ]
  },
  {
   "cell_type": "code",
   "execution_count": 4,
   "id": "f751bab2",
   "metadata": {},
   "outputs": [
    {
     "name": "stdout",
     "output_type": "stream",
     "text": [
      "somya yadu\n",
      "vanshi\n"
     ]
    }
   ],
   "source": [
    "# moving within a file -> 10 char than 10 char\n",
    "\n",
    "with open('sample1.txt','r') as f:\n",
    "    print(f.read(10))\n",
    "    print(f.read(10))"
   ]
  },
  {
   "cell_type": "code",
   "execution_count": 8,
   "id": "256eff54",
   "metadata": {},
   "outputs": [],
   "source": [
    "# benifit? -> to load a big file in memory\n",
    "big_l =['hello world' for i in range(1000)]\n",
    "\n",
    "with open('big.txt','w') as f:\n",
    "    f.writelines(big_l)"
   ]
  },
  {
   "cell_type": "code",
   "execution_count": 11,
   "id": "43fbd9eb",
   "metadata": {},
   "outputs": [
    {
     "name": "stdout",
     "output_type": "stream",
     "text": [
      "worldhello worldhello worldhello worldhello worldh***llo worldhello worldhello worldhello worldhello wo***ldhello worldhello worldhello worldhello worldhell*** worldhello worldhello worldhello worldhello world***ello worldhello worldhello worldhello worldhello w***rldhello worldhello worldhello worldhello worldhel***o worldhello worldhello worldhello worldhello worl***hello worldhello worldhello worldhello worldhello ***orldhello worldhello worldhello worldhello worldhe***lo worldhello worldhello worldhello worldhello wor***dhello worldhello worldhello worldhello worldhello***worldhello worldhello worldhello worldhello worldh***llo worldhello worldhello worldhello worldhello wo***ldhello worldhello worldhello worldhello worldhell*** worldhello worldhello worldhello worldhello world***ello worldhello worldhello worldhello worldhello w***rldhello worldhello worldhello worldhello worldhel***o worldhello worldhello worldhello worldhello worl***hello worldhello worldhello worldhello worldhello ***orldhello worldhello worldhello worldhello worldhe***lo worldhello worldhello worldhello worldhello wor***dhello worldhello worldhello worldhello worldhello***worldhello worldhello worldhello worldhello worldh***llo worldhello worldhello worldhello worldhello wo***ldhello worldhello worldhello worldhello worldhell*** worldhello worldhello worldhello worldhello world***ello worldhello worldhello worldhello worldhello w***rldhello worldhello worldhello worldhello worldhel***o worldhello worldhello worldhello worldhello worl***hello worldhello worldhello worldhello worldhello ***orldhello worldhello worldhello worldhello worldhe***lo worldhello worldhello worldhello worldhello wor***dhello worldhello worldhello worldhello worldhello***worldhello worldhello worldhello worldhello worldh***llo worldhello worldhello worldhello worldhello wo***ldhello worldhello worldhello worldhello worldhell*** worldhello worldhello worldhello worldhello world***ello worldhello worldhello worldhello worldhello w***rldhello worldhello worldhello worldhello worldhel***o worldhello worldhello worldhello worldhello worl***hello worldhello worldhello worldhello worldhello ***orldhello worldhello worldhello worldhello worldhe***lo worldhello worldhello worldhello worldhello wor***dhello worldhello worldhello worldhello worldhello***worldhello worldhello worldhello worldhello worldh***llo worldhello worldhello worldhello worldhello wo***ldhello worldhello worldhello worldhello worldhell*** worldhello worldhello worldhello worldhello world***ello worldhello worldhello worldhello worldhello w***rldhello worldhello worldhello worldhello worldhel***o worldhello worldhello worldhello worldhello worl***hello worldhello worldhello worldhello worldhello ***orldhello worldhello worldhello worldhello worldhe***lo worldhello worldhello worldhello worldhello wor***dhello worldhello worldhello worldhello worldhello***worldhello worldhello worldhello worldhello worldh***llo worldhello worldhello worldhello worldhello wo***ldhello worldhello worldhello worldhello worldhell*** worldhello worldhello worldhello worldhello world***ello worldhello worldhello worldhello worldhello w***rldhello worldhello worldhello worldhello worldhel***o worldhello worldhello worldhello worldhello worl***hello worldhello worldhello worldhello worldhello ***orldhello worldhello worldhello worldhello worldhe***lo worldhello worldhello worldhello worldhello wor***dhello worldhello worldhello worldhello worldhello***worldhello worldhello worldhello worldhello worldh***llo worldhello worldhello worldhello worldhello wo***ldhello worldhello worldhello worldhello worldhell*** worldhello worldhello worldhello worldhello world***ello worldhello worldhello worldhello worldhello w***rldhello worldhello worldhello worldhello worldhel***o worldhello worldhello worldhello worldhello worl******"
     ]
    }
   ],
   "source": [
    "with open('big.txt','r') as f:\n",
    "\n",
    "    chunk_size =50\n",
    "\n",
    "    while len(f.read(chunk_size)) >0:\n",
    "        print(f.read(chunk_size),end='***')\n",
    "        f.read(chunk_size)"
   ]
  },
  {
   "cell_type": "code",
   "execution_count": 21,
   "id": "ae00f36a",
   "metadata": {},
   "outputs": [
    {
     "name": "stdout",
     "output_type": "stream",
     "text": [
      "somya yadu\n",
      "10\n",
      "vanshi\n",
      "16\n"
     ]
    }
   ],
   "source": [
    "\n",
    "with open('sample1.txt','r') as f:\n",
    "    print(f.read(10))\n",
    "    print(f.tell())\n",
    "    f.seek(10)\n",
    "    print(f.read(10))\n",
    "    print(f.tell())"
   ]
  },
  {
   "cell_type": "code",
   "execution_count": 23,
   "id": "d11f3bab",
   "metadata": {},
   "outputs": [],
   "source": [
    "with open('sample.txt','w') as f :\n",
    "    f.write('hello')\n",
    "    f.seek(0)\n",
    "    f.write('x')"
   ]
  },
  {
   "cell_type": "code",
   "execution_count": 25,
   "id": "44cc5581",
   "metadata": {},
   "outputs": [],
   "source": [
    "with open('image.png', 'rb') as f:       # open in binary read mode\n",
    "    with open('image_copy.png', 'wb') as wf:  # open in binary write mode\n",
    "        wf.write(f.read())\n"
   ]
  },
  {
   "cell_type": "code",
   "execution_count": 26,
   "id": "5d09c8ec",
   "metadata": {},
   "outputs": [],
   "source": [
    "# working with other data types \n",
    "\n",
    "with open('sample.txt','w') as f:\n",
    "    f.write('5')"
   ]
  },
  {
   "cell_type": "code",
   "execution_count": 32,
   "id": "a5e84d19",
   "metadata": {},
   "outputs": [],
   "source": [
    "d = {\n",
    "     'name':'somya',\n",
    "     'age':20,\n",
    "     'gender':'male'\n",
    "}\n",
    "\n",
    "with open('sample.txt','w') as f:\n",
    "    f.write(str(d))"
   ]
  },
  {
   "cell_type": "code",
   "execution_count": 34,
   "id": "7a04014f",
   "metadata": {},
   "outputs": [
    {
     "name": "stdout",
     "output_type": "stream",
     "text": [
      "{'name': 'somya', 'age': 20, 'gender': 'male'}\n",
      "<class 'str'>\n"
     ]
    }
   ],
   "source": [
    "with open('sample.txt','r') as f:\n",
    "    print(f.read())\n",
    "    print(type (f.read()))"
   ]
  },
  {
   "cell_type": "code",
   "execution_count": 35,
   "id": "9a532682",
   "metadata": {},
   "outputs": [],
   "source": [
    "# serilization using json module\n",
    "# list\n",
    "\n",
    "import json\n",
    "\n",
    "l =[1,2,3,4,5]\n",
    "\n",
    "with open('demo.json','w') as f:\n",
    "    json.dump(l,f)"
   ]
  },
  {
   "cell_type": "code",
   "execution_count": 41,
   "id": "3bbf4e57",
   "metadata": {},
   "outputs": [],
   "source": [
    "d = {\n",
    "     'name':'somya',\n",
    "     'age':20,\n",
    "     'gender':'male'\n",
    "}\n",
    "\n",
    "with open('demo.json','w') as f:\n",
    "    json.dump(d,f,indent=4)"
   ]
  },
  {
   "cell_type": "code",
   "execution_count": 43,
   "id": "888df652",
   "metadata": {},
   "outputs": [
    {
     "name": "stdout",
     "output_type": "stream",
     "text": [
      "{'name': 'somya', 'age': 20, 'gender': 'male'}\n",
      "<class 'dict'>\n"
     ]
    }
   ],
   "source": [
    "# deserialization\n",
    "\n",
    "import json\n",
    "\n",
    "with open('demo.json','r') as f:\n",
    "   d= json.load(f)\n",
    "   print(d)\n",
    "   print(type(d))"
   ]
  },
  {
   "cell_type": "code",
   "execution_count": 44,
   "id": "c4d9aded",
   "metadata": {},
   "outputs": [],
   "source": [
    "# serialization and deserialization tuple\n",
    "import json \n",
    "\n",
    "t=(1,2,3,4,5)\n",
    "\n",
    "with open('demo.json','w') as f:\n",
    "    json.dump(t,f)"
   ]
  },
  {
   "cell_type": "code",
   "execution_count": 46,
   "id": "fad1f848",
   "metadata": {},
   "outputs": [],
   "source": [
    "# serialization and deserialization a nested dict\n",
    "\n",
    "d={\n",
    "    'student':'somya',\n",
    "    'marks':[23,14,34,45,56]\n",
    "}\n",
    "\n",
    "with open('demo.json','w') as f:\n",
    "    json.dump(d,f)\n",
    "   "
   ]
  },
  {
   "cell_type": "code",
   "execution_count": 66,
   "id": "633f2070",
   "metadata": {},
   "outputs": [],
   "source": [
    "# serialization and deserialization custom object\n",
    "\n",
    "class Person:\n",
    "    def __init__(self,fname,lname,age,gender):\n",
    "        self.fname=fname\n",
    "        self.lname=lname\n",
    "        self.age=age\n",
    "        self.gender=gender"
   ]
  },
  {
   "cell_type": "code",
   "execution_count": 67,
   "id": "9bd9ca7e",
   "metadata": {},
   "outputs": [],
   "source": [
    "person= Person('somya','yaduvanshi',20,'male')"
   ]
  },
  {
   "cell_type": "code",
   "execution_count": 69,
   "id": "1f2c650c",
   "metadata": {},
   "outputs": [],
   "source": [
    "def show_object(obj):\n",
    "    if isinstance(obj, Person):\n",
    "        return { \"first_name\": obj.fname,\n",
    "            \"last_name\": obj.lname,\n",
    "            \"age\": obj.age,\n",
    "            \"gender\": obj.gender\n",
    "        }\n",
    "    raise TypeError(f\"Object of type {type(obj)} is not JSON serializable\")\n",
    "\n",
    "# Create a Person object\n",
    "person = Person(\"Somya\", \"Yaduvanshi\", 22, \"Male\")\n",
    "\n",
    "# Dump to JSON\n",
    "with open(\"demo.json\", \"w\") as f:\n",
    "    json.dump(person, f, default=show_object, indent=4)\n"
   ]
  },
  {
   "cell_type": "code",
   "execution_count": null,
   "id": "b9e2e31a",
   "metadata": {},
   "outputs": [],
   "source": [
    "# indent arrtribute\n",
    "# as a dict"
   ]
  },
  {
   "cell_type": "code",
   "execution_count": 70,
   "id": "0cfd0f91",
   "metadata": {},
   "outputs": [
    {
     "name": "stdout",
     "output_type": "stream",
     "text": [
      "{'first_name': 'Somya', 'last_name': 'Yaduvanshi', 'age': 22, 'gender': 'Male'}\n"
     ]
    }
   ],
   "source": [
    "import json\n",
    "\n",
    "with open('demo.json','r') as f:\n",
    "    print(json.load(f))"
   ]
  },
  {
   "cell_type": "code",
   "execution_count": 74,
   "id": "a74e74be",
   "metadata": {},
   "outputs": [],
   "source": [
    "# pickling\n",
    "\n",
    "class person:\n",
    "    def __init__ (self,name,age):\n",
    "        self.name=name\n",
    "        self.age=age\n",
    "\n",
    "    def display_info(self):\n",
    "        print('hi my name is',self.name,'and i am',self.age,'years old')"
   ]
  },
  {
   "cell_type": "code",
   "execution_count": 75,
   "id": "c0943edd",
   "metadata": {},
   "outputs": [],
   "source": [
    "p = person('somya',20)"
   ]
  },
  {
   "cell_type": "code",
   "execution_count": 76,
   "id": "63c6627c",
   "metadata": {},
   "outputs": [],
   "source": [
    "import pickle\n",
    "with open('person.pkl','wb') as f:\n",
    "    pickle.dump(p,f)"
   ]
  },
  {
   "cell_type": "code",
   "execution_count": 78,
   "id": "c588cff7",
   "metadata": {},
   "outputs": [
    {
     "name": "stdout",
     "output_type": "stream",
     "text": [
      "hi my name is somya and i am 20 years old\n"
     ]
    }
   ],
   "source": [
    "import pickle\n",
    "with open('person.pkl','rb') as f:\n",
    "    p=pickle.load(f)\n",
    "\n",
    "    p.display_info()"
   ]
  }
 ],
 "metadata": {
  "kernelspec": {
   "display_name": "Python 3",
   "language": "python",
   "name": "python3"
  },
  "language_info": {
   "codemirror_mode": {
    "name": "ipython",
    "version": 3
   },
   "file_extension": ".py",
   "mimetype": "text/x-python",
   "name": "python",
   "nbconvert_exporter": "python",
   "pygments_lexer": "ipython3",
   "version": "3.11.9"
  }
 },
 "nbformat": 4,
 "nbformat_minor": 5
}
