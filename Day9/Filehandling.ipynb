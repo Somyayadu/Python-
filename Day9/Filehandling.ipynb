{
 "cells": [
  {
   "cell_type": "markdown",
   "id": "03c02429",
   "metadata": {},
   "source": [
    "Python Day - 9\n",
    "\n",
    "File Handling"
   ]
  },
  {
   "cell_type": "code",
   "execution_count": null,
   "id": "f9eebdd8",
   "metadata": {},
   "outputs": [],
   "source": [
    "# creat a file\n",
    "\n",
    "f = open('sample.txt','w')\n",
    "f.write('hello world ')\n",
    "f.write(' my name is somya')\n",
    "f.close()"
   ]
  },
  {
   "cell_type": "code",
   "execution_count": null,
   "id": "07f3f1c5",
   "metadata": {},
   "outputs": [],
   "source": [
    "# write multiline strings\n",
    "\n",
    "f = open('sample1.txt','w')\n",
    "f.write('hello world')\n",
    "f.write('\\nhow are you?')\n",
    "f.close()"
   ]
  },
  {
   "cell_type": "code",
   "execution_count": null,
   "id": "8bb3a829",
   "metadata": {},
   "outputs": [],
   "source": [
    "# if the file is already present\n",
    "\n",
    "f = open('sample.txt','w')\n",
    "f.write('ayush yaduvanshi')\n",
    "f.close()"
   ]
  },
  {
   "cell_type": "code",
   "execution_count": 2,
   "id": "49064a66",
   "metadata": {},
   "outputs": [],
   "source": [
    "# how exectly open() works?\n",
    "# problem with w mode\n",
    "\n",
    "f = open ('sample1.txt','a')\n",
    "f.write('\\ni am fine')\n",
    "f.close()"
   ]
  },
  {
   "cell_type": "code",
   "execution_count": 4,
   "id": "6747c7f5",
   "metadata": {},
   "outputs": [],
   "source": [
    "l = ['hello\\n','hi\\n','how are you\\n','i am fine']\n",
    "\n",
    "f = open('sample1.txt','w')\n",
    "f.writelines(l)\n",
    "f.close()"
   ]
  },
  {
   "cell_type": "code",
   "execution_count": 5,
   "id": "6b172ad8",
   "metadata": {},
   "outputs": [
    {
     "name": "stdout",
     "output_type": "stream",
     "text": [
      "hello\n",
      "hi\n",
      "how are you\n",
      "i am fine\n"
     ]
    }
   ],
   "source": [
    "f = open('sample1.txt','r')\n",
    "s=f.read()\n",
    "print(s)\n",
    "f.close()"
   ]
  },
  {
   "cell_type": "code",
   "execution_count": 7,
   "id": "d4353522",
   "metadata": {},
   "outputs": [
    {
     "name": "stdout",
     "output_type": "stream",
     "text": [
      "hello\n",
      "hi\n",
      "how\n"
     ]
    }
   ],
   "source": [
    "f = open('sample1.txt','r')\n",
    "s=f.read(12)\n",
    "print(s)\n",
    "f.close()"
   ]
  },
  {
   "cell_type": "code",
   "execution_count": 9,
   "id": "22fe935d",
   "metadata": {},
   "outputs": [
    {
     "name": "stdout",
     "output_type": "stream",
     "text": [
      "hello\n",
      "hi\n"
     ]
    }
   ],
   "source": [
    "f = open('sample1.txt','r')\n",
    "print(f.readline(),end='')\n",
    "print(f.readline(),end='')\n",
    "f.close()"
   ]
  },
  {
   "cell_type": "code",
   "execution_count": 11,
   "id": "f5ef38a9",
   "metadata": {},
   "outputs": [
    {
     "name": "stdout",
     "output_type": "stream",
     "text": [
      "hello\n",
      "hi\n",
      "how are you\n",
      "i am fine"
     ]
    }
   ],
   "source": [
    "f = open('sample1.txt','r')\n",
    "\n",
    "while True:\n",
    "\n",
    "    data = f.readline()\n",
    "\n",
    "    if data == '':\n",
    "        break\n",
    "\n",
    "    else:\n",
    "        print(data,end='')\n",
    "\n",
    "f.close()"
   ]
  }
 ],
 "metadata": {
  "kernelspec": {
   "display_name": "Python 3",
   "language": "python",
   "name": "python3"
  },
  "language_info": {
   "codemirror_mode": {
    "name": "ipython",
    "version": 3
   },
   "file_extension": ".py",
   "mimetype": "text/x-python",
   "name": "python",
   "nbconvert_exporter": "python",
   "pygments_lexer": "ipython3",
   "version": "3.11.9"
  }
 },
 "nbformat": 4,
 "nbformat_minor": 5
}
