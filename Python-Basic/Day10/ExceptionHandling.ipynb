{
 "cells": [
  {
   "cell_type": "markdown",
   "id": "995baeac",
   "metadata": {},
   "source": [
    "Python Day-10\n",
    "\n",
    "Exception Handling"
   ]
  },
  {
   "cell_type": "code",
   "execution_count": 1,
   "id": "5d9d84a8",
   "metadata": {},
   "outputs": [
    {
     "name": "stdout",
     "output_type": "stream",
     "text": [
      "hello world\n"
     ]
    }
   ],
   "source": [
    "print  ('hello world')"
   ]
  },
  {
   "cell_type": "code",
   "execution_count": 2,
   "id": "4c4362e7",
   "metadata": {},
   "outputs": [],
   "source": [
    "# # INDEX ERROR \n",
    "# l =[1,2,3]\n",
    "# l[100]"
   ]
  },
  {
   "cell_type": "code",
   "execution_count": 3,
   "id": "441a74fa",
   "metadata": {},
   "outputs": [],
   "source": [
    "# # module not found error\n",
    "\n",
    "# import mathi\n",
    "# math.floor(5.3)"
   ]
  },
  {
   "cell_type": "code",
   "execution_count": 4,
   "id": "e2909d6d",
   "metadata": {},
   "outputs": [],
   "source": [
    "# # key error\n",
    "# d = {'name','gender'}\n",
    "# d['age']"
   ]
  },
  {
   "cell_type": "code",
   "execution_count": 5,
   "id": "45dfbc5a",
   "metadata": {},
   "outputs": [],
   "source": [
    "# type error\n",
    "# 1+'a'"
   ]
  },
  {
   "cell_type": "code",
   "execution_count": 6,
   "id": "e5890460",
   "metadata": {},
   "outputs": [],
   "source": [
    "# value error \n",
    "# int('a')"
   ]
  },
  {
   "cell_type": "code",
   "execution_count": 7,
   "id": "1c395643",
   "metadata": {},
   "outputs": [],
   "source": [
    "# name error  \n",
    "# print(k)"
   ]
  },
  {
   "cell_type": "code",
   "execution_count": 8,
   "id": "201aa827",
   "metadata": {},
   "outputs": [],
   "source": [
    "# attribute error\n",
    "# l = [1,2,3]\n",
    "# l.upper()"
   ]
  },
  {
   "cell_type": "code",
   "execution_count": 9,
   "id": "3cef509a",
   "metadata": {},
   "outputs": [],
   "source": [
    "# lets creat a file \n",
    "with open('sample.txt','w') as f:\n",
    "    f.write('hello world')"
   ]
  },
  {
   "cell_type": "code",
   "execution_count": 10,
   "id": "8df0fd31",
   "metadata": {},
   "outputs": [
    {
     "name": "stdout",
     "output_type": "stream",
     "text": [
      "sorry file is not found\n"
     ]
    }
   ],
   "source": [
    "# try catch demo\n",
    "\n",
    "try:\n",
    "    with open('sample1.txt','r') as f:\n",
    "        print(f.read())\n",
    "except:\n",
    "    print('sorry file is not found')"
   ]
  },
  {
   "cell_type": "code",
   "execution_count": 11,
   "id": "554e9e67",
   "metadata": {},
   "outputs": [
    {
     "name": "stdout",
     "output_type": "stream",
     "text": [
      "hello world\n",
      "some erroe ocure\n"
     ]
    }
   ],
   "source": [
    "try:\n",
    "    with open('sample.txt','r') as f:\n",
    "        print(f.read())\n",
    "        print(m)\n",
    "except:\n",
    "    print('some erroe ocure')"
   ]
  },
  {
   "cell_type": "code",
   "execution_count": 12,
   "id": "554e7d7f",
   "metadata": {},
   "outputs": [
    {
     "name": "stdout",
     "output_type": "stream",
     "text": [
      "file not found\n"
     ]
    }
   ],
   "source": [
    "try:\n",
    "    with open('sample1.txt','r') as f:\n",
    "        print(f.read())\n",
    "        print(m)\n",
    "except FileNotFoundError:\n",
    "    print('file not found')\n",
    "except NameError:\n",
    "    print('variable not founnd')"
   ]
  },
  {
   "cell_type": "code",
   "execution_count": 13,
   "id": "dbe51dbe",
   "metadata": {},
   "outputs": [
    {
     "name": "stdout",
     "output_type": "stream",
     "text": [
      "hello world\n"
     ]
    }
   ],
   "source": [
    "# ELSE \n",
    "try:\n",
    " f = open('sample.txt','r')\n",
    "except FileNotFoundError:\n",
    " print('file nai milli')\n",
    "except Exception:\n",
    " print('kuch to lafada hai')\n",
    "else:\n",
    " print(f.read())\n"
   ]
  },
  {
   "cell_type": "code",
   "execution_count": 14,
   "id": "48b4b9a7",
   "metadata": {},
   "outputs": [
    {
     "name": "stdout",
     "output_type": "stream",
     "text": [
      "hello world\n",
      "y to print hoga he\n"
     ]
    }
   ],
   "source": [
    "# finallytry:\n",
    "try:\n",
    " f = open('sample.txt','r')\n",
    "except FileNotFoundError:\n",
    " print('file nai milli')\n",
    "except Exception:\n",
    " print('kuch to lafada hai')\n",
    "else:\n",
    " print(f.read())\n",
    "finally:\n",
    " print( 'y to print hoga he')\n"
   ]
  },
  {
   "cell_type": "code",
   "execution_count": 15,
   "id": "e904af1d",
   "metadata": {},
   "outputs": [],
   "source": [
    "# raise exception \n",
    "\n",
    "# raise NameError('aise he try kar rha hu')"
   ]
  },
  {
   "cell_type": "code",
   "execution_count": 16,
   "id": "028c2a9b",
   "metadata": {},
   "outputs": [
    {
     "name": "stdout",
     "output_type": "stream",
     "text": [
      "5000\n"
     ]
    }
   ],
   "source": [
    "class bank:\n",
    "\n",
    "    def __init__(self,balance):\n",
    "        self.balance=balance\n",
    "    def withdraw(self,amount):\n",
    "        if amount < 0:\n",
    "            raise Exception('amount cannot be -ve')\n",
    "        if self.balance <amount:\n",
    "            raise Exception('paise nai hai tere pass')\n",
    "        self.balance=self.balance-amount\n",
    "\n",
    "obj = bank(10000)\n",
    "try:\n",
    "    obj.withdraw(5000)\n",
    "except Exception as e:\n",
    "    print (e)\n",
    "else:\n",
    "    print(obj.balance)"
   ]
  },
  {
   "cell_type": "code",
   "execution_count": 20,
   "id": "d107ad5c",
   "metadata": {},
   "outputs": [
    {
     "name": "stdout",
     "output_type": "stream",
     "text": [
      "5000\n"
     ]
    }
   ],
   "source": [
    "class myexception(Exception):\n",
    "    def __init__(self,message):\n",
    "        print(message)\n",
    "class bank:\n",
    "\n",
    "    def __init__(self,balance):\n",
    "        self.balance=balance\n",
    "    def withdraw(self,amount):\n",
    "        if amount < 0:\n",
    "            raise myexception('amount cannot be -ve')\n",
    "        if self.balance <amount:\n",
    "            raise myexception('paise nai hai tere pass')\n",
    "        self.balance=self.balance-amount\n",
    "\n",
    "obj = bank(10000)\n",
    "try:\n",
    "    obj.withdraw(5000)\n",
    "except Exception as e:\n",
    "    pass\n",
    "else:\n",
    "    print(obj.balance)"
   ]
  },
  {
   "cell_type": "code",
   "execution_count": 24,
   "id": "b6ee3ef2",
   "metadata": {},
   "outputs": [
    {
     "name": "stdout",
     "output_type": "stream",
     "text": [
      "bhai teri  to lag gai\n",
      "logout\n",
      "database connection closed\n"
     ]
    }
   ],
   "source": [
    "class SecurityError(Exception):\n",
    "    def __init__(self,message):\n",
    "        print(message)\n",
    "\n",
    "    def logout(self):\n",
    "        print('logout')\n",
    "\n",
    "class google:\n",
    "    def __init__(self,name,email,password,device):\n",
    "        self.name=name\n",
    "        self.email=email\n",
    "        self.password=password\n",
    "        self.device=device\n",
    "    \n",
    "    def login(self,email,password,device):\n",
    "        if device != self.device:\n",
    "            raise SecurityError('bhai teri  to lag gai')\n",
    "        if email == self.email and password == self.password:\n",
    "            print('welcome')\n",
    "        else:\n",
    "            print('login error')\n",
    "\n",
    "obj =google('somya','somya@gmail.com',1234,'android')\n",
    "\n",
    "try:\n",
    "    obj.login('somya@gmail.com','1234','windows')\n",
    "except SecurityError as e:\n",
    " e.logout()\n",
    "else:\n",
    " print(obj.name)\n",
    "finally:\n",
    "    print('database connection closed')"
   ]
  }
 ],
 "metadata": {
  "kernelspec": {
   "display_name": "Python 3",
   "language": "python",
   "name": "python3"
  },
  "language_info": {
   "codemirror_mode": {
    "name": "ipython",
    "version": 3
   },
   "file_extension": ".py",
   "mimetype": "text/x-python",
   "name": "python",
   "nbconvert_exporter": "python",
   "pygments_lexer": "ipython3",
   "version": "3.11.9"
  }
 },
 "nbformat": 4,
 "nbformat_minor": 5
}
