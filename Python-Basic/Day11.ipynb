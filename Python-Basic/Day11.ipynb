{
 "cells": [
  {
   "cell_type": "markdown",
   "id": "3805507f",
   "metadata": {},
   "source": [
    "Python  Day-11\n",
    "\n",
    "Decorators & Namespace"
   ]
  },
  {
   "cell_type": "code",
   "execution_count": null,
   "id": "50fcbcb1",
   "metadata": {},
   "outputs": [
    {
     "name": "stdout",
     "output_type": "stream",
     "text": [
      "3\n",
      "2\n"
     ]
    }
   ],
   "source": [
    "# local and global \n",
    "# global var.\n",
    "a=2\n",
    "\n",
    "def temp():\n",
    "    # local var \n",
    "    b=3\n",
    "    print(b)\n",
    "\n",
    "temp()\n",
    "print(a)"
   ]
  },
  {
   "cell_type": "code",
   "execution_count": 2,
   "id": "371d1cf7",
   "metadata": {},
   "outputs": [
    {
     "name": "stdout",
     "output_type": "stream",
     "text": [
      "3\n",
      "2\n"
     ]
    }
   ],
   "source": [
    "a=2\n",
    "\n",
    "def temp():\n",
    "    # local var \n",
    "    a=3\n",
    "    print(a)\n",
    "\n",
    "temp()\n",
    "print(a)"
   ]
  },
  {
   "cell_type": "code",
   "execution_count": 2,
   "id": "ff010a3d",
   "metadata": {},
   "outputs": [
    {
     "name": "stdout",
     "output_type": "stream",
     "text": [
      "3\n",
      "3\n"
     ]
    }
   ],
   "source": [
    "a=2\n",
    "\n",
    "def temp():\n",
    "    # local var\n",
    "    global a \n",
    "    a+=1\n",
    "    print(a)\n",
    "\n",
    "temp()\n",
    "print(a)"
   ]
  },
  {
   "cell_type": "code",
   "execution_count": 3,
   "id": "dc86843b",
   "metadata": {},
   "outputs": [
    {
     "name": "stdout",
     "output_type": "stream",
     "text": [
      "5\n",
      "5\n"
     ]
    }
   ],
   "source": [
    "def temp(z):\n",
    "    print(z)\n",
    "a=5\n",
    "temp(5)\n",
    "print(a)"
   ]
  },
  {
   "cell_type": "code",
   "execution_count": 4,
   "id": "db59240d",
   "metadata": {},
   "outputs": [
    {
     "name": "stdout",
     "output_type": "stream",
     "text": [
      "['ArithmeticError', 'AssertionError', 'AttributeError', 'BaseException', 'BaseExceptionGroup', 'BlockingIOError', 'BrokenPipeError', 'BufferError', 'BytesWarning', 'ChildProcessError', 'ConnectionAbortedError', 'ConnectionError', 'ConnectionRefusedError', 'ConnectionResetError', 'DeprecationWarning', 'EOFError', 'Ellipsis', 'EncodingWarning', 'EnvironmentError', 'Exception', 'ExceptionGroup', 'False', 'FileExistsError', 'FileNotFoundError', 'FloatingPointError', 'FutureWarning', 'GeneratorExit', 'IOError', 'ImportError', 'ImportWarning', 'IndentationError', 'IndexError', 'InterruptedError', 'IsADirectoryError', 'KeyError', 'KeyboardInterrupt', 'LookupError', 'MemoryError', 'ModuleNotFoundError', 'NameError', 'None', 'NotADirectoryError', 'NotImplemented', 'NotImplementedError', 'OSError', 'OverflowError', 'PendingDeprecationWarning', 'PermissionError', 'ProcessLookupError', 'RecursionError', 'ReferenceError', 'ResourceWarning', 'RuntimeError', 'RuntimeWarning', 'StopAsyncIteration', 'StopIteration', 'SyntaxError', 'SyntaxWarning', 'SystemError', 'SystemExit', 'TabError', 'TimeoutError', 'True', 'TypeError', 'UnboundLocalError', 'UnicodeDecodeError', 'UnicodeEncodeError', 'UnicodeError', 'UnicodeTranslateError', 'UnicodeWarning', 'UserWarning', 'ValueError', 'Warning', 'WindowsError', 'ZeroDivisionError', '__IPYTHON__', '__build_class__', '__debug__', '__doc__', '__import__', '__loader__', '__name__', '__package__', '__spec__', 'abs', 'aiter', 'all', 'anext', 'any', 'ascii', 'bin', 'bool', 'breakpoint', 'bytearray', 'bytes', 'callable', 'chr', 'classmethod', 'compile', 'complex', 'copyright', 'credits', 'delattr', 'dict', 'dir', 'display', 'divmod', 'enumerate', 'eval', 'exec', 'execfile', 'filter', 'float', 'format', 'frozenset', 'get_ipython', 'getattr', 'globals', 'hasattr', 'hash', 'help', 'hex', 'id', 'input', 'int', 'isinstance', 'issubclass', 'iter', 'len', 'license', 'list', 'locals', 'map', 'max', 'memoryview', 'min', 'next', 'object', 'oct', 'open', 'ord', 'pow', 'print', 'property', 'range', 'repr', 'reversed', 'round', 'runfile', 'set', 'setattr', 'slice', 'sorted', 'staticmethod', 'str', 'sum', 'super', 'tuple', 'type', 'vars', 'zip']\n"
     ]
    }
   ],
   "source": [
    "import builtins\n",
    "print(dir(builtins))"
   ]
  },
  {
   "cell_type": "code",
   "execution_count": 7,
   "id": "85e85e93",
   "metadata": {},
   "outputs": [],
   "source": [
    "# l = [1,2,3]\n",
    "# max(l)\n",
    "\n",
    "# def max():\n",
    "#     print('hello')\n",
    "# max(l)"
   ]
  },
  {
   "cell_type": "code",
   "execution_count": 8,
   "id": "59dd21bb",
   "metadata": {},
   "outputs": [
    {
     "name": "stdout",
     "output_type": "stream",
     "text": [
      "inner function\n",
      "outer function\n",
      "main program\n"
     ]
    }
   ],
   "source": [
    "# enclosing scope\n",
    "\n",
    "def outer():\n",
    "    def inner():\n",
    "        print('inner function')\n",
    "    inner()\n",
    "    print('outer function')\n",
    "\n",
    "outer()\n",
    "print('main program')"
   ]
  },
  {
   "cell_type": "code",
   "execution_count": 13,
   "id": "23ea45c2",
   "metadata": {},
   "outputs": [
    {
     "name": "stdout",
     "output_type": "stream",
     "text": [
      "2\n",
      "outer function\n",
      "main program\n"
     ]
    }
   ],
   "source": [
    "def outer():\n",
    "    def inner():\n",
    "        print(a)\n",
    "    inner()\n",
    "    print('outer function')\n",
    "a=2\n",
    "outer()\n",
    "print('main program')"
   ]
  },
  {
   "cell_type": "code",
   "execution_count": 14,
   "id": "103bbc82",
   "metadata": {},
   "outputs": [
    {
     "name": "stdout",
     "output_type": "stream",
     "text": [
      "inner 2\n",
      "outer 2\n",
      "outer function\n",
      "main program\n"
     ]
    }
   ],
   "source": [
    "def outer():\n",
    "    a=1\n",
    "\n",
    "    def inner():\n",
    "        nonlocal a\n",
    "        a += 1\n",
    "        print('inner',a)\n",
    "    inner()\n",
    "    print( 'outer',a)\n",
    "    print('outer function')\n",
    "a=2\n",
    "outer()\n",
    "print('main program')"
   ]
  },
  {
   "cell_type": "code",
   "execution_count": 17,
   "id": "1a26c1a5",
   "metadata": {},
   "outputs": [
    {
     "name": "stdout",
     "output_type": "stream",
     "text": [
      "hello\n"
     ]
    }
   ],
   "source": [
    "# Decorator\n",
    "def func():\n",
    "    print('hello')\n",
    "\n",
    "a = func\n",
    "a()"
   ]
  },
  {
   "cell_type": "code",
   "execution_count": 28,
   "id": "1e99c8b7",
   "metadata": {},
   "outputs": [
    {
     "name": "stdout",
     "output_type": "stream",
     "text": [
      "***************\n",
      "❤️  Hello  ❤️\n",
      "***************\n",
      "***************\n",
      "somya yaduvanshi\n",
      "***************\n"
     ]
    }
   ],
   "source": [
    "def my_decorator(func):\n",
    "    def wrapper():\n",
    "        print('***************')\n",
    "        func()\n",
    "        print('***************')\n",
    "    return wrapper\n",
    "\n",
    "def hello():\n",
    "    print('❤️  Hello  ❤️')\n",
    "\n",
    "def display():\n",
    "    print('somya yaduvanshi')\n",
    "\n",
    "a = my_decorator(hello)\n",
    "a()\n",
    "\n",
    "b= my_decorator(display)\n",
    "b()"
   ]
  },
  {
   "cell_type": "code",
   "execution_count": 29,
   "id": "0126d28b",
   "metadata": {},
   "outputs": [
    {
     "name": "stdout",
     "output_type": "stream",
     "text": [
      "***************\n",
      "❤️  Hello  ❤️\n",
      "***************\n"
     ]
    }
   ],
   "source": [
    "def my_decorator(func):\n",
    "    def wrapper():\n",
    "        print('***************')\n",
    "        func()\n",
    "        print('***************')\n",
    "    return wrapper\n",
    "\n",
    "def hello():\n",
    "    print('❤️  Hello  ❤️')\n",
    "\n",
    "a = my_decorator(hello)\n",
    "a()\n",
    "\n"
   ]
  },
  {
   "cell_type": "code",
   "execution_count": 30,
   "id": "5944a428",
   "metadata": {},
   "outputs": [
    {
     "name": "stdout",
     "output_type": "stream",
     "text": [
      "***************\n",
      "hello\n",
      "***************\n"
     ]
    }
   ],
   "source": [
    "def my_decorator(func):\n",
    "    def wrapper():\n",
    "        print('***************')\n",
    "        func()\n",
    "        print('***************')\n",
    "    return wrapper\n",
    "\n",
    "@my_decorator\n",
    "def hello():\n",
    "    print('hello')\n",
    "\n",
    "hello()"
   ]
  },
  {
   "cell_type": "code",
   "execution_count": 33,
   "id": "6b726282",
   "metadata": {},
   "outputs": [
    {
     "name": "stdout",
     "output_type": "stream",
     "text": [
      "hello world\n",
      "time taken by hello 2.001166820526123 secs\n"
     ]
    }
   ],
   "source": [
    "# anaything meaningful?\n",
    "import time\n",
    "\n",
    "def timer(func):\n",
    "    def wrapper():\n",
    "        start = time.time()\n",
    "        func()\n",
    "        print('time taken by',func.__name__,time.time()-start,'secs')\n",
    "    return wrapper\n",
    "\n",
    "@timer\n",
    "def hello():\n",
    "    print('hello world')\n",
    "    time.sleep(2)\n",
    "\n",
    "hello()"
   ]
  },
  {
   "cell_type": "code",
   "execution_count": 42,
   "id": "4388687f",
   "metadata": {},
   "outputs": [
    {
     "name": "stdout",
     "output_type": "stream",
     "text": [
      "4\n"
     ]
    }
   ],
   "source": [
    "def senity_check(data_type):\n",
    "    def outer_wrapper(func):\n",
    "        def inner_wrapper(*args):\n",
    "            if type(args[0]) == data_type:\n",
    "                return func(*args)   # ✅ call the function and return result\n",
    "            else:\n",
    "                raise TypeError('ye data type to galat hai y nai chalega')\n",
    "        return inner_wrapper   # ✅ return wrapper here (not inside)\n",
    "    return outer_wrapper       # ✅ outer returns outer_wrapper\n",
    "\n",
    "@senity_check(int)\n",
    "def square(num):\n",
    "    print(num**2)\n",
    "\n",
    "# Test\n",
    "square(2)     # ✅ Works fine, prints 4\n"
   ]
  }
 ],
 "metadata": {
  "kernelspec": {
   "display_name": "Python 3",
   "language": "python",
   "name": "python3"
  },
  "language_info": {
   "codemirror_mode": {
    "name": "ipython",
    "version": 3
   },
   "file_extension": ".py",
   "mimetype": "text/x-python",
   "name": "python",
   "nbconvert_exporter": "python",
   "pygments_lexer": "ipython3",
   "version": "3.11.9"
  }
 },
 "nbformat": 4,
 "nbformat_minor": 5
}
