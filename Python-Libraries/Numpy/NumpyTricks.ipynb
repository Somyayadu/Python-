{
 "cells": [
  {
   "cell_type": "markdown",
   "id": "70fe5a42",
   "metadata": {},
   "source": [
    "Python Day - 15 \n",
    "\n",
    "Numpy Tricks"
   ]
  },
  {
   "cell_type": "code",
   "execution_count": 1,
   "id": "28ba5b89",
   "metadata": {},
   "outputs": [
    {
     "data": {
      "text/plain": [
       "array([97, 86, 24, 59, 35, 69, 33, 69, 27, 26, 96, 18, 62, 97,  1])"
      ]
     },
     "execution_count": 1,
     "metadata": {},
     "output_type": "execute_result"
    }
   ],
   "source": [
    "# np.sort \n",
    "\n",
    "import numpy  as np\n",
    "\n",
    "a = np.random.randint(1,100,15)\n",
    "a"
   ]
  },
  {
   "cell_type": "code",
   "execution_count": 2,
   "id": "ab57477c",
   "metadata": {},
   "outputs": [
    {
     "data": {
      "text/plain": [
       "array([[61, 51, 34, 90],\n",
       "       [77, 16,  2, 56],\n",
       "       [34, 95, 92, 58],\n",
       "       [97, 81, 45, 80],\n",
       "       [39, 57, 72, 12],\n",
       "       [20, 98, 18, 88]])"
      ]
     },
     "execution_count": 2,
     "metadata": {},
     "output_type": "execute_result"
    }
   ],
   "source": [
    "b = np.random.randint(1,100,24).reshape(6,4)\n",
    "b"
   ]
  },
  {
   "cell_type": "code",
   "execution_count": 3,
   "id": "ec1db584",
   "metadata": {},
   "outputs": [
    {
     "data": {
      "text/plain": [
       "array([ 1, 18, 24, 26, 27, 33, 35, 59, 62, 69, 69, 86, 96, 97, 97])"
      ]
     },
     "execution_count": 3,
     "metadata": {},
     "output_type": "execute_result"
    }
   ],
   "source": [
    "np.sort(a)"
   ]
  },
  {
   "cell_type": "code",
   "execution_count": 4,
   "id": "a352afd9",
   "metadata": {},
   "outputs": [
    {
     "data": {
      "text/plain": [
       "array([[20, 16,  2, 12],\n",
       "       [34, 51, 18, 56],\n",
       "       [39, 57, 34, 58],\n",
       "       [61, 81, 45, 80],\n",
       "       [77, 95, 72, 88],\n",
       "       [97, 98, 92, 90]])"
      ]
     },
     "execution_count": 4,
     "metadata": {},
     "output_type": "execute_result"
    }
   ],
   "source": [
    "np.sort(b,axis=0)"
   ]
  },
  {
   "cell_type": "code",
   "execution_count": 5,
   "id": "41cce551",
   "metadata": {},
   "outputs": [
    {
     "data": {
      "text/plain": [
       "array([ 97,  86,  24,  59,  35,  69,  33,  69,  27,  26,  96,  18,  62,\n",
       "        97,   1, 200])"
      ]
     },
     "execution_count": 5,
     "metadata": {},
     "output_type": "execute_result"
    }
   ],
   "source": [
    "# np.append \n",
    "a\n",
    "np.append(a,200)"
   ]
  },
  {
   "cell_type": "code",
   "execution_count": 6,
   "id": "62ae7db4",
   "metadata": {},
   "outputs": [
    {
     "data": {
      "text/plain": [
       "array([[61.        , 51.        , 34.        , 90.        ,  0.92120431],\n",
       "       [77.        , 16.        ,  2.        , 56.        ,  0.69704444],\n",
       "       [34.        , 95.        , 92.        , 58.        ,  0.70040448],\n",
       "       [97.        , 81.        , 45.        , 80.        ,  0.3614793 ],\n",
       "       [39.        , 57.        , 72.        , 12.        ,  0.63448848],\n",
       "       [20.        , 98.        , 18.        , 88.        ,  0.66760025]])"
      ]
     },
     "execution_count": 6,
     "metadata": {},
     "output_type": "execute_result"
    }
   ],
   "source": [
    "np.append(b,np.random.random((b.shape[0],1)),axis=1)"
   ]
  },
  {
   "cell_type": "code",
   "execution_count": 7,
   "id": "1027a72a",
   "metadata": {},
   "outputs": [
    {
     "name": "stdout",
     "output_type": "stream",
     "text": [
      "[[0 1 2]\n",
      " [3 4 5]]\n",
      "[[ 6  7  8]\n",
      " [ 9 10 11]]\n"
     ]
    }
   ],
   "source": [
    "# np.concatend\n",
    "\n",
    "c= np.arange(6).reshape(2,3)\n",
    "d= np.arange(6,12).reshape(2,3)\n",
    "\n",
    "print(c)\n",
    "print(d)"
   ]
  },
  {
   "cell_type": "code",
   "execution_count": 8,
   "id": "7cc5b74a",
   "metadata": {},
   "outputs": [
    {
     "data": {
      "text/plain": [
       "array([[ 0,  1,  2],\n",
       "       [ 3,  4,  5],\n",
       "       [ 6,  7,  8],\n",
       "       [ 9, 10, 11]])"
      ]
     },
     "execution_count": 8,
     "metadata": {},
     "output_type": "execute_result"
    }
   ],
   "source": [
    "np.concatenate((c,d),axis=0)"
   ]
  },
  {
   "cell_type": "code",
   "execution_count": 9,
   "id": "f75fe4a1",
   "metadata": {},
   "outputs": [
    {
     "data": {
      "text/plain": [
       "array([[ 0,  1,  2,  6,  7,  8],\n",
       "       [ 3,  4,  5,  9, 10, 11]])"
      ]
     },
     "execution_count": 9,
     "metadata": {},
     "output_type": "execute_result"
    }
   ],
   "source": [
    "np.concatenate((c,d),axis=1)"
   ]
  },
  {
   "cell_type": "code",
   "execution_count": 10,
   "id": "15dd9f40",
   "metadata": {},
   "outputs": [
    {
     "name": "stdout",
     "output_type": "stream",
     "text": [
      "[1 1 2 2 3 3 4 4 5 5 6 6]\n",
      "[[1 2 3 1]\n",
      " [1 2 3 2]]\n"
     ]
    }
   ],
   "source": [
    "# np.unique\n",
    "\n",
    "e= np.array([1,1,2,2,3,3,4,4,5,5,6,6])\n",
    "f= np.array([[1,2,3,1],[1,2,3,2]]) \n",
    "\n",
    "print(e)\n",
    "print(f)"
   ]
  },
  {
   "cell_type": "code",
   "execution_count": 11,
   "id": "1194cb6d",
   "metadata": {},
   "outputs": [
    {
     "data": {
      "text/plain": [
       "array([1, 2, 3, 4, 5, 6])"
      ]
     },
     "execution_count": 11,
     "metadata": {},
     "output_type": "execute_result"
    }
   ],
   "source": [
    "np.unique(e)"
   ]
  },
  {
   "cell_type": "code",
   "execution_count": 12,
   "id": "e9694270",
   "metadata": {},
   "outputs": [
    {
     "data": {
      "text/plain": [
       "(1, 15)"
      ]
     },
     "execution_count": 12,
     "metadata": {},
     "output_type": "execute_result"
    }
   ],
   "source": [
    "# np.expand_dims\n",
    "\n",
    "a\n",
    "\n",
    "np.expand_dims(a,axis=0).shape"
   ]
  },
  {
   "cell_type": "code",
   "execution_count": 13,
   "id": "44badc0f",
   "metadata": {},
   "outputs": [
    {
     "data": {
      "text/plain": [
       "array([[97],\n",
       "       [86],\n",
       "       [24],\n",
       "       [59],\n",
       "       [35],\n",
       "       [69],\n",
       "       [33],\n",
       "       [69],\n",
       "       [27],\n",
       "       [26],\n",
       "       [96],\n",
       "       [18],\n",
       "       [62],\n",
       "       [97],\n",
       "       [ 1]])"
      ]
     },
     "execution_count": 13,
     "metadata": {},
     "output_type": "execute_result"
    }
   ],
   "source": [
    "np.expand_dims(a,axis=1)"
   ]
  },
  {
   "cell_type": "code",
   "execution_count": 14,
   "id": "c529e0f6",
   "metadata": {},
   "outputs": [
    {
     "data": {
      "text/plain": [
       "array([97, 86, 24, 59, 35, 69, 33, 69, 27, 26, 96, 18, 62, 97,  1])"
      ]
     },
     "execution_count": 14,
     "metadata": {},
     "output_type": "execute_result"
    }
   ],
   "source": [
    "# np.where      \n",
    "a"
   ]
  },
  {
   "cell_type": "code",
   "execution_count": 15,
   "id": "3026e151",
   "metadata": {},
   "outputs": [
    {
     "data": {
      "text/plain": [
       "(array([ 0,  1,  3,  5,  7, 10, 12, 13], dtype=int64),)"
      ]
     },
     "execution_count": 15,
     "metadata": {},
     "output_type": "execute_result"
    }
   ],
   "source": [
    "np.where(a>50)"
   ]
  },
  {
   "cell_type": "code",
   "execution_count": 16,
   "id": "559ffcd4",
   "metadata": {},
   "outputs": [
    {
     "data": {
      "text/plain": [
       "array([ 0,  0, 24,  0, 35,  0, 33,  0, 27, 26,  0, 18,  0,  0,  1])"
      ]
     },
     "execution_count": 16,
     "metadata": {},
     "output_type": "execute_result"
    }
   ],
   "source": [
    "np.where(a>50,0,a)"
   ]
  },
  {
   "cell_type": "code",
   "execution_count": 17,
   "id": "b164d7a5",
   "metadata": {},
   "outputs": [
    {
     "data": {
      "text/plain": [
       "array([97, 86, 24, 59, 35, 69, 33, 69, 27, 26, 96, 18, 62, 97,  1])"
      ]
     },
     "execution_count": 17,
     "metadata": {},
     "output_type": "execute_result"
    }
   ],
   "source": [
    "a"
   ]
  },
  {
   "cell_type": "code",
   "execution_count": 18,
   "id": "6dc268ed",
   "metadata": {},
   "outputs": [
    {
     "data": {
      "text/plain": [
       "0"
      ]
     },
     "execution_count": 18,
     "metadata": {},
     "output_type": "execute_result"
    }
   ],
   "source": [
    "# np.argmax\n",
    "np.argmax(a)"
   ]
  },
  {
   "cell_type": "code",
   "execution_count": 19,
   "id": "f992a49b",
   "metadata": {},
   "outputs": [
    {
     "data": {
      "text/plain": [
       "array([[61, 51, 34, 90],\n",
       "       [77, 16,  2, 56],\n",
       "       [34, 95, 92, 58],\n",
       "       [97, 81, 45, 80],\n",
       "       [39, 57, 72, 12],\n",
       "       [20, 98, 18, 88]])"
      ]
     },
     "execution_count": 19,
     "metadata": {},
     "output_type": "execute_result"
    }
   ],
   "source": [
    "b"
   ]
  },
  {
   "cell_type": "code",
   "execution_count": 20,
   "id": "b3443bf9",
   "metadata": {},
   "outputs": [
    {
     "data": {
      "text/plain": [
       "array([3, 0, 1, 0, 2, 1], dtype=int64)"
      ]
     },
     "execution_count": 20,
     "metadata": {},
     "output_type": "execute_result"
    }
   ],
   "source": [
    "np.argmax(b,axis=1)"
   ]
  },
  {
   "cell_type": "code",
   "execution_count": 21,
   "id": "d3fe1a78",
   "metadata": {},
   "outputs": [
    {
     "data": {
      "text/plain": [
       "array([97, 86, 24, 59, 35, 69, 33, 69, 27, 26, 96, 18, 62, 97,  1])"
      ]
     },
     "execution_count": 21,
     "metadata": {},
     "output_type": "execute_result"
    }
   ],
   "source": [
    "# np.cumsum\n",
    "a"
   ]
  },
  {
   "cell_type": "code",
   "execution_count": 22,
   "id": "1a283c16",
   "metadata": {},
   "outputs": [
    {
     "data": {
      "text/plain": [
       "array([ 97, 183, 207, 266, 301, 370, 403, 472, 499, 525, 621, 639, 701,\n",
       "       798, 799])"
      ]
     },
     "execution_count": 22,
     "metadata": {},
     "output_type": "execute_result"
    }
   ],
   "source": [
    "np.cumsum(a)"
   ]
  },
  {
   "cell_type": "code",
   "execution_count": 23,
   "id": "64fbc495",
   "metadata": {},
   "outputs": [
    {
     "data": {
      "text/plain": [
       "array([[61, 51, 34, 90],\n",
       "       [77, 16,  2, 56],\n",
       "       [34, 95, 92, 58],\n",
       "       [97, 81, 45, 80],\n",
       "       [39, 57, 72, 12],\n",
       "       [20, 98, 18, 88]])"
      ]
     },
     "execution_count": 23,
     "metadata": {},
     "output_type": "execute_result"
    }
   ],
   "source": [
    "b"
   ]
  },
  {
   "cell_type": "code",
   "execution_count": 24,
   "id": "3774daff",
   "metadata": {},
   "outputs": [
    {
     "data": {
      "text/plain": [
       "array([  61,  112,  146,  236,  313,  329,  331,  387,  421,  516,  608,\n",
       "        666,  763,  844,  889,  969, 1008, 1065, 1137, 1149, 1169, 1267,\n",
       "       1285, 1373])"
      ]
     },
     "execution_count": 24,
     "metadata": {},
     "output_type": "execute_result"
    }
   ],
   "source": [
    "np.cumsum(b)"
   ]
  },
  {
   "cell_type": "code",
   "execution_count": 25,
   "id": "2c009148",
   "metadata": {},
   "outputs": [
    {
     "data": {
      "text/plain": [
       "array([97, 86, 24, 59, 35, 69, 33, 69, 27, 26, 96, 18, 62, 97,  1])"
      ]
     },
     "execution_count": 25,
     "metadata": {},
     "output_type": "execute_result"
    }
   ],
   "source": [
    "# np.percentile\n",
    "a"
   ]
  },
  {
   "cell_type": "code",
   "execution_count": 26,
   "id": "bc3fff33",
   "metadata": {},
   "outputs": [
    {
     "data": {
      "text/plain": [
       "97.0"
      ]
     },
     "execution_count": 26,
     "metadata": {},
     "output_type": "execute_result"
    }
   ],
   "source": [
    "np.percentile(a,100)"
   ]
  },
  {
   "cell_type": "code",
   "execution_count": 27,
   "id": "23867a92",
   "metadata": {},
   "outputs": [
    {
     "data": {
      "text/plain": [
       "59.0"
      ]
     },
     "execution_count": 27,
     "metadata": {},
     "output_type": "execute_result"
    }
   ],
   "source": [
    "np.median(a)"
   ]
  },
  {
   "cell_type": "code",
   "execution_count": 28,
   "id": "61fe005f",
   "metadata": {},
   "outputs": [
    {
     "data": {
      "text/plain": [
       "array([97, 86, 24, 59, 35, 69, 33, 69, 27, 26, 96, 18, 62, 97,  1])"
      ]
     },
     "execution_count": 28,
     "metadata": {},
     "output_type": "execute_result"
    }
   ],
   "source": [
    "# np.histogram\n",
    "a"
   ]
  },
  {
   "cell_type": "code",
   "execution_count": 29,
   "id": "0b12f972",
   "metadata": {},
   "outputs": [
    {
     "data": {
      "text/plain": [
       "(array([1, 1, 3, 2, 0, 1, 3, 0, 1, 3], dtype=int64),\n",
       " array([  0,  10,  20,  30,  40,  50,  60,  70,  80,  90, 100]))"
      ]
     },
     "execution_count": 29,
     "metadata": {},
     "output_type": "execute_result"
    }
   ],
   "source": [
    "np.histogram(a,bins=[0,10,20,30,40,50,60,70,80,90,100])"
   ]
  },
  {
   "cell_type": "code",
   "execution_count": 30,
   "id": "55fc11cf",
   "metadata": {},
   "outputs": [
    {
     "data": {
      "text/plain": [
       "array([[ 1.        , -0.13507933],\n",
       "       [-0.13507933,  1.        ]])"
      ]
     },
     "execution_count": 30,
     "metadata": {},
     "output_type": "execute_result"
    }
   ],
   "source": [
    "# np.corrcoef\n",
    "\n",
    "salary= np.array([2000,40000,50000,60000,700700]) \n",
    "exp = np.array([1,3,2,4,2])\n",
    "\n",
    "np.corrcoef(salary,exp)"
   ]
  },
  {
   "cell_type": "code",
   "execution_count": 31,
   "id": "b9cb6b41",
   "metadata": {},
   "outputs": [
    {
     "data": {
      "text/plain": [
       "array([False, False, False, False, False, False, False, False, False,\n",
       "       False, False, False, False, False, False])"
      ]
     },
     "execution_count": 31,
     "metadata": {},
     "output_type": "execute_result"
    }
   ],
   "source": [
    "# np.isin\n",
    "a\n",
    "items=[10,20,30,40,50,60,70,80,90]\n",
    "np.isin(a,items)"
   ]
  },
  {
   "cell_type": "code",
   "execution_count": 32,
   "id": "053dcb0e",
   "metadata": {},
   "outputs": [
    {
     "data": {
      "text/plain": [
       "array([ 1, 97, 62, 18, 96, 26, 27, 69, 33, 69, 35, 59, 24, 86, 97])"
      ]
     },
     "execution_count": 32,
     "metadata": {},
     "output_type": "execute_result"
    }
   ],
   "source": [
    "# np.flip\n",
    "a\n",
    "np.flip(a)"
   ]
  },
  {
   "cell_type": "code",
   "execution_count": 33,
   "id": "68387e44",
   "metadata": {},
   "outputs": [],
   "source": [
    "# np.put\n",
    "np.put(a,[0,1],[110,530])"
   ]
  },
  {
   "cell_type": "code",
   "execution_count": 34,
   "id": "6823a21e",
   "metadata": {},
   "outputs": [
    {
     "data": {
      "text/plain": [
       "array([110, 530,  24,  59,  35,  69,  33,  69,  27,  26,  96,  18,  62,\n",
       "        97,   1])"
      ]
     },
     "execution_count": 34,
     "metadata": {},
     "output_type": "execute_result"
    }
   ],
   "source": [
    "a"
   ]
  },
  {
   "cell_type": "code",
   "execution_count": 35,
   "id": "00f47bcd",
   "metadata": {},
   "outputs": [
    {
     "data": {
      "text/plain": [
       "array([530,  24,  59,  35,  69,  33,  69,  27,  26,  96,  18,  62,  97,\n",
       "         1])"
      ]
     },
     "execution_count": 35,
     "metadata": {},
     "output_type": "execute_result"
    }
   ],
   "source": [
    "# np.delete\n",
    "a\n",
    "np.delete(a,0)"
   ]
  },
  {
   "cell_type": "markdown",
   "id": "e47095dc",
   "metadata": {},
   "source": [
    "Set Function"
   ]
  },
  {
   "cell_type": "code",
   "execution_count": 36,
   "id": "e88eb43d",
   "metadata": {},
   "outputs": [],
   "source": [
    "m=np.array([1,2,3,4,5,9])\n",
    "n=np.array([1,2,3,4,5,6,7])"
   ]
  },
  {
   "cell_type": "code",
   "execution_count": 37,
   "id": "695a415f",
   "metadata": {},
   "outputs": [
    {
     "data": {
      "text/plain": [
       "array([1, 2, 3, 4, 5, 6, 7, 9])"
      ]
     },
     "execution_count": 37,
     "metadata": {},
     "output_type": "execute_result"
    }
   ],
   "source": [
    "np.union1d(m,n)"
   ]
  },
  {
   "cell_type": "code",
   "execution_count": 38,
   "id": "05e2e4fc",
   "metadata": {},
   "outputs": [
    {
     "data": {
      "text/plain": [
       "array([1, 2, 3, 4, 5])"
      ]
     },
     "execution_count": 38,
     "metadata": {},
     "output_type": "execute_result"
    }
   ],
   "source": [
    "np.intersect1d(m,n)"
   ]
  },
  {
   "cell_type": "code",
   "execution_count": 39,
   "id": "a19a8182",
   "metadata": {},
   "outputs": [
    {
     "data": {
      "text/plain": [
       "array([9])"
      ]
     },
     "execution_count": 39,
     "metadata": {},
     "output_type": "execute_result"
    }
   ],
   "source": [
    "np.setdiff1d(m,n)"
   ]
  },
  {
   "cell_type": "code",
   "execution_count": 40,
   "id": "2654559d",
   "metadata": {},
   "outputs": [
    {
     "data": {
      "text/plain": [
       "array([6, 7, 9])"
      ]
     },
     "execution_count": 40,
     "metadata": {},
     "output_type": "execute_result"
    }
   ],
   "source": [
    "np.setxor1d(m,n)"
   ]
  },
  {
   "cell_type": "code",
   "execution_count": 41,
   "id": "ae9561d8",
   "metadata": {},
   "outputs": [
    {
     "data": {
      "text/plain": [
       "array([ True, False, False, False, False, False])"
      ]
     },
     "execution_count": 41,
     "metadata": {},
     "output_type": "execute_result"
    }
   ],
   "source": [
    "np.in1d(m,1)"
   ]
  },
  {
   "cell_type": "code",
   "execution_count": 42,
   "id": "706af2ea",
   "metadata": {},
   "outputs": [
    {
     "data": {
      "text/plain": [
       "array([110, 530,  24,  59,  35,  69,  33,  69,  27,  26,  96,  18,  62,\n",
       "        97,   1])"
      ]
     },
     "execution_count": 42,
     "metadata": {},
     "output_type": "execute_result"
    }
   ],
   "source": [
    "# np.clip\n",
    "a"
   ]
  },
  {
   "cell_type": "code",
   "execution_count": 43,
   "id": "7b17abbf",
   "metadata": {},
   "outputs": [
    {
     "data": {
      "text/plain": [
       "array([75, 75, 25, 59, 35, 69, 33, 69, 27, 26, 75, 25, 62, 75, 25])"
      ]
     },
     "execution_count": 43,
     "metadata": {},
     "output_type": "execute_result"
    }
   ],
   "source": [
    "np.clip(a,a_min=25,a_max=75)"
   ]
  }
 ],
 "metadata": {
  "kernelspec": {
   "display_name": "Python 3",
   "language": "python",
   "name": "python3"
  },
  "language_info": {
   "codemirror_mode": {
    "name": "ipython",
    "version": 3
   },
   "file_extension": ".py",
   "mimetype": "text/x-python",
   "name": "python",
   "nbconvert_exporter": "python",
   "pygments_lexer": "ipython3",
   "version": "3.11.9"
  }
 },
 "nbformat": 4,
 "nbformat_minor": 5
}
