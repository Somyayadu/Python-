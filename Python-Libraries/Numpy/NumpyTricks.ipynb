{
 "cells": [
  {
   "cell_type": "markdown",
   "id": "70fe5a42",
   "metadata": {},
   "source": [
    "Python Day - 15 \n",
    "\n",
    "Numpy Tricks"
   ]
  },
  {
   "cell_type": "code",
   "execution_count": null,
   "id": "28ba5b89",
   "metadata": {},
   "outputs": [
    {
     "data": {
      "text/plain": [
       "array([18, 71, 87, 81, 14, 53, 36, 20, 74, 92,  7, 88, 99, 73,  6])"
      ]
     },
     "execution_count": 2,
     "metadata": {},
     "output_type": "execute_result"
    }
   ],
   "source": [
    "# np.sort \n",
    "\n",
    "import numpy  as np\n",
    "\n",
    "a = np.random.randint(1,100,15)\n",
    "a"
   ]
  },
  {
   "cell_type": "code",
   "execution_count": 3,
   "id": "ab57477c",
   "metadata": {},
   "outputs": [
    {
     "data": {
      "text/plain": [
       "array([[53, 47, 37, 84],\n",
       "       [61, 53, 20,  1],\n",
       "       [19, 57, 44, 30],\n",
       "       [21, 15, 81, 11],\n",
       "       [24, 11, 97, 64],\n",
       "       [95, 27, 84, 94]])"
      ]
     },
     "execution_count": 3,
     "metadata": {},
     "output_type": "execute_result"
    }
   ],
   "source": [
    "b = np.random.randint(1,100,24).reshape(6,4)\n",
    "b"
   ]
  },
  {
   "cell_type": "code",
   "execution_count": 4,
   "id": "ec1db584",
   "metadata": {},
   "outputs": [
    {
     "data": {
      "text/plain": [
       "array([ 6,  7, 14, 18, 20, 36, 53, 71, 73, 74, 81, 87, 88, 92, 99])"
      ]
     },
     "execution_count": 4,
     "metadata": {},
     "output_type": "execute_result"
    }
   ],
   "source": [
    "np.sort(a)"
   ]
  },
  {
   "cell_type": "code",
   "execution_count": 6,
   "id": "a352afd9",
   "metadata": {},
   "outputs": [
    {
     "data": {
      "text/plain": [
       "array([[19, 11, 20,  1],\n",
       "       [21, 15, 37, 11],\n",
       "       [24, 27, 44, 30],\n",
       "       [53, 47, 81, 64],\n",
       "       [61, 53, 84, 84],\n",
       "       [95, 57, 97, 94]])"
      ]
     },
     "execution_count": 6,
     "metadata": {},
     "output_type": "execute_result"
    }
   ],
   "source": [
    "np.sort(b,axis=0)"
   ]
  },
  {
   "cell_type": "code",
   "execution_count": 12,
   "id": "41cce551",
   "metadata": {},
   "outputs": [
    {
     "data": {
      "text/plain": [
       "array([ 18,  71,  87,  81,  14,  53,  36,  20,  74,  92,   7,  88,  99,\n",
       "        73,   6, 200])"
      ]
     },
     "execution_count": 12,
     "metadata": {},
     "output_type": "execute_result"
    }
   ],
   "source": [
    "# np.append \n",
    "a\n",
    "np.append(a,200)"
   ]
  },
  {
   "cell_type": "code",
   "execution_count": 14,
   "id": "62ae7db4",
   "metadata": {},
   "outputs": [
    {
     "data": {
      "text/plain": [
       "array([[5.30000000e+01, 4.70000000e+01, 3.70000000e+01, 8.40000000e+01,\n",
       "        5.84574486e-01],\n",
       "       [6.10000000e+01, 5.30000000e+01, 2.00000000e+01, 1.00000000e+00,\n",
       "        1.23235477e-01],\n",
       "       [1.90000000e+01, 5.70000000e+01, 4.40000000e+01, 3.00000000e+01,\n",
       "        4.90680715e-02],\n",
       "       [2.10000000e+01, 1.50000000e+01, 8.10000000e+01, 1.10000000e+01,\n",
       "        9.67646469e-01],\n",
       "       [2.40000000e+01, 1.10000000e+01, 9.70000000e+01, 6.40000000e+01,\n",
       "        4.16670788e-01],\n",
       "       [9.50000000e+01, 2.70000000e+01, 8.40000000e+01, 9.40000000e+01,\n",
       "        5.98629935e-01]])"
      ]
     },
     "execution_count": 14,
     "metadata": {},
     "output_type": "execute_result"
    }
   ],
   "source": [
    "np.append(b,np.random.random((b.shape[0],1)),axis=1)"
   ]
  },
  {
   "cell_type": "code",
   "execution_count": 15,
   "id": "1027a72a",
   "metadata": {},
   "outputs": [
    {
     "name": "stdout",
     "output_type": "stream",
     "text": [
      "[[0 1 2]\n",
      " [3 4 5]]\n",
      "[[ 6  7  8]\n",
      " [ 9 10 11]]\n"
     ]
    }
   ],
   "source": [
    "# np.concatend\n",
    "\n",
    "c= np.arange(6).reshape(2,3)\n",
    "d= np.arange(6,12).reshape(2,3)\n",
    "\n",
    "print(c)\n",
    "print(d)"
   ]
  },
  {
   "cell_type": "code",
   "execution_count": 17,
   "id": "7cc5b74a",
   "metadata": {},
   "outputs": [
    {
     "data": {
      "text/plain": [
       "array([[ 0,  1,  2],\n",
       "       [ 3,  4,  5],\n",
       "       [ 6,  7,  8],\n",
       "       [ 9, 10, 11]])"
      ]
     },
     "execution_count": 17,
     "metadata": {},
     "output_type": "execute_result"
    }
   ],
   "source": [
    "np.concatenate((c,d),axis=0)"
   ]
  },
  {
   "cell_type": "code",
   "execution_count": 18,
   "id": "f75fe4a1",
   "metadata": {},
   "outputs": [
    {
     "data": {
      "text/plain": [
       "array([[ 0,  1,  2,  6,  7,  8],\n",
       "       [ 3,  4,  5,  9, 10, 11]])"
      ]
     },
     "execution_count": 18,
     "metadata": {},
     "output_type": "execute_result"
    }
   ],
   "source": [
    "np.concatenate((c,d),axis=1)"
   ]
  },
  {
   "cell_type": "code",
   "execution_count": 19,
   "id": "15dd9f40",
   "metadata": {},
   "outputs": [
    {
     "name": "stdout",
     "output_type": "stream",
     "text": [
      "[1 1 2 2 3 3 4 4 5 5 6 6]\n",
      "[[1 2 3 1]\n",
      " [1 2 3 2]]\n"
     ]
    }
   ],
   "source": [
    "# np.unique\n",
    "\n",
    "e= np.array([1,1,2,2,3,3,4,4,5,5,6,6])\n",
    "f= np.array([[1,2,3,1],[1,2,3,2]]) \n",
    "\n",
    "print(e)\n",
    "print(f)"
   ]
  },
  {
   "cell_type": "code",
   "execution_count": 20,
   "id": "1194cb6d",
   "metadata": {},
   "outputs": [
    {
     "data": {
      "text/plain": [
       "array([1, 2, 3, 4, 5, 6])"
      ]
     },
     "execution_count": 20,
     "metadata": {},
     "output_type": "execute_result"
    }
   ],
   "source": [
    "np.unique(e)"
   ]
  },
  {
   "cell_type": "code",
   "execution_count": 23,
   "id": "e9694270",
   "metadata": {},
   "outputs": [
    {
     "data": {
      "text/plain": [
       "(1, 15)"
      ]
     },
     "execution_count": 23,
     "metadata": {},
     "output_type": "execute_result"
    }
   ],
   "source": [
    "# np.expand_dims\n",
    "\n",
    "a\n",
    "\n",
    "np.expand_dims(a,axis=0).shape"
   ]
  },
  {
   "cell_type": "code",
   "execution_count": 25,
   "id": "44badc0f",
   "metadata": {},
   "outputs": [
    {
     "data": {
      "text/plain": [
       "array([[18],\n",
       "       [71],\n",
       "       [87],\n",
       "       [81],\n",
       "       [14],\n",
       "       [53],\n",
       "       [36],\n",
       "       [20],\n",
       "       [74],\n",
       "       [92],\n",
       "       [ 7],\n",
       "       [88],\n",
       "       [99],\n",
       "       [73],\n",
       "       [ 6]])"
      ]
     },
     "execution_count": 25,
     "metadata": {},
     "output_type": "execute_result"
    }
   ],
   "source": [
    "np.expand_dims(a,axis=1)"
   ]
  },
  {
   "cell_type": "code",
   "execution_count": null,
   "id": "c529e0f6",
   "metadata": {},
   "outputs": [
    {
     "data": {
      "text/plain": [
       "array([18, 71, 87, 81, 14, 53, 36, 20, 74, 92,  7, 88, 99, 73,  6])"
      ]
     },
     "execution_count": 26,
     "metadata": {},
     "output_type": "execute_result"
    }
   ],
   "source": [
    "# np.where      \n",
    "a"
   ]
  },
  {
   "cell_type": "code",
   "execution_count": 27,
   "id": "3026e151",
   "metadata": {},
   "outputs": [
    {
     "data": {
      "text/plain": [
       "(array([ 1,  2,  3,  5,  8,  9, 11, 12, 13], dtype=int64),)"
      ]
     },
     "execution_count": 27,
     "metadata": {},
     "output_type": "execute_result"
    }
   ],
   "source": [
    "np.where(a>50)"
   ]
  },
  {
   "cell_type": "code",
   "execution_count": 28,
   "id": "559ffcd4",
   "metadata": {},
   "outputs": [
    {
     "data": {
      "text/plain": [
       "array([18,  0,  0,  0, 14,  0, 36, 20,  0,  0,  7,  0,  0,  0,  6])"
      ]
     },
     "execution_count": 28,
     "metadata": {},
     "output_type": "execute_result"
    }
   ],
   "source": [
    "np.where(a>50,0,a)"
   ]
  },
  {
   "cell_type": "code",
   "execution_count": 30,
   "id": "b164d7a5",
   "metadata": {},
   "outputs": [
    {
     "data": {
      "text/plain": [
       "array([18, 71, 87, 81, 14, 53, 36, 20, 74, 92,  7, 88, 99, 73,  6])"
      ]
     },
     "execution_count": 30,
     "metadata": {},
     "output_type": "execute_result"
    }
   ],
   "source": [
    "a"
   ]
  },
  {
   "cell_type": "code",
   "execution_count": 33,
   "id": "6dc268ed",
   "metadata": {},
   "outputs": [
    {
     "data": {
      "text/plain": [
       "12"
      ]
     },
     "execution_count": 33,
     "metadata": {},
     "output_type": "execute_result"
    }
   ],
   "source": [
    "# np.argmax\n",
    "np.argmax(a)"
   ]
  },
  {
   "cell_type": "code",
   "execution_count": 31,
   "id": "f992a49b",
   "metadata": {},
   "outputs": [
    {
     "data": {
      "text/plain": [
       "array([[53, 47, 37, 84],\n",
       "       [61, 53, 20,  1],\n",
       "       [19, 57, 44, 30],\n",
       "       [21, 15, 81, 11],\n",
       "       [24, 11, 97, 64],\n",
       "       [95, 27, 84, 94]])"
      ]
     },
     "execution_count": 31,
     "metadata": {},
     "output_type": "execute_result"
    }
   ],
   "source": [
    "b"
   ]
  },
  {
   "cell_type": "code",
   "execution_count": 32,
   "id": "b3443bf9",
   "metadata": {},
   "outputs": [
    {
     "data": {
      "text/plain": [
       "array([3, 0, 1, 2, 2, 0], dtype=int64)"
      ]
     },
     "execution_count": 32,
     "metadata": {},
     "output_type": "execute_result"
    }
   ],
   "source": [
    "np.argmax(b,axis=1)"
   ]
  },
  {
   "cell_type": "code",
   "execution_count": 34,
   "id": "d3fe1a78",
   "metadata": {},
   "outputs": [
    {
     "data": {
      "text/plain": [
       "array([18, 71, 87, 81, 14, 53, 36, 20, 74, 92,  7, 88, 99, 73,  6])"
      ]
     },
     "execution_count": 34,
     "metadata": {},
     "output_type": "execute_result"
    }
   ],
   "source": [
    "# np.cumsum\n",
    "a"
   ]
  },
  {
   "cell_type": "code",
   "execution_count": 35,
   "id": "1a283c16",
   "metadata": {},
   "outputs": [
    {
     "data": {
      "text/plain": [
       "array([ 18,  89, 176, 257, 271, 324, 360, 380, 454, 546, 553, 641, 740,\n",
       "       813, 819])"
      ]
     },
     "execution_count": 35,
     "metadata": {},
     "output_type": "execute_result"
    }
   ],
   "source": [
    "np.cumsum(a)"
   ]
  },
  {
   "cell_type": "code",
   "execution_count": 36,
   "id": "64fbc495",
   "metadata": {},
   "outputs": [
    {
     "data": {
      "text/plain": [
       "array([[53, 47, 37, 84],\n",
       "       [61, 53, 20,  1],\n",
       "       [19, 57, 44, 30],\n",
       "       [21, 15, 81, 11],\n",
       "       [24, 11, 97, 64],\n",
       "       [95, 27, 84, 94]])"
      ]
     },
     "execution_count": 36,
     "metadata": {},
     "output_type": "execute_result"
    }
   ],
   "source": [
    "b"
   ]
  },
  {
   "cell_type": "code",
   "execution_count": 37,
   "id": "3774daff",
   "metadata": {},
   "outputs": [
    {
     "data": {
      "text/plain": [
       "array([  53,  100,  137,  221,  282,  335,  355,  356,  375,  432,  476,\n",
       "        506,  527,  542,  623,  634,  658,  669,  766,  830,  925,  952,\n",
       "       1036, 1130])"
      ]
     },
     "execution_count": 37,
     "metadata": {},
     "output_type": "execute_result"
    }
   ],
   "source": [
    "np.cumsum(b)"
   ]
  },
  {
   "cell_type": "code",
   "execution_count": 38,
   "id": "2c009148",
   "metadata": {},
   "outputs": [
    {
     "data": {
      "text/plain": [
       "array([18, 71, 87, 81, 14, 53, 36, 20, 74, 92,  7, 88, 99, 73,  6])"
      ]
     },
     "execution_count": 38,
     "metadata": {},
     "output_type": "execute_result"
    }
   ],
   "source": [
    "# np.percentile\n",
    "a"
   ]
  },
  {
   "cell_type": "code",
   "execution_count": 39,
   "id": "bc3fff33",
   "metadata": {},
   "outputs": [
    {
     "data": {
      "text/plain": [
       "99.0"
      ]
     },
     "execution_count": 39,
     "metadata": {},
     "output_type": "execute_result"
    }
   ],
   "source": [
    "np.percentile(a,100)"
   ]
  },
  {
   "cell_type": "code",
   "execution_count": 40,
   "id": "23867a92",
   "metadata": {},
   "outputs": [
    {
     "data": {
      "text/plain": [
       "71.0"
      ]
     },
     "execution_count": 40,
     "metadata": {},
     "output_type": "execute_result"
    }
   ],
   "source": [
    "np.median(a)"
   ]
  },
  {
   "cell_type": "code",
   "execution_count": 41,
   "id": "61fe005f",
   "metadata": {},
   "outputs": [
    {
     "data": {
      "text/plain": [
       "array([18, 71, 87, 81, 14, 53, 36, 20, 74, 92,  7, 88, 99, 73,  6])"
      ]
     },
     "execution_count": 41,
     "metadata": {},
     "output_type": "execute_result"
    }
   ],
   "source": [
    "# np.histogram\n",
    "a"
   ]
  },
  {
   "cell_type": "code",
   "execution_count": 42,
   "id": "0b12f972",
   "metadata": {},
   "outputs": [
    {
     "data": {
      "text/plain": [
       "(array([2, 2, 1, 1, 0, 1, 0, 3, 3, 2], dtype=int64),\n",
       " array([  0,  10,  20,  30,  40,  50,  60,  70,  80,  90, 100]))"
      ]
     },
     "execution_count": 42,
     "metadata": {},
     "output_type": "execute_result"
    }
   ],
   "source": [
    "np.histogram(a,bins=[0,10,20,30,40,50,60,70,80,90,100])"
   ]
  },
  {
   "cell_type": "code",
   "execution_count": 43,
   "id": "55fc11cf",
   "metadata": {},
   "outputs": [
    {
     "data": {
      "text/plain": [
       "array([[ 1.        , -0.13507933],\n",
       "       [-0.13507933,  1.        ]])"
      ]
     },
     "execution_count": 43,
     "metadata": {},
     "output_type": "execute_result"
    }
   ],
   "source": [
    "# np.corrcoef\n",
    "\n",
    "salary= np.array([2000,40000,50000,60000,700700]) \n",
    "exp = np.array([1,3,2,4,2])\n",
    "\n",
    "np.corrcoef(salary,exp)"
   ]
  },
  {
   "cell_type": "code",
   "execution_count": 45,
   "id": "b9cb6b41",
   "metadata": {},
   "outputs": [
    {
     "data": {
      "text/plain": [
       "array([False, False, False, False, False, False, False,  True, False,\n",
       "       False, False, False, False, False, False])"
      ]
     },
     "execution_count": 45,
     "metadata": {},
     "output_type": "execute_result"
    }
   ],
   "source": [
    "# np.isin\n",
    "a\n",
    "items=[10,20,30,40,50,60,70,80,90]\n",
    "np.isin(a,items)"
   ]
  },
  {
   "cell_type": "code",
   "execution_count": 47,
   "id": "053dcb0e",
   "metadata": {},
   "outputs": [
    {
     "data": {
      "text/plain": [
       "array([ 6, 73, 99, 88,  7, 92, 74, 20, 36, 53, 14, 81, 87, 71, 18])"
      ]
     },
     "execution_count": 47,
     "metadata": {},
     "output_type": "execute_result"
    }
   ],
   "source": [
    "# np.flip\n",
    "a\n",
    "np.flip(a)"
   ]
  },
  {
   "cell_type": "code",
   "execution_count": 48,
   "id": "68387e44",
   "metadata": {},
   "outputs": [],
   "source": [
    "# np.put\n",
    "np.put(a,[0,1],[110,530])"
   ]
  },
  {
   "cell_type": "code",
   "execution_count": 49,
   "id": "6823a21e",
   "metadata": {},
   "outputs": [
    {
     "data": {
      "text/plain": [
       "array([110, 530,  87,  81,  14,  53,  36,  20,  74,  92,   7,  88,  99,\n",
       "        73,   6])"
      ]
     },
     "execution_count": 49,
     "metadata": {},
     "output_type": "execute_result"
    }
   ],
   "source": [
    "a"
   ]
  },
  {
   "cell_type": "code",
   "execution_count": 52,
   "id": "00f47bcd",
   "metadata": {},
   "outputs": [
    {
     "data": {
      "text/plain": [
       "array([530,  87,  81,  14,  53,  36,  20,  74,  92,   7,  88,  99,  73,\n",
       "         6])"
      ]
     },
     "execution_count": 52,
     "metadata": {},
     "output_type": "execute_result"
    }
   ],
   "source": [
    "# np.delete\n",
    "a\n",
    "np.delete(a,0)"
   ]
  },
  {
   "cell_type": "markdown",
   "id": "e47095dc",
   "metadata": {},
   "source": [
    "Set Function"
   ]
  },
  {
   "cell_type": "code",
   "execution_count": 54,
   "id": "e88eb43d",
   "metadata": {},
   "outputs": [],
   "source": [
    "m=np.array([1,2,3,4,5,9])\n",
    "n=np.array([1,2,3,4,5,6,7])"
   ]
  },
  {
   "cell_type": "code",
   "execution_count": 55,
   "id": "695a415f",
   "metadata": {},
   "outputs": [
    {
     "data": {
      "text/plain": [
       "array([1, 2, 3, 4, 5, 6, 7, 9])"
      ]
     },
     "execution_count": 55,
     "metadata": {},
     "output_type": "execute_result"
    }
   ],
   "source": [
    "np.union1d(m,n)"
   ]
  },
  {
   "cell_type": "code",
   "execution_count": 56,
   "id": "05e2e4fc",
   "metadata": {},
   "outputs": [
    {
     "data": {
      "text/plain": [
       "array([1, 2, 3, 4, 5])"
      ]
     },
     "execution_count": 56,
     "metadata": {},
     "output_type": "execute_result"
    }
   ],
   "source": [
    "np.intersect1d(m,n)"
   ]
  },
  {
   "cell_type": "code",
   "execution_count": 57,
   "id": "a19a8182",
   "metadata": {},
   "outputs": [
    {
     "data": {
      "text/plain": [
       "array([9])"
      ]
     },
     "execution_count": 57,
     "metadata": {},
     "output_type": "execute_result"
    }
   ],
   "source": [
    "np.setdiff1d(m,n)"
   ]
  },
  {
   "cell_type": "code",
   "execution_count": 58,
   "id": "2654559d",
   "metadata": {},
   "outputs": [
    {
     "data": {
      "text/plain": [
       "array([6, 7, 9])"
      ]
     },
     "execution_count": 58,
     "metadata": {},
     "output_type": "execute_result"
    }
   ],
   "source": [
    "np.setxor1d(m,n)"
   ]
  },
  {
   "cell_type": "code",
   "execution_count": 59,
   "id": "ae9561d8",
   "metadata": {},
   "outputs": [
    {
     "data": {
      "text/plain": [
       "array([ True, False, False, False, False, False])"
      ]
     },
     "execution_count": 59,
     "metadata": {},
     "output_type": "execute_result"
    }
   ],
   "source": [
    "np.in1d(m,1)"
   ]
  },
  {
   "cell_type": "code",
   "execution_count": 60,
   "id": "706af2ea",
   "metadata": {},
   "outputs": [
    {
     "data": {
      "text/plain": [
       "array([110, 530,  87,  81,  14,  53,  36,  20,  74,  92,   7,  88,  99,\n",
       "        73,   6])"
      ]
     },
     "execution_count": 60,
     "metadata": {},
     "output_type": "execute_result"
    }
   ],
   "source": [
    "# np.clip\n",
    "a"
   ]
  },
  {
   "cell_type": "code",
   "execution_count": 62,
   "id": "7b17abbf",
   "metadata": {},
   "outputs": [
    {
     "data": {
      "text/plain": [
       "array([75, 75, 75, 75, 25, 53, 36, 25, 74, 75, 25, 75, 75, 73, 25])"
      ]
     },
     "execution_count": 62,
     "metadata": {},
     "output_type": "execute_result"
    }
   ],
   "source": [
    "np.clip(a,a_min=25,a_max=75)"
   ]
  }
 ],
 "metadata": {
  "kernelspec": {
   "display_name": "Python 3",
   "language": "python",
   "name": "python3"
  },
  "language_info": {
   "codemirror_mode": {
    "name": "ipython",
    "version": 3
   },
   "file_extension": ".py",
   "mimetype": "text/x-python",
   "name": "python",
   "nbconvert_exporter": "python",
   "pygments_lexer": "ipython3",
   "version": "3.11.9"
  }
 },
 "nbformat": 4,
 "nbformat_minor": 5
}
